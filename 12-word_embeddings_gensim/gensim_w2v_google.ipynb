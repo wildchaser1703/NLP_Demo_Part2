{
 "cells": [
  {
   "cell_type": "markdown",
   "metadata": {},
   "source": [
    "<h2 align=\"center\">NLP Tutorial:Text Classification USing Gensim Word Embeddings</h2>"
   ]
  },
  {
   "cell_type": "markdown",
   "metadata": {
    "id": "jXLaHWbcL1Xv"
   },
   "source": [
    "Load Google News Word2vec model from gensim library"
   ]
  },
  {
   "cell_type": "code",
   "execution_count": 13,
   "metadata": {
    "colab": {
     "base_uri": "https://localhost:8080/"
    },
    "id": "8ukyzNAyBaPw",
    "outputId": "1ff883a7-ac8f-458c-f41f-aa1e2c81eb20"
   },
   "outputs": [],
   "source": [
    "import gensim.downloader as api\n",
    "import numpy as np\n",
    "wv = api.load('word2vec-google-news-300')"
   ]
  },
  {
   "cell_type": "code",
   "execution_count": 14,
   "metadata": {
    "id": "qOR83YfLJRXG"
   },
   "outputs": [
    {
     "data": {
      "text/plain": [
       "0.729151"
      ]
     },
     "execution_count": 14,
     "metadata": {},
     "output_type": "execute_result"
    }
   ],
   "source": [
    "wv.similarity(w1=\"great\", w2=\"good\")"
   ]
  },
  {
   "cell_type": "code",
   "execution_count": 15,
   "metadata": {},
   "outputs": [],
   "source": [
    "wv_great = wv[\"great\"]\n",
    "wv_good = wv[\"good\"]"
   ]
  },
  {
   "cell_type": "code",
   "execution_count": 16,
   "metadata": {},
   "outputs": [
    {
     "data": {
      "text/plain": [
       "((300,), (300,))"
      ]
     },
     "execution_count": 16,
     "metadata": {},
     "output_type": "execute_result"
    }
   ],
   "source": [
    "wv_great.shape, wv_good.shape"
   ]
  },
  {
   "cell_type": "markdown",
   "metadata": {
    "id": "EDNq8C5rMEI2"
   },
   "source": [
    "### **Fake vs Real News Classification Using This Word2Vec Embeddings**"
   ]
  },
  {
   "cell_type": "markdown",
   "metadata": {
    "id": "8n8FcENNMNYU"
   },
   "source": [
    "- Fake news refers to misinformation or disinformation in the country which is spread through word of mouth and more recently through digital communication such as What's app messages, social media posts, etc.\n",
    "\n",
    "- Fake news spreads faster than real news and creates problems and fear among groups and in society.\n",
    "\n",
    "- We are going to address these problems using classical NLP techniques and going to classify whether a given message/ text is **Real or Fake Message**.\n",
    "\n",
    "- We will use **glove embeddings** from spacy which is trained on massive wikipedia dataset to pre-process and text vectorization and apply different classification algorithms.\n"
   ]
  },
  {
   "cell_type": "markdown",
   "metadata": {
    "id": "21PuUZq9MPhu"
   },
   "source": [
    "### Dataset\n",
    "\n",
    "Credits: https://www.kaggle.com/datasets/clmentbisaillon/fake-and-real-news-dataset\n",
    "\n",
    "\n",
    "- This data consists of two columns.\n",
    "        - Text\n",
    "        - label\n",
    "- Text is the statements or messages regarding a particular event/situation.\n",
    "\n",
    "- label feature tells whether the given text is Fake or Real.\n",
    "\n",
    "- As there are only 2 classes, this problem comes under the **Binary Classification.**\n"
   ]
  },
  {
   "cell_type": "code",
   "execution_count": 17,
   "metadata": {
    "colab": {
     "base_uri": "https://localhost:8080/",
     "height": 224
    },
    "id": "H3ij_XmtBaKP",
    "outputId": "948a24d6-c0fb-45ae-a581-f9545da1a318"
   },
   "outputs": [
    {
     "name": "stdout",
     "output_type": "stream",
     "text": [
      "(9900, 2)\n"
     ]
    },
    {
     "data": {
      "application/vnd.microsoft.datawrangler.viewer.v0+json": {
       "columns": [
        {
         "name": "index",
         "rawType": "int64",
         "type": "integer"
        },
        {
         "name": "Text",
         "rawType": "object",
         "type": "string"
        },
        {
         "name": "label",
         "rawType": "object",
         "type": "string"
        }
       ],
       "ref": "64ca0112-2419-4ee9-8c87-c1cc1d2d40d4",
       "rows": [
        [
         "0",
         " Top Trump Surrogate BRUTALLY Stabs Him In The Back: ‘He’s Pathetic’ (VIDEO) It s looking as though Republican presidential candidate Donald Trump is losing support even from within his own ranks. You know things are getting bad when even your top surrogates start turning against you, which is exactly what just happened on Fox News when Newt Gingrich called Trump  pathetic. Gingrich knows that Trump needs to keep his focus on Hillary Clinton if he even remotely wants to have a chance at defeating her. However, Trump has hurt feelings because many Republicans don t support his sexual assault against women have turned against him, including House Speaker Paul Ryan (R-WI). So, that has made Trump lash out as his own party.Gingrich said on Fox News: Look, first of all, let me just say about Trump, who I admire and I ve tried to help as much as I can. There s a big Trump and a little Trump. The little Trump is frankly pathetic. I mean, he s mad over not getting a phone call? Trump s referring to the fact that Paul Ryan didn t call to congratulate him after the debate. Probably because he didn t win despite what Trump s ego tells him.Gingrich also added: Donald Trump has one opponent. Her name is Hillary Clinton. Her name is not Paul Ryan. It s not anybody else. Trump doesn t seem to realize that the person he should be mad at is himself because he truly is his own worst enemy. This will ultimately lead to his defeat and he will have no one to blame but himself.Watch here via Politico:Featured Photo by Joe Raedle/Getty Images",
         "Fake"
        ],
        [
         "1",
         "U.S. conservative leader optimistic of common ground on healthcare WASHINGTON (Reuters) - Republicans in the U.S. House of Representatives could achieve common ground on a deal to win support for healthcare legislation on Thursday, after President Donald Trump intervened in negotiations, a conservative leader said on Wednesday. “We’re not there yet, but we’re very optimistic that if we work around the clock between now and Noon tomorrow, that we’re going to be able to hopefully find some common ground,” Representative Mark Meadows, chairman of the conservative House Freedom Caucus, told reporters. Meadows’ group has opposed House Republican healthcare legislation up to now and threatened earlier in the day to block its passage in a Thursday vote.  ",
         "Real"
        ],
        [
         "2",
         "Trump proposes U.S. tax overhaul, stirs concerns on deficit WASHINGTON (Reuters) - President Donald Trump proposed on Wednesday the biggest U.S. tax overhaul in three decades, calling for tax cuts for most Americans, but prompting criticism that the plan favors business and the rich and could add trillions of dollars to the deficit. The proposal drew a swift, skeptical response from Senator Bob Corker, a leading Republican “fiscal hawk,” who vowed not to vote for any federal tax package financed with borrowed money. “What I can tell you is that I’m not about to vote for any bill that increases our deficit, period,” Corker, who said on Tuesday he would not seek re-election in 2018, told reporters. Trump said his tax plan was aimed at helping working people, creating jobs and making the tax code simpler and fairer. But it faces an uphill battle in the U.S. Congress with Trump’s own Republican Party divided over it and Democrats hostile. The plan would lower corporate and small-business income tax rates, reduce the top income tax rate for high-earning American individuals and scrap some popular tax breaks, including one that benefits people in high-tax states dominated by Democrats. Forged during months of talks among Trump’s aides and top congressional Republicans, the plan contained few details on how to pay for the tax cuts without expanding the budget deficit and adding to the nation’s $20 trillion national debt. The plan still must be turned into legislation, which was not expected until after Congress makes progress on the fiscal 2018 budget, perhaps in October. It must then be debated by the Republican-led congressional tax-writing committees. Analysts were skeptical that Congress could approve a tax bill this year, but that is what Republicans hope to achieve so they can enter next year’s congressional election campaigns with at least one legislative achievement to show for 2017. Financial markets rallied on the plan’s unveiling, an event long anticipated by traders betting that stocks would benefit from both faster economic growth and inflation. At an event in Indianapolis, Trump called the plan the largest tax cut in U.S. history. “We want tax reform that is pro-growth, pro-jobs, pro-worker, pro-family and, yes, tax reform that is pro-American,” he said. The real estate mogul-turned-politician, who promised big tax cuts as a candidate, told reporters he personally would not gain financially from the proposal. “I think there’s very little benefit for people of wealth,” said Trump, who unlike many of his White House predecessors, has refused to make public his own tax returns. Republicans have produced no major legislative successes since Trump took office in January, even though they control the White House and both chambers of Congress. Their top legislative priority, overhauling the U.S. healthcare system, collapsed again in the Senate on Tuesday. A comprehensive rewrite of the U.S. tax code has eluded previous presidents and Congress for decades. The last one was passed in 1986 under Republican President Ronald Reagan. Trump’s plan falls short of the sweeping, bipartisan package crafted by Reagan and congressional Democrats, analysts said. The White House said that, under the proposal, typical middle-class families would have less income subject to federal tax. Trump said the first $12,000 earned by an individual and the first $24,000 by a married couple would be tax-free. The plan would lower the top individual tax rate, paid by the nation’s top earners, to 35 percent from 39.6 percent. It would lower the top corporate income tax rate to 20 percent from the current 35 percent. The existing rate is high globally, but many U.S.-based multinationals pay much less than the headline rate because of abundant loopholes and tax breaks. Trump has appealed to Democrats to back the plan, although they were not consulted in drafting it. Republicans hold a thin 52-48 Senate majority and may need some Democratic support to win passage. But Democrats said the plan would expand the federal deficit in order to deliver tax cuts to wealthy Americans rather than the middle-class families that Trump and Republicans say they are trying to help.  “If this framework is all about the middle class, then Trump Tower is middle-class housing,” said Senator Ron Wyden, the top Democrat on the tax law-writing Senate Finance Committee.      Republican Kevin Brady, chairman of the tax-writing House of Representatives Ways and Means Committee, said he expected tax legislation to be passed by the end of this year. The Committee for a Responsible Federal Budget, a Washington-based policy group, estimated on Wednesday the plan contained about $5.8 trillion of total tax cuts over a decade and would have a net cost of $2.2 trillion through 2027. Analysts have warned huge tax cuts would balloon the deficit if economic growth projected by Republicans to offset the costs fails to materialize amid rising interest rates. ‘PASS-THROUGH’ RATE The plan would set a new 25 percent tax rate for “pass-through” businesses, which are usually small, private enterprises, such as partnerships and sole proprietorships. They represent about 95 percent of all U.S. businesses. Under current law, the profits of those companies “pass through” directly to their owners and are taxed as personal income, often at the top 39.6 percent individual income rate. Cutting that to 25 percent could mean big tax savings for small-business owners, but also be vulnerable to abuse by other individuals and companies, analysts said. Republicans proposed eliminating some tax deductions. They did not target the popular ones for mortgage interest and charitable giving, but called for scrapping the one for state and local tax payments. That could especially hurt people in high-tax states like California and New York. In a step to simplify tax returns, the plan would shrink the current seven tax brackets to three: 12 percent, 25 percent and 35 percent. That would raise the bottom tax rate on low-earning Americans to 12 percent from 10 percent, but analysts said other parts of the plan would still mean a net tax cut. ",
         "Real"
        ],
        [
         "3",
         " Court Forces Ohio To Allow Millions Of Illegally Purged Voters Back On The Rolls Donald Trump is semi-right: this election might be rigged. However, this election is rigged against the people, not him.Take a look at Ohio, a key battleground state in the never-ending 2016 election. After purging more than two million voters from the roles, a high court smacked down Republican Secretary of State John Hustad for violating the National Voter Registration Act.Hustad s purge, which included some dead people and those who moved out of state, also included those who moved in the same county and those who have not voted in past elections (at least since 2011). Those who were purged were overwhelmingly black, low-income and Democratic voters. A Reuters investigation found that in the state s major cities (Cleveland, Columbus, and Cincinnati) the voters in Democratic-leaning neighborhoods and precincts were illegally purged at twice the rate as in Republican.So, on Wednesday night, while everyone was watching the final presidential debate (in which Trump again claimed the election is rigged against him), the United States District Court for the Southern District of Ohio, at the behest of Republican appointee Judge George C. Smith, ordered the voters   save the dead and moved   back onto the rolls immediately and have their voting rights restored.Judge Smith accused Hustad of voter disenfranchisement, writing:If those who were unlawfully removed from the voter rolls are not allowed to vote, then the Secretary of State is continuing to to disenfranchise voters in violation of federal law.The case was originally heard by the 6th U.S. Circuit Court of Appeals, which also ruled against Hustad, but was sent back to the District Court for a rehearing. Obviously, both courts realized the illegal power grab by the state at the behest of the GOP, and they weren t having it.Time and time again the courts have struck down illegal rigging practices by the Republicans, thus saving the nation from an unbalanced electoral system. Voting is a right in this country, and partisan politicos should not have the power to take it away just because.If anyone can complain about a rigged election, it s Hillary Clinton.Featured image via John Sommers II/Getty Images",
         "Fake"
        ],
        [
         "4",
         "Democrats say Trump agrees to work on immigration bill, wall in dispute WASHINGTON (Reuters) - President Donald Trump and Democratic leaders in the U.S. Congress have agreed to work together on legislation to protect “Dreamers,” the illegal immigrants who were children when they entered the United States, the lawmakers said on Wednesday, although a dispute erupted over exactly what had been agreed. Following a dinner with Trump at the White House, Senate Democratic leader Chuck Schumer and House of Representatives Democratic leader Nancy Pelosi said the “productive meeting” focused on “DACA,” a program established by former President Barack Obama. “We agreed to enshrine the protections of DACA (Deferred Action for Childhood Arrivals) into law quickly, and to work out a package of border security, excluding the wall, that’s acceptable to both sides,” Schumer and Pelosi said in a statement. All year, Democrats have insisted that they will block any legislation that contains funding for a wall along the length of the U.S. border with Mexico, a top Trump campaign goal that many Republicans in Congress also do not support. While White House officials have suggested legislation on DACA could move forward without wall funding, White House spokeswoman Sarah Sanders disputed the characterization that a deal had been reached to leave it out of any legislation focused on the Dreamers. “While DACA and border security were both discussed, excluding the wall was certainly not agreed to,” she said on Twitter. Throughout his 2016 campaign for president and since taking office in January, Trump has demanded the construction of a wall to keep out illegal immigrants and drugs. He initially said Mexico would pay for the wall but has requested money from the U.S. Congress after the government of Mexico refused to pay. The dinner was the latest effort in a new initiative by Trump to work with opposition party Democrats on major legislation. Following the dinner, a White House official said the president, Schumer and Pelosi discussed tax reform, immigration, border security, infrastructure investments and trade as part of Trump’s bid to reach out to Democrats. “The administration looks forward to continuing these conversations with leadership on both sides of the aisle,” the official said. Over a dinner of Chinese food, Trump and the Democratic leaders also discussed issues related to U.S.-China trade, according to a congressional aide briefed on the meeting. Schumer and Pelosi also said that they urged Trump to make permanent government subsidy payments under the Affordable Care Act, also known as “Obamacare.” “Those discussions will continue,” the lawmakers said. Trump and most Republicans in Congress have demanded the repeal of Obamacare but have been unable to agree on a replacement for the healthcare program that became law in 2010. Using his executive powers, Trump canceled Obama’s DACA program in which about 800,000 undocumented young people have escaped the threat of deportation and been able to apply for work permits in the United States. Trump argued that Obama over-stepped his authority in creating the program. But Trump gave Congress six months to come up with a replacement program in the form of legislation to be enacted into law. Democratic Representative Henry Cuellar, who attended a White House meeting with Trump earlier on Wednesday, told reporters the president said he would not insist on wall funding as part of a Dreamers bill, but would pursue it on other, future legislation. Cuellar said Trump urged lawmakers to link a Republican bill to cut legal immigration to the United States with protections for Dreamers. But many Democrats oppose lowering the cap on annual legal immigration. ",
         "Real"
        ]
       ],
       "shape": {
        "columns": 2,
        "rows": 5
       }
      },
      "text/html": [
       "<div>\n",
       "<style scoped>\n",
       "    .dataframe tbody tr th:only-of-type {\n",
       "        vertical-align: middle;\n",
       "    }\n",
       "\n",
       "    .dataframe tbody tr th {\n",
       "        vertical-align: top;\n",
       "    }\n",
       "\n",
       "    .dataframe thead th {\n",
       "        text-align: right;\n",
       "    }\n",
       "</style>\n",
       "<table border=\"1\" class=\"dataframe\">\n",
       "  <thead>\n",
       "    <tr style=\"text-align: right;\">\n",
       "      <th></th>\n",
       "      <th>Text</th>\n",
       "      <th>label</th>\n",
       "    </tr>\n",
       "  </thead>\n",
       "  <tbody>\n",
       "    <tr>\n",
       "      <th>0</th>\n",
       "      <td>Top Trump Surrogate BRUTALLY Stabs Him In The...</td>\n",
       "      <td>Fake</td>\n",
       "    </tr>\n",
       "    <tr>\n",
       "      <th>1</th>\n",
       "      <td>U.S. conservative leader optimistic of common ...</td>\n",
       "      <td>Real</td>\n",
       "    </tr>\n",
       "    <tr>\n",
       "      <th>2</th>\n",
       "      <td>Trump proposes U.S. tax overhaul, stirs concer...</td>\n",
       "      <td>Real</td>\n",
       "    </tr>\n",
       "    <tr>\n",
       "      <th>3</th>\n",
       "      <td>Court Forces Ohio To Allow Millions Of Illega...</td>\n",
       "      <td>Fake</td>\n",
       "    </tr>\n",
       "    <tr>\n",
       "      <th>4</th>\n",
       "      <td>Democrats say Trump agrees to work on immigrat...</td>\n",
       "      <td>Real</td>\n",
       "    </tr>\n",
       "  </tbody>\n",
       "</table>\n",
       "</div>"
      ],
      "text/plain": [
       "                                                Text label\n",
       "0   Top Trump Surrogate BRUTALLY Stabs Him In The...  Fake\n",
       "1  U.S. conservative leader optimistic of common ...  Real\n",
       "2  Trump proposes U.S. tax overhaul, stirs concer...  Real\n",
       "3   Court Forces Ohio To Allow Millions Of Illega...  Fake\n",
       "4  Democrats say Trump agrees to work on immigrat...  Real"
      ]
     },
     "execution_count": 17,
     "metadata": {},
     "output_type": "execute_result"
    }
   ],
   "source": [
    "import pandas as pd\n",
    "\n",
    "#read the dataset with name \"Fake_Real_Data.csv\" and store it in a variable df\n",
    "df = pd.read_csv(\"fake_and_real_news.csv\")\n",
    "\n",
    "#print the shape of dataframe\n",
    "print(df.shape)\n",
    "\n",
    "#print top 5 rows\n",
    "df.head(5)"
   ]
  },
  {
   "cell_type": "code",
   "execution_count": 18,
   "metadata": {
    "colab": {
     "base_uri": "https://localhost:8080/"
    },
    "id": "upvt0Y63DLdt",
    "outputId": "86e66b38-7132-4ac6-9e8f-440a6c74ffa1"
   },
   "outputs": [
    {
     "data": {
      "application/vnd.microsoft.datawrangler.viewer.v0+json": {
       "columns": [
        {
         "name": "label",
         "rawType": "object",
         "type": "string"
        },
        {
         "name": "count",
         "rawType": "int64",
         "type": "integer"
        }
       ],
       "ref": "c18e769b-01f2-4754-93ab-2a5090d63490",
       "rows": [
        [
         "Fake",
         "5000"
        ],
        [
         "Real",
         "4900"
        ]
       ],
       "shape": {
        "columns": 1,
        "rows": 2
       }
      },
      "text/plain": [
       "label\n",
       "Fake    5000\n",
       "Real    4900\n",
       "Name: count, dtype: int64"
      ]
     },
     "execution_count": 18,
     "metadata": {},
     "output_type": "execute_result"
    }
   ],
   "source": [
    "#check the distribution of labels \n",
    "df['label'].value_counts()"
   ]
  },
  {
   "cell_type": "code",
   "execution_count": 19,
   "metadata": {
    "colab": {
     "base_uri": "https://localhost:8080/",
     "height": 206
    },
    "id": "3FuwvuFCBaNY",
    "outputId": "cae80a0f-e2de-4944-d3aa-8d59ca014cf9"
   },
   "outputs": [
    {
     "data": {
      "application/vnd.microsoft.datawrangler.viewer.v0+json": {
       "columns": [
        {
         "name": "index",
         "rawType": "int64",
         "type": "integer"
        },
        {
         "name": "Text",
         "rawType": "object",
         "type": "string"
        },
        {
         "name": "label",
         "rawType": "object",
         "type": "string"
        },
        {
         "name": "label_num",
         "rawType": "int64",
         "type": "integer"
        }
       ],
       "ref": "f0f9a981-613f-4726-835a-0275c1c3523c",
       "rows": [
        [
         "0",
         " Top Trump Surrogate BRUTALLY Stabs Him In The Back: ‘He’s Pathetic’ (VIDEO) It s looking as though Republican presidential candidate Donald Trump is losing support even from within his own ranks. You know things are getting bad when even your top surrogates start turning against you, which is exactly what just happened on Fox News when Newt Gingrich called Trump  pathetic. Gingrich knows that Trump needs to keep his focus on Hillary Clinton if he even remotely wants to have a chance at defeating her. However, Trump has hurt feelings because many Republicans don t support his sexual assault against women have turned against him, including House Speaker Paul Ryan (R-WI). So, that has made Trump lash out as his own party.Gingrich said on Fox News: Look, first of all, let me just say about Trump, who I admire and I ve tried to help as much as I can. There s a big Trump and a little Trump. The little Trump is frankly pathetic. I mean, he s mad over not getting a phone call? Trump s referring to the fact that Paul Ryan didn t call to congratulate him after the debate. Probably because he didn t win despite what Trump s ego tells him.Gingrich also added: Donald Trump has one opponent. Her name is Hillary Clinton. Her name is not Paul Ryan. It s not anybody else. Trump doesn t seem to realize that the person he should be mad at is himself because he truly is his own worst enemy. This will ultimately lead to his defeat and he will have no one to blame but himself.Watch here via Politico:Featured Photo by Joe Raedle/Getty Images",
         "Fake",
         "0"
        ],
        [
         "1",
         "U.S. conservative leader optimistic of common ground on healthcare WASHINGTON (Reuters) - Republicans in the U.S. House of Representatives could achieve common ground on a deal to win support for healthcare legislation on Thursday, after President Donald Trump intervened in negotiations, a conservative leader said on Wednesday. “We’re not there yet, but we’re very optimistic that if we work around the clock between now and Noon tomorrow, that we’re going to be able to hopefully find some common ground,” Representative Mark Meadows, chairman of the conservative House Freedom Caucus, told reporters. Meadows’ group has opposed House Republican healthcare legislation up to now and threatened earlier in the day to block its passage in a Thursday vote.  ",
         "Real",
         "1"
        ],
        [
         "2",
         "Trump proposes U.S. tax overhaul, stirs concerns on deficit WASHINGTON (Reuters) - President Donald Trump proposed on Wednesday the biggest U.S. tax overhaul in three decades, calling for tax cuts for most Americans, but prompting criticism that the plan favors business and the rich and could add trillions of dollars to the deficit. The proposal drew a swift, skeptical response from Senator Bob Corker, a leading Republican “fiscal hawk,” who vowed not to vote for any federal tax package financed with borrowed money. “What I can tell you is that I’m not about to vote for any bill that increases our deficit, period,” Corker, who said on Tuesday he would not seek re-election in 2018, told reporters. Trump said his tax plan was aimed at helping working people, creating jobs and making the tax code simpler and fairer. But it faces an uphill battle in the U.S. Congress with Trump’s own Republican Party divided over it and Democrats hostile. The plan would lower corporate and small-business income tax rates, reduce the top income tax rate for high-earning American individuals and scrap some popular tax breaks, including one that benefits people in high-tax states dominated by Democrats. Forged during months of talks among Trump’s aides and top congressional Republicans, the plan contained few details on how to pay for the tax cuts without expanding the budget deficit and adding to the nation’s $20 trillion national debt. The plan still must be turned into legislation, which was not expected until after Congress makes progress on the fiscal 2018 budget, perhaps in October. It must then be debated by the Republican-led congressional tax-writing committees. Analysts were skeptical that Congress could approve a tax bill this year, but that is what Republicans hope to achieve so they can enter next year’s congressional election campaigns with at least one legislative achievement to show for 2017. Financial markets rallied on the plan’s unveiling, an event long anticipated by traders betting that stocks would benefit from both faster economic growth and inflation. At an event in Indianapolis, Trump called the plan the largest tax cut in U.S. history. “We want tax reform that is pro-growth, pro-jobs, pro-worker, pro-family and, yes, tax reform that is pro-American,” he said. The real estate mogul-turned-politician, who promised big tax cuts as a candidate, told reporters he personally would not gain financially from the proposal. “I think there’s very little benefit for people of wealth,” said Trump, who unlike many of his White House predecessors, has refused to make public his own tax returns. Republicans have produced no major legislative successes since Trump took office in January, even though they control the White House and both chambers of Congress. Their top legislative priority, overhauling the U.S. healthcare system, collapsed again in the Senate on Tuesday. A comprehensive rewrite of the U.S. tax code has eluded previous presidents and Congress for decades. The last one was passed in 1986 under Republican President Ronald Reagan. Trump’s plan falls short of the sweeping, bipartisan package crafted by Reagan and congressional Democrats, analysts said. The White House said that, under the proposal, typical middle-class families would have less income subject to federal tax. Trump said the first $12,000 earned by an individual and the first $24,000 by a married couple would be tax-free. The plan would lower the top individual tax rate, paid by the nation’s top earners, to 35 percent from 39.6 percent. It would lower the top corporate income tax rate to 20 percent from the current 35 percent. The existing rate is high globally, but many U.S.-based multinationals pay much less than the headline rate because of abundant loopholes and tax breaks. Trump has appealed to Democrats to back the plan, although they were not consulted in drafting it. Republicans hold a thin 52-48 Senate majority and may need some Democratic support to win passage. But Democrats said the plan would expand the federal deficit in order to deliver tax cuts to wealthy Americans rather than the middle-class families that Trump and Republicans say they are trying to help.  “If this framework is all about the middle class, then Trump Tower is middle-class housing,” said Senator Ron Wyden, the top Democrat on the tax law-writing Senate Finance Committee.      Republican Kevin Brady, chairman of the tax-writing House of Representatives Ways and Means Committee, said he expected tax legislation to be passed by the end of this year. The Committee for a Responsible Federal Budget, a Washington-based policy group, estimated on Wednesday the plan contained about $5.8 trillion of total tax cuts over a decade and would have a net cost of $2.2 trillion through 2027. Analysts have warned huge tax cuts would balloon the deficit if economic growth projected by Republicans to offset the costs fails to materialize amid rising interest rates. ‘PASS-THROUGH’ RATE The plan would set a new 25 percent tax rate for “pass-through” businesses, which are usually small, private enterprises, such as partnerships and sole proprietorships. They represent about 95 percent of all U.S. businesses. Under current law, the profits of those companies “pass through” directly to their owners and are taxed as personal income, often at the top 39.6 percent individual income rate. Cutting that to 25 percent could mean big tax savings for small-business owners, but also be vulnerable to abuse by other individuals and companies, analysts said. Republicans proposed eliminating some tax deductions. They did not target the popular ones for mortgage interest and charitable giving, but called for scrapping the one for state and local tax payments. That could especially hurt people in high-tax states like California and New York. In a step to simplify tax returns, the plan would shrink the current seven tax brackets to three: 12 percent, 25 percent and 35 percent. That would raise the bottom tax rate on low-earning Americans to 12 percent from 10 percent, but analysts said other parts of the plan would still mean a net tax cut. ",
         "Real",
         "1"
        ],
        [
         "3",
         " Court Forces Ohio To Allow Millions Of Illegally Purged Voters Back On The Rolls Donald Trump is semi-right: this election might be rigged. However, this election is rigged against the people, not him.Take a look at Ohio, a key battleground state in the never-ending 2016 election. After purging more than two million voters from the roles, a high court smacked down Republican Secretary of State John Hustad for violating the National Voter Registration Act.Hustad s purge, which included some dead people and those who moved out of state, also included those who moved in the same county and those who have not voted in past elections (at least since 2011). Those who were purged were overwhelmingly black, low-income and Democratic voters. A Reuters investigation found that in the state s major cities (Cleveland, Columbus, and Cincinnati) the voters in Democratic-leaning neighborhoods and precincts were illegally purged at twice the rate as in Republican.So, on Wednesday night, while everyone was watching the final presidential debate (in which Trump again claimed the election is rigged against him), the United States District Court for the Southern District of Ohio, at the behest of Republican appointee Judge George C. Smith, ordered the voters   save the dead and moved   back onto the rolls immediately and have their voting rights restored.Judge Smith accused Hustad of voter disenfranchisement, writing:If those who were unlawfully removed from the voter rolls are not allowed to vote, then the Secretary of State is continuing to to disenfranchise voters in violation of federal law.The case was originally heard by the 6th U.S. Circuit Court of Appeals, which also ruled against Hustad, but was sent back to the District Court for a rehearing. Obviously, both courts realized the illegal power grab by the state at the behest of the GOP, and they weren t having it.Time and time again the courts have struck down illegal rigging practices by the Republicans, thus saving the nation from an unbalanced electoral system. Voting is a right in this country, and partisan politicos should not have the power to take it away just because.If anyone can complain about a rigged election, it s Hillary Clinton.Featured image via John Sommers II/Getty Images",
         "Fake",
         "0"
        ],
        [
         "4",
         "Democrats say Trump agrees to work on immigration bill, wall in dispute WASHINGTON (Reuters) - President Donald Trump and Democratic leaders in the U.S. Congress have agreed to work together on legislation to protect “Dreamers,” the illegal immigrants who were children when they entered the United States, the lawmakers said on Wednesday, although a dispute erupted over exactly what had been agreed. Following a dinner with Trump at the White House, Senate Democratic leader Chuck Schumer and House of Representatives Democratic leader Nancy Pelosi said the “productive meeting” focused on “DACA,” a program established by former President Barack Obama. “We agreed to enshrine the protections of DACA (Deferred Action for Childhood Arrivals) into law quickly, and to work out a package of border security, excluding the wall, that’s acceptable to both sides,” Schumer and Pelosi said in a statement. All year, Democrats have insisted that they will block any legislation that contains funding for a wall along the length of the U.S. border with Mexico, a top Trump campaign goal that many Republicans in Congress also do not support. While White House officials have suggested legislation on DACA could move forward without wall funding, White House spokeswoman Sarah Sanders disputed the characterization that a deal had been reached to leave it out of any legislation focused on the Dreamers. “While DACA and border security were both discussed, excluding the wall was certainly not agreed to,” she said on Twitter. Throughout his 2016 campaign for president and since taking office in January, Trump has demanded the construction of a wall to keep out illegal immigrants and drugs. He initially said Mexico would pay for the wall but has requested money from the U.S. Congress after the government of Mexico refused to pay. The dinner was the latest effort in a new initiative by Trump to work with opposition party Democrats on major legislation. Following the dinner, a White House official said the president, Schumer and Pelosi discussed tax reform, immigration, border security, infrastructure investments and trade as part of Trump’s bid to reach out to Democrats. “The administration looks forward to continuing these conversations with leadership on both sides of the aisle,” the official said. Over a dinner of Chinese food, Trump and the Democratic leaders also discussed issues related to U.S.-China trade, according to a congressional aide briefed on the meeting. Schumer and Pelosi also said that they urged Trump to make permanent government subsidy payments under the Affordable Care Act, also known as “Obamacare.” “Those discussions will continue,” the lawmakers said. Trump and most Republicans in Congress have demanded the repeal of Obamacare but have been unable to agree on a replacement for the healthcare program that became law in 2010. Using his executive powers, Trump canceled Obama’s DACA program in which about 800,000 undocumented young people have escaped the threat of deportation and been able to apply for work permits in the United States. Trump argued that Obama over-stepped his authority in creating the program. But Trump gave Congress six months to come up with a replacement program in the form of legislation to be enacted into law. Democratic Representative Henry Cuellar, who attended a White House meeting with Trump earlier on Wednesday, told reporters the president said he would not insist on wall funding as part of a Dreamers bill, but would pursue it on other, future legislation. Cuellar said Trump urged lawmakers to link a Republican bill to cut legal immigration to the United States with protections for Dreamers. But many Democrats oppose lowering the cap on annual legal immigration. ",
         "Real",
         "1"
        ]
       ],
       "shape": {
        "columns": 3,
        "rows": 5
       }
      },
      "text/html": [
       "<div>\n",
       "<style scoped>\n",
       "    .dataframe tbody tr th:only-of-type {\n",
       "        vertical-align: middle;\n",
       "    }\n",
       "\n",
       "    .dataframe tbody tr th {\n",
       "        vertical-align: top;\n",
       "    }\n",
       "\n",
       "    .dataframe thead th {\n",
       "        text-align: right;\n",
       "    }\n",
       "</style>\n",
       "<table border=\"1\" class=\"dataframe\">\n",
       "  <thead>\n",
       "    <tr style=\"text-align: right;\">\n",
       "      <th></th>\n",
       "      <th>Text</th>\n",
       "      <th>label</th>\n",
       "      <th>label_num</th>\n",
       "    </tr>\n",
       "  </thead>\n",
       "  <tbody>\n",
       "    <tr>\n",
       "      <th>0</th>\n",
       "      <td>Top Trump Surrogate BRUTALLY Stabs Him In The...</td>\n",
       "      <td>Fake</td>\n",
       "      <td>0</td>\n",
       "    </tr>\n",
       "    <tr>\n",
       "      <th>1</th>\n",
       "      <td>U.S. conservative leader optimistic of common ...</td>\n",
       "      <td>Real</td>\n",
       "      <td>1</td>\n",
       "    </tr>\n",
       "    <tr>\n",
       "      <th>2</th>\n",
       "      <td>Trump proposes U.S. tax overhaul, stirs concer...</td>\n",
       "      <td>Real</td>\n",
       "      <td>1</td>\n",
       "    </tr>\n",
       "    <tr>\n",
       "      <th>3</th>\n",
       "      <td>Court Forces Ohio To Allow Millions Of Illega...</td>\n",
       "      <td>Fake</td>\n",
       "      <td>0</td>\n",
       "    </tr>\n",
       "    <tr>\n",
       "      <th>4</th>\n",
       "      <td>Democrats say Trump agrees to work on immigrat...</td>\n",
       "      <td>Real</td>\n",
       "      <td>1</td>\n",
       "    </tr>\n",
       "  </tbody>\n",
       "</table>\n",
       "</div>"
      ],
      "text/plain": [
       "                                                Text label  label_num\n",
       "0   Top Trump Surrogate BRUTALLY Stabs Him In The...  Fake          0\n",
       "1  U.S. conservative leader optimistic of common ...  Real          1\n",
       "2  Trump proposes U.S. tax overhaul, stirs concer...  Real          1\n",
       "3   Court Forces Ohio To Allow Millions Of Illega...  Fake          0\n",
       "4  Democrats say Trump agrees to work on immigrat...  Real          1"
      ]
     },
     "execution_count": 19,
     "metadata": {},
     "output_type": "execute_result"
    }
   ],
   "source": [
    "#Add the new column which gives a unique number to each of these labels \n",
    "\n",
    "df['label_num'] = df['label'].map({'Fake' : 0, 'Real': 1})\n",
    "\n",
    "#check the results with top 5 rows\n",
    "df.head(5)"
   ]
  },
  {
   "cell_type": "markdown",
   "metadata": {},
   "source": [
    "#### Now we will convert the text into a vector using gensim's word2vec embeddings. \n",
    "#### We will do this in three steps,\n",
    "\n",
    "1. Preprocess the text to remove stop words, punctuations and get lemma for each word\n",
    "2. Get word vectors for each of the words in a pre-processed sentece\n",
    "3. Take a mean of all word vectors to derive the numeric representation of the entire news article"
   ]
  },
  {
   "cell_type": "markdown",
   "metadata": {},
   "source": [
    "First let's explore get_mean_vector api of gensim to see how it works"
   ]
  },
  {
   "cell_type": "code",
   "execution_count": 20,
   "metadata": {},
   "outputs": [],
   "source": [
    "r1 = np.mean([wv_good, wv_great],axis=0)"
   ]
  },
  {
   "cell_type": "code",
   "execution_count": 21,
   "metadata": {},
   "outputs": [
    {
     "data": {
      "text/plain": [
       "array([ 0.04052734,  0.0625    , -0.01745605,  0.07861328,  0.03271484],\n",
       "      dtype=float32)"
      ]
     },
     "execution_count": 21,
     "metadata": {},
     "output_type": "execute_result"
    }
   ],
   "source": [
    "wv_good[:5]"
   ]
  },
  {
   "cell_type": "code",
   "execution_count": 22,
   "metadata": {},
   "outputs": [
    {
     "data": {
      "text/plain": [
       "array([ 0.07177734,  0.20800781, -0.02844238,  0.17871094,  0.1328125 ],\n",
       "      dtype=float32)"
      ]
     },
     "execution_count": 22,
     "metadata": {},
     "output_type": "execute_result"
    }
   ],
   "source": [
    "wv_great[:5]"
   ]
  },
  {
   "cell_type": "code",
   "execution_count": 23,
   "metadata": {},
   "outputs": [
    {
     "data": {
      "text/plain": [
       "array([ 0.05615234,  0.1352539 , -0.02294922,  0.12866211,  0.08276367],\n",
       "      dtype=float32)"
      ]
     },
     "execution_count": 23,
     "metadata": {},
     "output_type": "execute_result"
    }
   ],
   "source": [
    "r1[:5]"
   ]
  },
  {
   "cell_type": "code",
   "execution_count": 24,
   "metadata": {},
   "outputs": [],
   "source": [
    "r2 = wv.get_mean_vector([\"good\", \"great\"],pre_normalize=False)"
   ]
  },
  {
   "cell_type": "code",
   "execution_count": 25,
   "metadata": {
    "scrolled": true
   },
   "outputs": [
    {
     "data": {
      "text/plain": [
       "array([ 0.05615234,  0.1352539 , -0.02294922,  0.12866211,  0.08276367],\n",
       "      dtype=float32)"
      ]
     },
     "execution_count": 25,
     "metadata": {},
     "output_type": "execute_result"
    }
   ],
   "source": [
    "r2[:5]"
   ]
  },
  {
   "cell_type": "markdown",
   "metadata": {
    "id": "ged-kUXTIdq5"
   },
   "source": [
    "Now let's write the function that can do preprocessing and vectorization both"
   ]
  },
  {
   "cell_type": "code",
   "execution_count": 26,
   "metadata": {
    "id": "5-CdpAtmIbjQ"
   },
   "outputs": [],
   "source": [
    "import spacy\n",
    "nlp = spacy.load(\"en_core_web_lg\") # if this fails then run \"python -m spacy download en_core_web_lg\" to download that model\n",
    "\n",
    "def preprocess_and_vectorize(text):\n",
    "    # remove stop words and lemmatize the text\n",
    "    doc = nlp(text)\n",
    "    filtered_tokens = []\n",
    "    for token in doc:\n",
    "        if token.is_stop or token.is_punct:\n",
    "            continue\n",
    "        filtered_tokens.append(token.lemma_)\n",
    "        \n",
    "    return wv.get_mean_vector(filtered_tokens)"
   ]
  },
  {
   "cell_type": "code",
   "execution_count": 27,
   "metadata": {},
   "outputs": [
    {
     "data": {
      "text/plain": [
       "(300,)"
      ]
     },
     "execution_count": 27,
     "metadata": {},
     "output_type": "execute_result"
    }
   ],
   "source": [
    "v = preprocess_and_vectorize(\"Don't worry if you don't understand\")\n",
    "v.shape"
   ]
  },
  {
   "cell_type": "code",
   "execution_count": 28,
   "metadata": {
    "id": "iOke8KXkIbmE"
   },
   "outputs": [],
   "source": [
    "#this query takes few minutes, so go get some walk :)\n",
    "\n",
    "df['vector'] = df['Text'].apply(lambda text: preprocess_and_vectorize(text))"
   ]
  },
  {
   "cell_type": "code",
   "execution_count": 29,
   "metadata": {
    "colab": {
     "base_uri": "https://localhost:8080/",
     "height": 206
    },
    "id": "jI5EobDLQE_o",
    "outputId": "69737b13-3fe3-43f7-ca4e-eddbf50da1b6"
   },
   "outputs": [
    {
     "data": {
      "application/vnd.microsoft.datawrangler.viewer.v0+json": {
       "columns": [
        {
         "name": "index",
         "rawType": "int64",
         "type": "integer"
        },
        {
         "name": "Text",
         "rawType": "object",
         "type": "string"
        },
        {
         "name": "label",
         "rawType": "object",
         "type": "string"
        },
        {
         "name": "label_num",
         "rawType": "int64",
         "type": "integer"
        },
        {
         "name": "vector",
         "rawType": "object",
         "type": "unknown"
        }
       ],
       "ref": "2a09a1f0-58dd-4c41-bc4e-aa0f9f6e4955",
       "rows": [
        [
         "0",
         " Top Trump Surrogate BRUTALLY Stabs Him In The Back: ‘He’s Pathetic’ (VIDEO) It s looking as though Republican presidential candidate Donald Trump is losing support even from within his own ranks. You know things are getting bad when even your top surrogates start turning against you, which is exactly what just happened on Fox News when Newt Gingrich called Trump  pathetic. Gingrich knows that Trump needs to keep his focus on Hillary Clinton if he even remotely wants to have a chance at defeating her. However, Trump has hurt feelings because many Republicans don t support his sexual assault against women have turned against him, including House Speaker Paul Ryan (R-WI). So, that has made Trump lash out as his own party.Gingrich said on Fox News: Look, first of all, let me just say about Trump, who I admire and I ve tried to help as much as I can. There s a big Trump and a little Trump. The little Trump is frankly pathetic. I mean, he s mad over not getting a phone call? Trump s referring to the fact that Paul Ryan didn t call to congratulate him after the debate. Probably because he didn t win despite what Trump s ego tells him.Gingrich also added: Donald Trump has one opponent. Her name is Hillary Clinton. Her name is not Paul Ryan. It s not anybody else. Trump doesn t seem to realize that the person he should be mad at is himself because he truly is his own worst enemy. This will ultimately lead to his defeat and he will have no one to blame but himself.Watch here via Politico:Featured Photo by Joe Raedle/Getty Images",
         "Fake",
         "0",
         "[ 8.52341950e-03  1.92634575e-02 -1.05774179e-02  3.22405472e-02\n -2.43408196e-02 -9.85798892e-03  1.63764972e-02 -1.97093524e-02\n  3.64537463e-02  8.96573439e-03 -2.17319932e-02 -2.82325353e-02\n -2.00690199e-02  3.02525926e-02 -2.52787657e-02  3.79361957e-02\n  2.75401846e-02  4.35126834e-02  6.39628479e-03 -3.54957618e-02\n -1.16706053e-02  9.71311796e-03  5.32654151e-02  3.69594269e-03\n  2.08252575e-02  1.03847422e-02 -3.01471744e-02  8.60992167e-03\n  3.01700123e-02 -6.91440515e-03 -9.95380525e-03  2.06304155e-02\n -3.66368070e-02 -1.05773639e-02  8.62868596e-03 -8.40112451e-04\n  1.77373961e-02  2.22640894e-02 -2.68024480e-04  2.67488621e-02\n  3.34113948e-02 -2.91619003e-02  5.02409041e-02  4.71396698e-03\n -3.12826447e-02 -1.24653531e-02 -4.85894643e-03 -5.16752072e-04\n  1.05723843e-03  3.27737853e-02 -2.78949887e-02  3.62665169e-02\n -1.04559027e-02 -4.34131222e-03  8.57202802e-03  9.48964525e-03\n -1.21000577e-02 -3.06147337e-02  8.91716278e-04 -3.79734561e-02\n  2.44912971e-02  2.77543087e-02 -3.33413519e-02 -1.34170027e-02\n  1.68613214e-02 -1.83587503e-02 -1.25428792e-02  2.45120581e-02\n -2.48575639e-02  1.58815049e-02  1.37632685e-02  4.90217004e-03\n  3.63890529e-02 -2.65173241e-03 -2.28463113e-02 -2.12634224e-02\n  2.47576144e-02  1.63431242e-02  3.06451023e-02  3.47680859e-02\n -1.07881874e-02 -1.65773928e-02  4.84647928e-03 -3.48721817e-03\n  4.60774172e-03 -1.28169302e-02 -1.35018853e-02  4.88716364e-02\n -3.46172391e-03 -2.21959390e-02  1.35154137e-02  1.18196756e-02\n -4.84309904e-02 -2.90614236e-02  1.68949179e-02 -2.38459557e-02\n  1.67878214e-02  2.56170351e-02  1.53028574e-02 -1.00035844e-02\n -3.23340893e-02 -3.59991193e-02  1.06630176e-02 -5.57531556e-03\n  4.02915431e-03 -7.49134412e-03 -1.10954791e-03 -1.23299677e-02\n  3.85288685e-03 -2.36935746e-02 -1.69206914e-02 -2.21729670e-02\n -4.79300227e-03 -4.57220049e-05  4.08520699e-02 -1.10408226e-02\n  2.17128098e-02 -2.11867001e-02  3.53553891e-02  1.73389371e-02\n -3.10992859e-02  2.82582198e-03 -6.81250542e-03  1.60622727e-02\n -1.71410162e-02 -3.27016301e-02 -2.34913826e-02 -5.01996931e-03\n  1.68298781e-02  4.74309549e-04 -2.23792884e-02 -3.95277143e-02\n -6.32724958e-03  2.26899516e-03 -7.67058041e-03 -1.66675374e-02\n  2.15926464e-03  2.35749837e-02  4.73134080e-03  1.40377274e-02\n  2.56518368e-02 -2.69818790e-02  3.63307935e-03 -2.94514629e-03\n  1.45616904e-02  1.48013784e-02 -6.26357133e-03 -2.43123360e-02\n -1.28679071e-03 -1.43122962e-02  3.12756151e-02 -1.28696710e-02\n -9.00680292e-03 -5.17684128e-03 -1.40310349e-02  7.08141597e-03\n -9.47902258e-03 -2.38661095e-02 -2.04969905e-02  2.12172815e-03\n  1.27131655e-03  1.52465086e-02  3.15762125e-02  8.71948805e-03\n  1.87697541e-03 -5.83450459e-02  3.35938893e-02 -1.61215756e-02\n  3.66217457e-02  3.41631323e-02 -2.53218431e-02 -1.20834056e-02\n  4.32196911e-03 -5.02430014e-02 -1.53895514e-02 -8.93555058e-04\n  3.28069851e-02 -1.93560142e-02 -2.16104761e-02  8.15009582e-04\n -2.96663009e-02 -1.98034905e-02  1.01745706e-02  7.14042829e-03\n -1.67753752e-02 -8.83635413e-03 -1.51968207e-02 -2.14800122e-03\n  1.46092502e-02 -1.89515518e-03  2.70126294e-02  1.05864257e-02\n  1.71405654e-02  5.57678193e-03 -6.90007769e-03  1.25188930e-02\n -1.06652826e-02 -2.31256592e-03  2.19014031e-03 -3.06900870e-02\n -5.95171191e-03  3.19761708e-02 -1.68009717e-02 -5.64519688e-03\n  8.82386696e-03 -1.51972671e-03 -5.54842921e-03  1.78124309e-02\n -1.50808776e-02 -1.78889539e-02  2.30566389e-03  3.08604408e-02\n  1.92923634e-03  6.04040863e-04 -2.72353757e-02 -4.05527884e-03\n  1.65341217e-02  1.72205735e-03 -1.55572603e-02 -1.23210894e-02\n -1.04421331e-02  1.02280872e-02 -9.73488670e-03 -2.55949167e-03\n  2.62097679e-02 -1.39156776e-02  3.93015817e-02  3.12558711e-02\n  1.12047466e-02 -6.60353526e-03 -2.51002726e-03 -3.44715454e-03\n -8.49427842e-03 -1.13681387e-02  2.82957479e-02  2.87024467e-03\n  1.00737605e-02 -3.39331739e-02  2.89486106e-02  8.94343853e-03\n  2.55561955e-02  1.44865896e-06  2.93921214e-03 -3.16481330e-02\n -4.10025707e-03  1.75542329e-02  1.34952730e-02  4.35268171e-02\n -2.35477719e-03 -2.87011936e-02 -1.56210680e-02  1.12922108e-02\n  1.67670175e-02  1.65616646e-02  1.34439794e-02 -7.44624122e-04\n  1.88591443e-02  1.56009607e-02 -2.18100157e-02 -4.15014066e-02\n  5.98409027e-03  1.52178733e-02 -1.59904156e-02  1.85814761e-02\n  1.94550026e-02  4.36648242e-02 -1.80350635e-02 -1.22543164e-02\n -1.73305590e-02 -1.01893814e-02 -1.04223043e-02  4.64275479e-02\n  3.40526700e-02 -4.93635051e-03  3.81286023e-03 -2.34269947e-02\n -1.24954517e-04 -4.28637862e-02 -1.58197749e-02 -3.53065715e-03\n  8.89489613e-03 -2.71087774e-04  1.27335032e-02  1.55958738e-02\n -2.17972603e-02 -9.69150569e-04 -3.53887901e-02 -1.38459075e-02\n  4.88380855e-03 -7.56935403e-03 -1.31168391e-03 -3.39886663e-03\n -3.88471074e-02  5.79601969e-04 -1.81693491e-02 -3.67404222e-02\n  8.02912749e-03 -2.22932883e-02  9.28392541e-03  1.11039607e-02]"
        ],
        [
         "1",
         "U.S. conservative leader optimistic of common ground on healthcare WASHINGTON (Reuters) - Republicans in the U.S. House of Representatives could achieve common ground on a deal to win support for healthcare legislation on Thursday, after President Donald Trump intervened in negotiations, a conservative leader said on Wednesday. “We’re not there yet, but we’re very optimistic that if we work around the clock between now and Noon tomorrow, that we’re going to be able to hopefully find some common ground,” Representative Mark Meadows, chairman of the conservative House Freedom Caucus, told reporters. Meadows’ group has opposed House Republican healthcare legislation up to now and threatened earlier in the day to block its passage in a Thursday vote.  ",
         "Real",
         "1",
         "[ 8.61828029e-03  7.40822684e-03  7.67580175e-04  1.38298199e-02\n -3.04474216e-02 -2.02034023e-02  1.11115817e-02  1.01492740e-02\n  4.56852950e-02  1.17958745e-03 -2.88143549e-02 -7.70442607e-03\n -3.89859220e-03  2.98311226e-02 -4.17294241e-02  4.61724307e-03\n  2.60093287e-02  3.46582867e-02  7.96706695e-03 -2.74685919e-02\n -2.69127398e-04  2.92115863e-02  1.53398067e-02 -2.98808049e-03\n  1.63039174e-02  2.54040118e-02 -2.50242762e-02 -1.11645171e-02\n  1.18524553e-02  2.02380447e-03  2.19741203e-02 -7.71851512e-03\n -1.98322721e-02 -3.04385424e-02 -9.66454681e-04 -2.41028145e-03\n  1.15309590e-02  1.48199284e-02 -4.27964889e-03 -1.82613163e-04\n  1.10842073e-02 -1.64825376e-02  4.63515073e-02  6.92955032e-03\n -4.86792922e-02 -9.36017931e-03 -2.39969119e-02  1.09840585e-02\n -4.19901358e-03  2.15647034e-02  7.24923937e-03  2.47742236e-02\n -1.21738818e-02 -6.88825909e-04 -8.22585193e-04  9.26135108e-03\n -2.02099308e-02 -1.79740768e-02 -3.27698980e-03 -2.48236228e-02\n -8.03847425e-03  1.09490368e-03 -4.49235439e-02 -2.76740156e-02\n  1.58607995e-03  9.82036442e-03  1.03454292e-02  4.58460599e-02\n  2.57245265e-02  3.73482928e-02  8.53137579e-03 -6.27165148e-03\n  3.44282985e-02  1.65867396e-02 -2.16256585e-02 -2.46879403e-02\n  5.09495987e-03  2.21658181e-02  3.24366465e-02  2.45553423e-02\n -8.22205096e-03 -2.09926981e-02  1.93996634e-02  5.38653927e-03\n  1.21924700e-02 -2.81541478e-02 -2.93262042e-02  1.37626640e-02\n  3.12619680e-03  1.39027853e-02  3.85258794e-02 -6.88868156e-03\n -8.39613099e-03 -3.58617306e-02 -2.05605756e-03 -1.14990510e-02\n  7.70973973e-03  1.51007692e-03  1.30960327e-02 -4.67519052e-02\n  3.08619346e-03 -2.90244296e-02  9.97408759e-03  3.86881246e-03\n  1.79794710e-02 -2.27200110e-02  9.84087493e-03 -4.57935557e-02\n  1.19200256e-02 -2.45424546e-02  1.05244480e-02 -1.09755173e-02\n -8.88579059e-03 -7.19515840e-03  3.46610881e-02  4.25901078e-03\n  2.35484373e-02 -1.79570634e-02  4.80413996e-02  2.29304265e-02\n -2.15146523e-02 -9.24020912e-03 -2.77042016e-03  6.61640801e-03\n -1.51504129e-02 -3.51809785e-02 -9.08537582e-03 -2.65342761e-02\n  5.48728602e-03  2.33731624e-02  1.13843605e-02 -3.59557718e-02\n -1.27809923e-02 -7.45879579e-03 -2.45613102e-02 -1.83654833e-03\n  1.10468185e-02  7.53793865e-03 -1.03268810e-02  3.86105366e-02\n  1.60148535e-02 -3.82132339e-03  2.87733600e-03  3.21063609e-03\n -6.86986838e-03 -9.10355616e-03 -1.73921026e-02 -3.42768654e-02\n  9.75872763e-03 -1.64754465e-02  2.57238243e-02 -2.41175457e-03\n  5.60706435e-03  1.31042758e-02  1.10777169e-02 -1.29956231e-02\n -1.72040090e-02 -3.51982974e-02 -2.88987458e-02 -8.59690737e-03\n -1.14997588e-02  7.74190295e-03  2.36914176e-02 -1.65692642e-02\n  8.13709758e-03 -3.58792655e-02  7.94255733e-03 -5.94708882e-03\n  3.52197960e-02  2.79676467e-02 -1.39670018e-02  8.23089015e-03\n  5.01333689e-03 -5.53186573e-02  8.35399143e-03 -4.85582054e-02\n  1.33890761e-02  5.44052478e-03 -2.81575825e-02 -1.19544612e-02\n -6.11574352e-02 -2.44836807e-02  7.97658507e-03  1.00553473e-02\n  9.60846723e-04 -1.79508384e-02  4.64774622e-03  8.84648319e-03\n  2.18646061e-02  1.52209252e-02 -1.53501763e-03  1.02100829e-02\n  8.04404449e-03  2.18971935e-03 -2.94960141e-02  1.27052283e-02\n  1.08173992e-02 -4.69615217e-03  1.82201900e-02 -2.62070894e-02\n -1.63469594e-02  1.94700435e-02  2.00049095e-02 -6.80875825e-03\n  5.25657414e-03  2.39883736e-03  5.17779589e-03 -5.30756195e-04\n  3.73564719e-04 -4.30705138e-02 -1.47939641e-02  4.34255041e-03\n  4.24523605e-03  1.68168768e-02 -9.96931270e-03  1.38474833e-02\n  2.18076166e-03 -2.85381731e-03 -1.91579945e-02 -9.31106857e-04\n  9.11223609e-03  1.28024010e-04 -6.66770036e-04  6.12905109e-03\n  1.52277732e-02 -3.37147899e-02  3.73516232e-02  3.58282551e-02\n  3.20695229e-02  6.88965619e-03  3.19052371e-03  4.35506832e-03\n -2.12774123e-03  6.19299058e-03  1.52767766e-02  1.06924279e-02\n -6.67744596e-03 -1.24965329e-02  3.02979853e-02 -8.55505280e-03\n  2.31449418e-02 -1.30798984e-02 -1.27653806e-02 -1.85994674e-02\n -1.70839019e-03  9.19739716e-03  1.15497559e-02  3.15451249e-02\n  5.08979522e-03 -1.00021120e-02 -2.87200827e-02  1.19523583e-02\n -4.01135534e-03 -7.74366641e-03  2.46592220e-02  3.38937249e-03\n  1.77573450e-02  3.41657898e-03 -1.45976245e-02 -3.08195502e-02\n -1.74579932e-03 -1.50284870e-02 -6.20705634e-03  1.81592181e-02\n  1.75569654e-02  3.14542204e-02 -7.02776201e-03 -2.14649606e-02\n -3.11857145e-02  2.39506047e-02 -1.14798918e-02  3.68559398e-02\n  1.49063626e-02 -1.37553625e-02 -3.99534544e-03 -1.33527173e-02\n -2.34610271e-02 -4.58509475e-02 -1.05359824e-02 -2.63251346e-02\n -1.20032262e-02  1.14338417e-02 -1.71873358e-03  5.25949784e-02\n  5.33904415e-03 -2.67657842e-02 -2.40344945e-02  1.50166182e-02\n  3.14077176e-02  2.15692036e-02 -1.36756552e-02 -1.26643674e-02\n -1.81382317e-02  9.73243368e-05 -5.20410668e-03 -1.17829803e-03\n -2.09734705e-03  1.26982329e-03  4.49910238e-02  1.90270692e-02]"
        ],
        [
         "2",
         "Trump proposes U.S. tax overhaul, stirs concerns on deficit WASHINGTON (Reuters) - President Donald Trump proposed on Wednesday the biggest U.S. tax overhaul in three decades, calling for tax cuts for most Americans, but prompting criticism that the plan favors business and the rich and could add trillions of dollars to the deficit. The proposal drew a swift, skeptical response from Senator Bob Corker, a leading Republican “fiscal hawk,” who vowed not to vote for any federal tax package financed with borrowed money. “What I can tell you is that I’m not about to vote for any bill that increases our deficit, period,” Corker, who said on Tuesday he would not seek re-election in 2018, told reporters. Trump said his tax plan was aimed at helping working people, creating jobs and making the tax code simpler and fairer. But it faces an uphill battle in the U.S. Congress with Trump’s own Republican Party divided over it and Democrats hostile. The plan would lower corporate and small-business income tax rates, reduce the top income tax rate for high-earning American individuals and scrap some popular tax breaks, including one that benefits people in high-tax states dominated by Democrats. Forged during months of talks among Trump’s aides and top congressional Republicans, the plan contained few details on how to pay for the tax cuts without expanding the budget deficit and adding to the nation’s $20 trillion national debt. The plan still must be turned into legislation, which was not expected until after Congress makes progress on the fiscal 2018 budget, perhaps in October. It must then be debated by the Republican-led congressional tax-writing committees. Analysts were skeptical that Congress could approve a tax bill this year, but that is what Republicans hope to achieve so they can enter next year’s congressional election campaigns with at least one legislative achievement to show for 2017. Financial markets rallied on the plan’s unveiling, an event long anticipated by traders betting that stocks would benefit from both faster economic growth and inflation. At an event in Indianapolis, Trump called the plan the largest tax cut in U.S. history. “We want tax reform that is pro-growth, pro-jobs, pro-worker, pro-family and, yes, tax reform that is pro-American,” he said. The real estate mogul-turned-politician, who promised big tax cuts as a candidate, told reporters he personally would not gain financially from the proposal. “I think there’s very little benefit for people of wealth,” said Trump, who unlike many of his White House predecessors, has refused to make public his own tax returns. Republicans have produced no major legislative successes since Trump took office in January, even though they control the White House and both chambers of Congress. Their top legislative priority, overhauling the U.S. healthcare system, collapsed again in the Senate on Tuesday. A comprehensive rewrite of the U.S. tax code has eluded previous presidents and Congress for decades. The last one was passed in 1986 under Republican President Ronald Reagan. Trump’s plan falls short of the sweeping, bipartisan package crafted by Reagan and congressional Democrats, analysts said. The White House said that, under the proposal, typical middle-class families would have less income subject to federal tax. Trump said the first $12,000 earned by an individual and the first $24,000 by a married couple would be tax-free. The plan would lower the top individual tax rate, paid by the nation’s top earners, to 35 percent from 39.6 percent. It would lower the top corporate income tax rate to 20 percent from the current 35 percent. The existing rate is high globally, but many U.S.-based multinationals pay much less than the headline rate because of abundant loopholes and tax breaks. Trump has appealed to Democrats to back the plan, although they were not consulted in drafting it. Republicans hold a thin 52-48 Senate majority and may need some Democratic support to win passage. But Democrats said the plan would expand the federal deficit in order to deliver tax cuts to wealthy Americans rather than the middle-class families that Trump and Republicans say they are trying to help.  “If this framework is all about the middle class, then Trump Tower is middle-class housing,” said Senator Ron Wyden, the top Democrat on the tax law-writing Senate Finance Committee.      Republican Kevin Brady, chairman of the tax-writing House of Representatives Ways and Means Committee, said he expected tax legislation to be passed by the end of this year. The Committee for a Responsible Federal Budget, a Washington-based policy group, estimated on Wednesday the plan contained about $5.8 trillion of total tax cuts over a decade and would have a net cost of $2.2 trillion through 2027. Analysts have warned huge tax cuts would balloon the deficit if economic growth projected by Republicans to offset the costs fails to materialize amid rising interest rates. ‘PASS-THROUGH’ RATE The plan would set a new 25 percent tax rate for “pass-through” businesses, which are usually small, private enterprises, such as partnerships and sole proprietorships. They represent about 95 percent of all U.S. businesses. Under current law, the profits of those companies “pass through” directly to their owners and are taxed as personal income, often at the top 39.6 percent individual income rate. Cutting that to 25 percent could mean big tax savings for small-business owners, but also be vulnerable to abuse by other individuals and companies, analysts said. Republicans proposed eliminating some tax deductions. They did not target the popular ones for mortgage interest and charitable giving, but called for scrapping the one for state and local tax payments. That could especially hurt people in high-tax states like California and New York. In a step to simplify tax returns, the plan would shrink the current seven tax brackets to three: 12 percent, 25 percent and 35 percent. That would raise the bottom tax rate on low-earning Americans to 12 percent from 10 percent, but analysts said other parts of the plan would still mean a net tax cut. ",
         "Real",
         "1",
         "[ 0.01793007  0.00602918 -0.00549841  0.03809655 -0.02346102 -0.03085921\n  0.01792511 -0.00420326  0.04510397  0.01478552 -0.0180651  -0.00127647\n -0.00678617  0.02197098 -0.04336578  0.03263779  0.02122639  0.03213402\n  0.00120101 -0.01468659 -0.00138814  0.01276247  0.01843066 -0.00757889\n  0.00425569  0.01580153 -0.01877356  0.00700572  0.00670061  0.01292145\n  0.00368143 -0.01467635 -0.01887809 -0.01820697  0.0055843  -0.0105925\n  0.01693682  0.00438957  0.00137081  0.03970838  0.03177483 -0.00425498\n  0.05041537 -0.00425949 -0.04858713 -0.03015452  0.0003869   0.02567833\n -0.0259128   0.02072688  0.00578335  0.00266721 -0.01517002 -0.0197764\n  0.00305167  0.00976589 -0.03566257 -0.01536239 -0.00303556 -0.01621648\n -0.0073448   0.0110122  -0.04407625 -0.01862589  0.02346029 -0.00986592\n -0.00800628  0.0308014   0.00952197  0.01788034 -0.00727864 -0.00954251\n  0.04476105  0.01215125 -0.01570546 -0.01910686  0.02494507  0.03902799\n  0.00757424  0.01717183  0.00390211 -0.02939686 -0.01538093  0.0257052\n -0.00738998 -0.00861656 -0.02603096  0.03998299  0.00498836  0.00395491\n  0.04345712 -0.00792391 -0.02744261 -0.02785293 -0.00750298 -0.02600784\n  0.00617541  0.00099711  0.01397346 -0.0147473  -0.00807105 -0.02811177\n  0.01580752  0.01129151  0.01697669 -0.02377424 -0.00512514 -0.02790761\n  0.02225462 -0.04015579  0.00351152 -0.02360509 -0.02160257  0.01596923\n  0.04087764  0.0163049   0.02273654 -0.01705532  0.04343492  0.01550155\n -0.00045914  0.0021306  -0.00702466  0.02205796  0.02383753 -0.01824017\n  0.00777765 -0.02748954  0.01475969  0.00580804  0.0010465  -0.01527585\n -0.01066135 -0.03011874 -0.00951174  0.00239214 -0.00814821  0.00016541\n -0.00458044  0.03425625  0.00209183 -0.02707807 -0.00882688  0.02707398\n  0.00904473 -0.01994839 -0.00951365 -0.01453271 -0.00020061 -0.00143632\n  0.03501903 -0.00839057 -0.01291227  0.01297659  0.00453004 -0.02182853\n -0.00666693 -0.0199059  -0.01950659 -0.01089209 -0.01539487  0.01977233\n  0.0259876  -0.00211052  0.00578594 -0.00616808  0.02045048 -0.00982733\n  0.03133858  0.00403869 -0.03368203 -0.02179475  0.00380443 -0.03943312\n  0.00665585 -0.02703122  0.02431996  0.00349686 -0.03662985  0.00217247\n -0.05084332 -0.03759805  0.00399157  0.00695448  0.00337709 -0.02350767\n -0.00128639  0.02711349  0.02934727  0.02275042 -0.00278317 -0.00444002\n  0.01433489  0.00515702 -0.03122764  0.02341119  0.00088271 -0.01237439\n  0.01388421 -0.03068217 -0.01541225  0.01931255  0.01521029 -0.00894628\n  0.00142342  0.00240684 -0.00844418 -0.01330525 -0.00259698 -0.03063126\n -0.01035968  0.01422749  0.00412589  0.03555537 -0.02147759  0.0221581\n -0.00060683  0.02040845 -0.02241582 -0.00294041 -0.00726813  0.00926586\n -0.00823775 -0.00839902  0.01291506 -0.02938195  0.0296657   0.00848851\n  0.03099379  0.01193088 -0.0007316   0.005983    0.00390176  0.00350249\n  0.00832605  0.01300877  0.01929413 -0.03416011  0.03312996 -0.02309638\n  0.02509808 -0.01146681 -0.00560052 -0.02240048 -0.00156331  0.00170082\n  0.01242549  0.02927635  0.0035381  -0.01862093 -0.02834699  0.00349546\n -0.00322431  0.00023722  0.00840539 -0.00031355  0.01108631  0.0160475\n -0.01694657 -0.01501767  0.01395688 -0.00684955 -0.01713185  0.01625389\n  0.00590247  0.04037631 -0.02909639 -0.01303507 -0.03333661 -0.00362725\n  0.01012174  0.03273112  0.01210978 -0.01756765  0.00214866 -0.01149078\n -0.0100156  -0.04909992 -0.00319654 -0.01407141 -0.01104195 -0.00564523\n  0.01216373  0.04082406 -0.01266309 -0.01230837 -0.03159367  0.02079078\n  0.0371974   0.00450118 -0.03826943  0.00139548 -0.01325316 -0.01698413\n -0.01496363 -0.00637617 -0.00598548 -0.0068707   0.02118564 -0.02003055]"
        ],
        [
         "3",
         " Court Forces Ohio To Allow Millions Of Illegally Purged Voters Back On The Rolls Donald Trump is semi-right: this election might be rigged. However, this election is rigged against the people, not him.Take a look at Ohio, a key battleground state in the never-ending 2016 election. After purging more than two million voters from the roles, a high court smacked down Republican Secretary of State John Hustad for violating the National Voter Registration Act.Hustad s purge, which included some dead people and those who moved out of state, also included those who moved in the same county and those who have not voted in past elections (at least since 2011). Those who were purged were overwhelmingly black, low-income and Democratic voters. A Reuters investigation found that in the state s major cities (Cleveland, Columbus, and Cincinnati) the voters in Democratic-leaning neighborhoods and precincts were illegally purged at twice the rate as in Republican.So, on Wednesday night, while everyone was watching the final presidential debate (in which Trump again claimed the election is rigged against him), the United States District Court for the Southern District of Ohio, at the behest of Republican appointee Judge George C. Smith, ordered the voters   save the dead and moved   back onto the rolls immediately and have their voting rights restored.Judge Smith accused Hustad of voter disenfranchisement, writing:If those who were unlawfully removed from the voter rolls are not allowed to vote, then the Secretary of State is continuing to to disenfranchise voters in violation of federal law.The case was originally heard by the 6th U.S. Circuit Court of Appeals, which also ruled against Hustad, but was sent back to the District Court for a rehearing. Obviously, both courts realized the illegal power grab by the state at the behest of the GOP, and they weren t having it.Time and time again the courts have struck down illegal rigging practices by the Republicans, thus saving the nation from an unbalanced electoral system. Voting is a right in this country, and partisan politicos should not have the power to take it away just because.If anyone can complain about a rigged election, it s Hillary Clinton.Featured image via John Sommers II/Getty Images",
         "Fake",
         "0",
         "[ 1.24946935e-02  1.21258395e-02 -1.98330643e-04  2.19437256e-02\n -1.49299493e-02 -2.94624828e-02 -1.39501717e-05 -1.11758988e-02\n  2.15815287e-02  4.91866190e-03 -1.19716479e-02  1.30212202e-03\n -6.89038960e-03  3.63075398e-02 -3.22672203e-02  2.65874788e-02\n  1.56215020e-02  2.82734670e-02 -3.20698856e-03 -9.65862256e-03\n  7.81158125e-03  3.01145413e-03  9.27402172e-03  3.76028521e-03\n  1.88329518e-02 -2.04606969e-02 -3.41167562e-02  9.37644299e-03\n  1.47130936e-02  1.43752331e-02  7.94293638e-03  3.75155103e-03\n -1.23665389e-02  6.95324503e-03  1.82953719e-02 -1.22295367e-02\n  2.18904112e-02  1.05503481e-02 -7.31624803e-03  4.17611115e-02\n  2.12633032e-02 -1.53479949e-02  5.98578155e-02 -7.22888205e-03\n -4.23151739e-02 -1.78301036e-02 -7.88041577e-03  1.33564426e-02\n -1.88795701e-02  3.31394449e-02 -1.24820406e-02  5.05640055e-04\n -2.88821594e-03 -1.73821747e-02 -1.69571359e-02  1.78649975e-03\n -2.69816220e-02 -2.26535704e-02 -1.78418979e-02 -2.97005139e-02\n -7.43777631e-03  8.43411125e-03 -2.69167796e-02 -4.23861435e-03\n -4.71598655e-03 -7.70998048e-03 -1.34186568e-02  4.64039929e-02\n  3.41300131e-03  5.59049193e-03  1.24460757e-02  1.04797939e-02\n  3.01999711e-02  9.53899045e-03 -8.39334726e-03 -3.88840074e-03\n  2.87798699e-02  1.83031103e-03  2.28732694e-02  3.49566676e-02\n  7.48529844e-03 -2.18279306e-02  1.91298369e-02 -5.36506064e-03\n  1.17830792e-02 -1.27354814e-02 -2.80124638e-02  2.91909277e-02\n  6.34958129e-03 -4.65279119e-03  2.83232722e-02  1.71368010e-04\n -1.47835044e-02 -7.31835095e-03 -2.66018347e-03 -9.85005219e-03\n  1.78780109e-02  1.51747663e-03  4.76317154e-03 -6.71241386e-03\n  3.74961202e-03 -1.80378929e-02  1.95407253e-02  5.43422624e-03\n  1.54904893e-03 -2.29097083e-02 -2.42353347e-03 -2.20803879e-02\n  1.41290920e-02 -2.26023253e-02 -1.06918477e-02 -1.78388469e-02\n -3.45707089e-02  6.88942336e-03  3.20287906e-02 -8.60153511e-03\n  1.57041345e-02 -6.22273539e-04  3.08775734e-02  9.79000889e-03\n -1.99532267e-02  3.64816301e-02 -1.80496629e-02  1.03125181e-02\n -1.84252998e-03 -9.29153245e-03 -6.01029769e-03 -1.79804936e-02\n  1.99074135e-03  1.12933840e-03  1.47339087e-02 -2.23444346e-02\n -2.01467145e-02 -5.78414369e-03 -1.84321068e-02 -2.15734374e-02\n -7.85794575e-03  9.67451313e-04 -4.65653138e-03  2.38862392e-02\n  1.50726046e-02 -1.10644270e-02 -1.32383453e-02  1.80560313e-02\n  7.56520778e-04 -3.12501099e-03 -1.92327611e-02 -1.09833386e-02\n -8.95578787e-03  7.47395400e-03  5.45650609e-02 -2.08289754e-02\n  1.26469193e-03  1.11272829e-02  1.57816522e-02 -8.57557822e-03\n -7.90072791e-03 -2.72752419e-02 -9.15125664e-03 -1.32060051e-02\n -2.45026983e-02  4.10411088e-03  2.41170470e-02 -5.43435803e-03\n  1.50717271e-03 -2.16180328e-02  3.22977304e-02 -1.26278875e-02\n  3.90028283e-02  8.00204370e-03 -3.29068229e-02 -1.47906970e-02\n -8.20466783e-03 -3.01977824e-02  4.88134520e-03 -4.15773094e-02\n  1.45438490e-02 -8.23822618e-03 -3.09916213e-02 -1.15613826e-02\n -5.13322949e-02 -1.49495937e-02 -3.40590166e-04 -1.62479673e-02\n  2.53773527e-03  2.26795767e-03  2.88330414e-03  2.37743072e-02\n  2.24976651e-02  2.58448701e-02  1.55644380e-02  2.67949663e-02\n  6.66977139e-03  1.06799882e-02 -2.79147960e-02  1.41293602e-02\n  5.07947011e-03 -1.43024337e-03  4.02338803e-03 -1.47316260e-02\n -5.84130175e-03  2.13753004e-02  1.77573655e-02 -9.54914838e-03\n  1.61146857e-02 -1.51523463e-02  2.23553404e-02 -7.41651235e-03\n  4.92618012e-04 -2.18815990e-02 -1.32829347e-03  2.40918007e-02\n -4.86138277e-03  1.03386948e-02 -2.60590110e-02  1.78667884e-02\n -4.60144226e-03 -4.15805058e-04 -2.52695177e-02 -1.59970652e-02\n -6.94559840e-03  1.62651818e-02  2.27921968e-03 -3.79939936e-03\n  1.26778930e-02 -1.10311676e-02  1.61894429e-02  4.76467349e-02\n  2.14965548e-02 -8.43576808e-03  4.91586514e-03  1.21071690e-03\n -1.60068348e-02  1.31293840e-03  2.53792922e-03  3.68694053e-03\n  1.42528331e-02 -2.80535761e-02  2.61857696e-02 -2.26376392e-03\n  9.94777121e-03 -2.22222228e-02  1.18140513e-02 -4.31244597e-02\n -5.84637327e-03  8.45140405e-03  4.38466057e-04  2.90931277e-02\n -1.07813207e-03 -5.06826723e-03 -8.28243513e-03  5.99546684e-03\n -2.35273340e-03  8.16205051e-03  1.33692343e-02 -1.40345087e-02\n  2.16310620e-02  1.68831330e-02 -1.30142912e-03 -2.94169001e-02\n  1.36852339e-02 -5.72763802e-03 -9.78740864e-03  1.38934786e-02\n  2.08528899e-02  3.22894119e-02 -2.03458350e-02 -9.84845101e-04\n -2.63268743e-02 -1.04034925e-02  1.20216785e-02  2.72456519e-02\n  1.80554092e-02  6.77997945e-03 -1.01166861e-02 -1.74969733e-02\n -5.50545612e-03 -4.19868864e-02 -1.87322423e-02 -9.58972611e-04\n -7.70624448e-03  1.98158342e-03  1.01615973e-02  3.95272598e-02\n -4.33395337e-03 -1.49921002e-02 -1.93507820e-02  3.01970099e-03\n  2.22307164e-02  1.32473875e-02 -2.18589399e-02 -8.18917155e-03\n -2.90054083e-02 -5.67255914e-03  6.09370600e-03 -1.93627439e-02\n -5.86191053e-03 -1.91217549e-02  1.05114030e-02  4.89215413e-03]"
        ],
        [
         "4",
         "Democrats say Trump agrees to work on immigration bill, wall in dispute WASHINGTON (Reuters) - President Donald Trump and Democratic leaders in the U.S. Congress have agreed to work together on legislation to protect “Dreamers,” the illegal immigrants who were children when they entered the United States, the lawmakers said on Wednesday, although a dispute erupted over exactly what had been agreed. Following a dinner with Trump at the White House, Senate Democratic leader Chuck Schumer and House of Representatives Democratic leader Nancy Pelosi said the “productive meeting” focused on “DACA,” a program established by former President Barack Obama. “We agreed to enshrine the protections of DACA (Deferred Action for Childhood Arrivals) into law quickly, and to work out a package of border security, excluding the wall, that’s acceptable to both sides,” Schumer and Pelosi said in a statement. All year, Democrats have insisted that they will block any legislation that contains funding for a wall along the length of the U.S. border with Mexico, a top Trump campaign goal that many Republicans in Congress also do not support. While White House officials have suggested legislation on DACA could move forward without wall funding, White House spokeswoman Sarah Sanders disputed the characterization that a deal had been reached to leave it out of any legislation focused on the Dreamers. “While DACA and border security were both discussed, excluding the wall was certainly not agreed to,” she said on Twitter. Throughout his 2016 campaign for president and since taking office in January, Trump has demanded the construction of a wall to keep out illegal immigrants and drugs. He initially said Mexico would pay for the wall but has requested money from the U.S. Congress after the government of Mexico refused to pay. The dinner was the latest effort in a new initiative by Trump to work with opposition party Democrats on major legislation. Following the dinner, a White House official said the president, Schumer and Pelosi discussed tax reform, immigration, border security, infrastructure investments and trade as part of Trump’s bid to reach out to Democrats. “The administration looks forward to continuing these conversations with leadership on both sides of the aisle,” the official said. Over a dinner of Chinese food, Trump and the Democratic leaders also discussed issues related to U.S.-China trade, according to a congressional aide briefed on the meeting. Schumer and Pelosi also said that they urged Trump to make permanent government subsidy payments under the Affordable Care Act, also known as “Obamacare.” “Those discussions will continue,” the lawmakers said. Trump and most Republicans in Congress have demanded the repeal of Obamacare but have been unable to agree on a replacement for the healthcare program that became law in 2010. Using his executive powers, Trump canceled Obama’s DACA program in which about 800,000 undocumented young people have escaped the threat of deportation and been able to apply for work permits in the United States. Trump argued that Obama over-stepped his authority in creating the program. But Trump gave Congress six months to come up with a replacement program in the form of legislation to be enacted into law. Democratic Representative Henry Cuellar, who attended a White House meeting with Trump earlier on Wednesday, told reporters the president said he would not insist on wall funding as part of a Dreamers bill, but would pursue it on other, future legislation. Cuellar said Trump urged lawmakers to link a Republican bill to cut legal immigration to the United States with protections for Dreamers. But many Democrats oppose lowering the cap on annual legal immigration. ",
         "Real",
         "1",
         "[-0.00225982  0.01164962  0.00365561  0.02869499 -0.02166866 -0.02266884\n  0.01754256 -0.00028906  0.03624496  0.00723106 -0.01310588 -0.00679123\n -0.02085219  0.01708612 -0.04740622  0.02233538  0.03278854  0.02752367\n  0.00374935 -0.03465849  0.01114014  0.01725089  0.01901181  0.01498458\n  0.01073653  0.01082936 -0.02416736 -0.01150625  0.01678651 -0.00260856\n  0.0002017  -0.02185324 -0.0293357  -0.00902022  0.00588005 -0.01371431\n  0.02017977  0.00976982 -0.00332013  0.01165465  0.00598009 -0.00334549\n  0.04859632  0.0008725  -0.0464002  -0.02590766 -0.01244653  0.01283468\n -0.02018937  0.02401723 -0.00046433  0.00752043 -0.01368999 -0.01288818\n  0.00825599  0.00610977 -0.03300513 -0.00550114 -0.01201209 -0.02678183\n -0.00211153  0.01103552 -0.0393515  -0.0141916   0.00413232 -0.0024635\n -0.01146764  0.03252669  0.00526323  0.02039181  0.00021588  0.00601497\n  0.0367109   0.01751698 -0.01705715 -0.02863116  0.00882849  0.0304274\n  0.02472476  0.02837404  0.0085812  -0.01014777  0.00204025  0.00275872\n -0.01064925 -0.01570166 -0.02735746  0.02517373  0.0113579   0.00325356\n  0.03080612 -0.01405809 -0.02715339 -0.04016015  0.00224799 -0.01099752\n  0.01225363 -0.00384657  0.01767498 -0.02475412 -0.01156444 -0.02902466\n  0.00871519 -0.00035058  0.01317099 -0.02200003 -0.00194013 -0.04206147\n  0.01440552 -0.02892054 -0.01123558 -0.00981641 -0.00999142  0.00881424\n  0.02391311  0.00170302  0.02891378 -0.01375879  0.04083134  0.0277082\n -0.01116906 -0.00142961 -0.01132084  0.01941922  0.00627654 -0.02459306\n -0.01312442 -0.01175145  0.00567873  0.00466835  0.00960257 -0.02134308\n -0.00962262 -0.0141658  -0.01671364  0.00407243 -0.00910294  0.00354056\n -0.00142228  0.02241428  0.00851356 -0.01578965 -0.01772559  0.00803406\n  0.00723176 -0.00083503 -0.01387023 -0.00813069 -0.00911752 -0.00120775\n  0.03235264 -0.00720281  0.00048182  0.00355766  0.01157837 -0.01347169\n -0.00955797 -0.03322158 -0.01523507 -0.00402277 -0.00738998  0.00797206\n  0.02212324 -0.00741598 -0.00087576 -0.03625396  0.02434023 -0.0189867\n  0.03487395  0.0278672  -0.02090079 -0.00205087  0.00598769 -0.03555489\n  0.01101735 -0.03827306  0.02346002 -0.00105164 -0.03280833 -0.00097513\n -0.05279737 -0.01322751 -0.00093349 -0.00029026  0.00779169 -0.01837593\n -0.00199033  0.00950133  0.0147589   0.02558799 -0.0058716   0.00808648\n  0.02512662  0.01239907 -0.02876411  0.01561412  0.00300473 -0.0122701\n  0.01255252 -0.02948611 -0.0095376   0.0244604   0.01044829 -0.00219773\n  0.00020375  0.00332628  0.01176164  0.00210088 -0.00046742 -0.02951632\n -0.0117849   0.00371573 -0.00658153  0.00919363 -0.0206291   0.01768768\n  0.01310855  0.01845154 -0.01913775 -0.00652726 -0.01549454  0.00320222\n -0.00918325  0.01403173  0.02871147 -0.02835592  0.03688475  0.04517313\n  0.03838652  0.00156279  0.00018502  0.01980744 -0.00828313  0.00378735\n  0.01093496 -0.00335152  0.01430542 -0.01752079  0.03330236 -0.02133575\n  0.00751462 -0.02142334 -0.01360472 -0.01099933 -0.00127758  0.00716244\n  0.00672401  0.02930574  0.00765122 -0.01625783 -0.01796815  0.0099602\n -0.00057745  0.00121589  0.02762214  0.0002263   0.00938726  0.01385573\n -0.01590355 -0.01465809  0.00512001  0.00101698 -0.00798722  0.01696853\n  0.01402628  0.03617378 -0.03479791 -0.01276095 -0.04654995  0.00416484\n  0.0069517   0.04180291  0.02433276 -0.00708116 -0.00314138 -0.01066622\n -0.00621477 -0.0489043  -0.01480231 -0.01678016 -0.0061457  -0.00252435\n  0.00122635  0.04811429 -0.00258212 -0.01384545 -0.02559391  0.01331347\n  0.02910589  0.00501251 -0.01989748 -0.00307069 -0.00604277 -0.00627824\n -0.00980299  0.00149568  0.00488969 -0.01353354  0.02583803 -0.00150564]"
        ]
       ],
       "shape": {
        "columns": 4,
        "rows": 5
       }
      },
      "text/html": [
       "<div>\n",
       "<style scoped>\n",
       "    .dataframe tbody tr th:only-of-type {\n",
       "        vertical-align: middle;\n",
       "    }\n",
       "\n",
       "    .dataframe tbody tr th {\n",
       "        vertical-align: top;\n",
       "    }\n",
       "\n",
       "    .dataframe thead th {\n",
       "        text-align: right;\n",
       "    }\n",
       "</style>\n",
       "<table border=\"1\" class=\"dataframe\">\n",
       "  <thead>\n",
       "    <tr style=\"text-align: right;\">\n",
       "      <th></th>\n",
       "      <th>Text</th>\n",
       "      <th>label</th>\n",
       "      <th>label_num</th>\n",
       "      <th>vector</th>\n",
       "    </tr>\n",
       "  </thead>\n",
       "  <tbody>\n",
       "    <tr>\n",
       "      <th>0</th>\n",
       "      <td>Top Trump Surrogate BRUTALLY Stabs Him In The...</td>\n",
       "      <td>Fake</td>\n",
       "      <td>0</td>\n",
       "      <td>[0.0085234195, 0.019263458, -0.010577418, 0.03...</td>\n",
       "    </tr>\n",
       "    <tr>\n",
       "      <th>1</th>\n",
       "      <td>U.S. conservative leader optimistic of common ...</td>\n",
       "      <td>Real</td>\n",
       "      <td>1</td>\n",
       "      <td>[0.00861828, 0.007408227, 0.0007675802, 0.0138...</td>\n",
       "    </tr>\n",
       "    <tr>\n",
       "      <th>2</th>\n",
       "      <td>Trump proposes U.S. tax overhaul, stirs concer...</td>\n",
       "      <td>Real</td>\n",
       "      <td>1</td>\n",
       "      <td>[0.01793007, 0.006029178, -0.0054984074, 0.038...</td>\n",
       "    </tr>\n",
       "    <tr>\n",
       "      <th>3</th>\n",
       "      <td>Court Forces Ohio To Allow Millions Of Illega...</td>\n",
       "      <td>Fake</td>\n",
       "      <td>0</td>\n",
       "      <td>[0.0124946935, 0.0121258395, -0.00019833064, 0...</td>\n",
       "    </tr>\n",
       "    <tr>\n",
       "      <th>4</th>\n",
       "      <td>Democrats say Trump agrees to work on immigrat...</td>\n",
       "      <td>Real</td>\n",
       "      <td>1</td>\n",
       "      <td>[-0.002259819, 0.01164962, 0.0036556108, 0.028...</td>\n",
       "    </tr>\n",
       "  </tbody>\n",
       "</table>\n",
       "</div>"
      ],
      "text/plain": [
       "                                                Text label  label_num  \\\n",
       "0   Top Trump Surrogate BRUTALLY Stabs Him In The...  Fake          0   \n",
       "1  U.S. conservative leader optimistic of common ...  Real          1   \n",
       "2  Trump proposes U.S. tax overhaul, stirs concer...  Real          1   \n",
       "3   Court Forces Ohio To Allow Millions Of Illega...  Fake          0   \n",
       "4  Democrats say Trump agrees to work on immigrat...  Real          1   \n",
       "\n",
       "                                              vector  \n",
       "0  [0.0085234195, 0.019263458, -0.010577418, 0.03...  \n",
       "1  [0.00861828, 0.007408227, 0.0007675802, 0.0138...  \n",
       "2  [0.01793007, 0.006029178, -0.0054984074, 0.038...  \n",
       "3  [0.0124946935, 0.0121258395, -0.00019833064, 0...  \n",
       "4  [-0.002259819, 0.01164962, 0.0036556108, 0.028...  "
      ]
     },
     "execution_count": 29,
     "metadata": {},
     "output_type": "execute_result"
    }
   ],
   "source": [
    "df.head()"
   ]
  },
  {
   "cell_type": "markdown",
   "metadata": {
    "id": "j2XGariWM09j"
   },
   "source": [
    "**Train-Test splitting**"
   ]
  },
  {
   "cell_type": "code",
   "execution_count": 30,
   "metadata": {
    "id": "OJfmmbxBDYuO"
   },
   "outputs": [],
   "source": [
    "from sklearn.model_selection import train_test_split\n",
    "\n",
    "X_train, X_test, y_train, y_test = train_test_split(\n",
    "    df.vector.values, \n",
    "    df.label_num, \n",
    "    test_size = 0.2, # 20% samples will go to test dataset\n",
    "    random_state = 42,\n",
    "    stratify = df.label_num\n",
    ")"
   ]
  },
  {
   "cell_type": "markdown",
   "metadata": {
    "id": "08-oivPtM8a5"
   },
   "source": [
    "**Reshaping the X_train and X_test so as to fit for models**"
   ]
  },
  {
   "cell_type": "code",
   "execution_count": 31,
   "metadata": {
    "colab": {
     "base_uri": "https://localhost:8080/"
    },
    "id": "DOOO4prQi7hg",
    "outputId": "ea31fc23-a63b-42ff-fef5-6e21c038b733"
   },
   "outputs": [
    {
     "name": "stdout",
     "output_type": "stream",
     "text": [
      "Shape of X_train before reshaping:  (7920,)\n",
      "Shape of X_test before reshaping:  (1980,)\n",
      "Shape of X_train after reshaping:  (7920, 300)\n",
      "Shape of X_test after reshaping:  (1980, 300)\n"
     ]
    }
   ],
   "source": [
    "print(\"Shape of X_train before reshaping: \", X_train.shape)\n",
    "print(\"Shape of X_test before reshaping: \", X_test.shape)\n",
    "\n",
    "\n",
    "X_train_2d = np.stack(X_train)\n",
    "X_test_2d =  np.stack(X_test)\n",
    "\n",
    "print(\"Shape of X_train after reshaping: \", X_train_2d.shape)\n",
    "print(\"Shape of X_test after reshaping: \", X_test_2d.shape)"
   ]
  },
  {
   "cell_type": "markdown",
   "metadata": {
    "id": "W5HmfA2gRyQY"
   },
   "source": [
    "**Train Machine Learning Model**\n",
    "\n",
    "I tried Random forest, decision tree, naive bayes etc classifiers as well but gradient boosting gave the best performance of all"
   ]
  },
  {
   "cell_type": "code",
   "execution_count": 32,
   "metadata": {
    "colab": {
     "base_uri": "https://localhost:8080/"
    },
    "id": "1Q8Sy2iENZr7",
    "outputId": "159d92d5-17bd-4c18-c797-ed049b6db0ef"
   },
   "outputs": [
    {
     "name": "stdout",
     "output_type": "stream",
     "text": [
      "              precision    recall  f1-score   support\n",
      "\n",
      "           0       0.98      0.98      0.98      1000\n",
      "           1       0.98      0.98      0.98       980\n",
      "\n",
      "    accuracy                           0.98      1980\n",
      "   macro avg       0.98      0.98      0.98      1980\n",
      "weighted avg       0.98      0.98      0.98      1980\n",
      "\n"
     ]
    }
   ],
   "source": [
    "from sklearn.ensemble import GradientBoostingClassifier\n",
    "from sklearn.metrics import classification_report\n",
    "\n",
    "#1. creating a GradientBoosting model object\n",
    "clf = GradientBoostingClassifier()\n",
    "\n",
    "#2. fit with all_train_embeddings and y_train\n",
    "clf.fit(X_train_2d, y_train)\n",
    "\n",
    "\n",
    "#3. get the predictions for all_test_embeddings and store it in y_pred\n",
    "y_pred = clf.predict(X_test_2d)\n",
    "\n",
    "\n",
    "#4. print the classfication report\n",
    "print(classification_report(y_test, y_pred))"
   ]
  },
  {
   "cell_type": "markdown",
   "metadata": {},
   "source": [
    "**Make some predictions**"
   ]
  },
  {
   "cell_type": "code",
   "execution_count": 33,
   "metadata": {},
   "outputs": [
    {
     "data": {
      "text/plain": [
       "array([1, 0, 0])"
      ]
     },
     "execution_count": 33,
     "metadata": {},
     "output_type": "execute_result"
    }
   ],
   "source": [
    "test_news = [\n",
    "    \"Michigan governor denies misleading U.S. House on Flint water (Reuters) - Michigan Governor Rick Snyder denied Thursday that he had misled a U.S. House of Representatives committee last year over testimony on Flintâ€™s water crisis after lawmakers asked if his testimony had been contradicted by a witness in a court hearing. The House Oversight and Government Reform Committee wrote Snyder earlier Thursday asking him about published reports that one of his aides, Harvey Hollins, testified in a court hearing last week in Michigan that he had notified Snyder of an outbreak of Legionnairesâ€™ disease linked to the Flint water crisis in December 2015, rather than 2016 as Snyder had testified. â€œMy testimony was truthful and I stand by it,â€ Snyder told the committee in a letter, adding that his office has provided tens of thousands of pages of records to the committee and would continue to cooperate fully.  Last week, prosecutors in Michigan said Dr. Eden Wells, the stateâ€™s chief medical executive who already faced lesser charges, would become the sixth current or former official to face involuntary manslaughter charges in connection with the crisis. The charges stem from more than 80 cases of Legionnairesâ€™ disease and at least 12 deaths that were believed to be linked to the water in Flint after the city switched its source from Lake Huron to the Flint River in April 2014. Wells was among six current and former Michigan and Flint officials charged in June. The other five, including Michigan Health and Human Services Director Nick Lyon, were charged at the time with involuntary manslaughter\",\n",
    "    \" WATCH: Fox News Host Loses Her Sh*t, Says Investigating Russia For Hacking Our Election Is Unpatriotic This woman is insane.In an incredibly disrespectful rant against President Obama and anyone else who supports investigating Russian interference in our election, Fox News host Jeanine Pirro said that anybody who is against Donald Trump is anti-American. Look, it s time to take sides,  she began.\",\n",
    "    \" Sarah Palin Celebrates After White Man Who Pulled Gun On Black Protesters Goes Unpunished (VIDEO) Sarah Palin, one of the nigh-innumerable  deplorables  in Donald Trump s  basket,  almost outdid herself in terms of horribleness on Friday.\"\n",
    "]\n",
    "\n",
    "test_news_vectors = [preprocess_and_vectorize(n) for n in test_news]\n",
    "clf.predict(test_news_vectors)"
   ]
  },
  {
   "cell_type": "markdown",
   "metadata": {
    "id": "ppttUIGMNzk7"
   },
   "source": [
    "**Confusion Matrix for Best Model**"
   ]
  },
  {
   "cell_type": "code",
   "execution_count": 34,
   "metadata": {
    "colab": {
     "base_uri": "https://localhost:8080/",
     "height": 460
    },
    "id": "TfjngBUSBaYC",
    "outputId": "8aa7e3f1-0f37-47cb-bdd3-022fc5e10091"
   },
   "outputs": [
    {
     "data": {
      "text/plain": [
       "Text(95.72222222222221, 0.5, 'Truth')"
      ]
     },
     "execution_count": 34,
     "metadata": {},
     "output_type": "execute_result"
    },
    {
     "data": {
      "image/png": "[encoded data removed]",
      "text/plain": [
       "<Figure size 1000x700 with 2 Axes>"
      ]
     },
     "metadata": {},
     "output_type": "display_data"
    }
   ],
   "source": [
    "#finally print the confusion matrix for the best model (GradientBoostingClassifier)\n",
    "\n",
    "from sklearn.metrics import confusion_matrix\n",
    "cm = confusion_matrix(y_test, y_pred)\n",
    "cm\n",
    "\n",
    "\n",
    "from matplotlib import pyplot as plt\n",
    "import seaborn as sn\n",
    "plt.figure(figsize = (10,7))\n",
    "sn.heatmap(cm, annot=True, fmt='d')\n",
    "plt.xlabel('Prediction')\n",
    "plt.ylabel('Truth')"
   ]
  }
 ],
 "metadata": {
  "colab": {
   "collapsed_sections": [],
   "provenance": []
  },
  "kernelspec": {
   "display_name": "nlp_env",
   "language": "python",
   "name": "python3"
  },
  "language_info": {
   "codemirror_mode": {
    "name": "ipython",
    "version": 3
   },
   "file_extension": ".py",
   "mimetype": "text/x-python",
   "name": "python",
   "nbconvert_exporter": "python",
   "pygments_lexer": "ipython3",
   "version": "3.12.5"
  }
 },
 "nbformat": 4,
 "nbformat_minor": 1
}
