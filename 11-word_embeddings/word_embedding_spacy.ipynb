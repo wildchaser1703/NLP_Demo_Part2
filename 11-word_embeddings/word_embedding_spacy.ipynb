{
 "cells": [
  {
   "cell_type": "code",
   "execution_count": 2,
   "id": "9000541e",
   "metadata": {},
   "outputs": [],
   "source": [
    "import spacy\n",
    "nlp = spacy.load('en_core_web_lg')"
   ]
  },
  {
   "cell_type": "code",
   "execution_count": 7,
   "id": "8074e3bf",
   "metadata": {},
   "outputs": [
    {
     "name": "stdout",
     "output_type": "stream",
     "text": [
      "dog Vector: token.has_vector \n",
      " Out_of_Vocabulary: False\n",
      "cat Vector: token.has_vector \n",
      " Out_of_Vocabulary: False\n",
      "banana Vector: token.has_vector \n",
      " Out_of_Vocabulary: False\n",
      "gloV@ Vector: token.has_vector \n",
      " Out_of_Vocabulary: True\n"
     ]
    }
   ],
   "source": [
    "doc = nlp(\"dog cat banana gloV@\")\n",
    "for token in doc:\n",
    "    print(token.text, \"Vector:\", \"token.has_vector\", \"\\n\", \"Out_of_Vocabulary:\", token.is_oov)"
   ]
  },
  {
   "cell_type": "code",
   "execution_count": 9,
   "id": "274021fc",
   "metadata": {},
   "outputs": [
    {
     "data": {
      "text/plain": [
       "(300,)"
      ]
     },
     "execution_count": 9,
     "metadata": {},
     "output_type": "execute_result"
    }
   ],
   "source": [
    "doc[0].vector.shape"
   ]
  },
  {
   "cell_type": "code",
   "execution_count": null,
   "id": "fec25e88",
   "metadata": {},
   "outputs": [
    {
     "data": {
      "text/plain": [
       "(300,)"
      ]
     },
     "execution_count": 11,
     "metadata": {},
     "output_type": "execute_result"
    }
   ],
   "source": [
    "base_token = nlp(\"bread\")\n",
    "base_token[0].vector.shape"
   ]
  },
  {
   "cell_type": "code",
   "execution_count": 14,
   "id": "be47464e",
   "metadata": {},
   "outputs": [
    {
     "name": "stdout",
     "output_type": "stream",
     "text": [
      "sandwich <-> bread 0.687455952167511\n",
      "burger <-> bread 0.544037401676178\n",
      "pizza <-> bread 0.6754295229911804\n",
      "oreo <-> bread 0.3430813252925873\n",
      "britannia <-> bread 0.017896944656968117\n",
      "light <-> bread 0.32045257091522217\n"
     ]
    }
   ],
   "source": [
    "doc = nlp(\"sandwich burger pizza oreo britannia light\") \n",
    "for token in doc:\n",
    "    print(f\"{token.text} <-> {base_token.text}\", token.similarity(base_token))"
   ]
  },
  {
   "cell_type": "code",
   "execution_count": 15,
   "id": "dd912d12",
   "metadata": {},
   "outputs": [],
   "source": [
    "def print_similarity(base_word, words_to_compare):\n",
    "    base_token = nlp(base_word)\n",
    "    doc = nlp(words_to_compare)\n",
    "    for token in doc:\n",
    "        print(f\"{token.text} <-> {base_token.text}\", token.similarity(base_token))"
   ]
  },
  {
   "cell_type": "code",
   "execution_count": 17,
   "id": "6080b7f1",
   "metadata": {},
   "outputs": [
    {
     "name": "stdout",
     "output_type": "stream",
     "text": [
      "fruit <-> apple 0.6306183338165283\n",
      "steve <-> apple 0.36163991689682007\n",
      "jobs <-> apple 0.16657376289367676\n",
      "banana <-> apple 0.5831844806671143\n",
      "iphone <-> apple 0.6339781284332275\n",
      "samsung <-> apple 0.45605313777923584\n"
     ]
    }
   ],
   "source": [
    "print_similarity(\"apple\", \"fruit steve jobs banana iphone samsung\")"
   ]
  },
  {
   "cell_type": "code",
   "execution_count": 21,
   "id": "052467a0",
   "metadata": {},
   "outputs": [],
   "source": [
    "king = nlp.vocab[\"king\"].vector\n",
    "man = nlp.vocab[\"man\"].vector\n",
    "woman = nlp.vocab[\"woman\"].vector\n",
    "queen = nlp.vocab[\"queen\"].vector\n",
    "\n",
    "result = king - man + woman"
   ]
  },
  {
   "cell_type": "code",
   "execution_count": 22,
   "id": "eccfbfcc",
   "metadata": {},
   "outputs": [
    {
     "data": {
      "text/plain": [
       "array([[0.78808445]], dtype=float32)"
      ]
     },
     "execution_count": 22,
     "metadata": {},
     "output_type": "execute_result"
    }
   ],
   "source": [
    "from sklearn.metrics.pairwise import cosine_similarity\n",
    "cosine_similarity([result], [queen])"
   ]
  }
 ],
 "metadata": {
  "kernelspec": {
   "display_name": "nlp_env",
   "language": "python",
   "name": "python3"
  },
  "language_info": {
   "codemirror_mode": {
    "name": "ipython",
    "version": 3
   },
   "file_extension": ".py",
   "mimetype": "text/x-python",
   "name": "python",
   "nbconvert_exporter": "python",
   "pygments_lexer": "ipython3",
   "version": "3.12.5"
  }
 },
 "nbformat": 4,
 "nbformat_minor": 5
}
