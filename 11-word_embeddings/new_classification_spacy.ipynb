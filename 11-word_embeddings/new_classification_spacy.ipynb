{
 "cells": [
  {
   "cell_type": "code",
   "execution_count": 25,
   "id": "68a0923c",
   "metadata": {},
   "outputs": [],
   "source": [
    "import pandas as pd\n",
    "import numpy as np\n",
    "from sklearn.naive_bayes import MultinomialNB\n",
    "from sklearn.preprocessing import MinMaxScaler\n",
    "from sklearn.metrics import classification_report\n",
    "from sklearn.neighbors import KNeighborsClassifier\n",
    "df = pd.read_csv(\"Fake_Real_Data.csv\")"
   ]
  },
  {
   "cell_type": "code",
   "execution_count": 2,
   "id": "5a86bcd4",
   "metadata": {},
   "outputs": [
    {
     "data": {
      "application/vnd.microsoft.datawrangler.viewer.v0+json": {
       "columns": [
        {
         "name": "index",
         "rawType": "int64",
         "type": "integer"
        },
        {
         "name": "Text",
         "rawType": "object",
         "type": "string"
        },
        {
         "name": "label",
         "rawType": "object",
         "type": "string"
        }
       ],
       "ref": "adbfdb49-e5be-4ad1-b076-267f8467eea6",
       "rows": [
        [
         "0",
         " Top Trump Surrogate BRUTALLY Stabs Him In The Back: ‘He’s Pathetic’ (VIDEO) It s looking as though Republican presidential candidate Donald Trump is losing support even from within his own ranks. You know things are getting bad when even your top surrogates start turning against you, which is exactly what just happened on Fox News when Newt Gingrich called Trump  pathetic. Gingrich knows that Trump needs to keep his focus on Hillary Clinton if he even remotely wants to have a chance at defeating her. However, Trump has hurt feelings because many Republicans don t support his sexual assault against women have turned against him, including House Speaker Paul Ryan (R-WI). So, that has made Trump lash out as his own party.Gingrich said on Fox News: Look, first of all, let me just say about Trump, who I admire and I ve tried to help as much as I can. There s a big Trump and a little Trump. The little Trump is frankly pathetic. I mean, he s mad over not getting a phone call? Trump s referring to the fact that Paul Ryan didn t call to congratulate him after the debate. Probably because he didn t win despite what Trump s ego tells him.Gingrich also added: Donald Trump has one opponent. Her name is Hillary Clinton. Her name is not Paul Ryan. It s not anybody else. Trump doesn t seem to realize that the person he should be mad at is himself because he truly is his own worst enemy. This will ultimately lead to his defeat and he will have no one to blame but himself.Watch here via Politico:Featured Photo by Joe Raedle/Getty Images",
         "Fake"
        ],
        [
         "1",
         "U.S. conservative leader optimistic of common ground on healthcare WASHINGTON (Reuters) - Republicans in the U.S. House of Representatives could achieve common ground on a deal to win support for healthcare legislation on Thursday, after President Donald Trump intervened in negotiations, a conservative leader said on Wednesday. “We’re not there yet, but we’re very optimistic that if we work around the clock between now and Noon tomorrow, that we’re going to be able to hopefully find some common ground,” Representative Mark Meadows, chairman of the conservative House Freedom Caucus, told reporters. Meadows’ group has opposed House Republican healthcare legislation up to now and threatened earlier in the day to block its passage in a Thursday vote.  ",
         "Real"
        ],
        [
         "2",
         "Trump proposes U.S. tax overhaul, stirs concerns on deficit WASHINGTON (Reuters) - President Donald Trump proposed on Wednesday the biggest U.S. tax overhaul in three decades, calling for tax cuts for most Americans, but prompting criticism that the plan favors business and the rich and could add trillions of dollars to the deficit. The proposal drew a swift, skeptical response from Senator Bob Corker, a leading Republican “fiscal hawk,” who vowed not to vote for any federal tax package financed with borrowed money. “What I can tell you is that I’m not about to vote for any bill that increases our deficit, period,” Corker, who said on Tuesday he would not seek re-election in 2018, told reporters. Trump said his tax plan was aimed at helping working people, creating jobs and making the tax code simpler and fairer. But it faces an uphill battle in the U.S. Congress with Trump’s own Republican Party divided over it and Democrats hostile. The plan would lower corporate and small-business income tax rates, reduce the top income tax rate for high-earning American individuals and scrap some popular tax breaks, including one that benefits people in high-tax states dominated by Democrats. Forged during months of talks among Trump’s aides and top congressional Republicans, the plan contained few details on how to pay for the tax cuts without expanding the budget deficit and adding to the nation’s $20 trillion national debt. The plan still must be turned into legislation, which was not expected until after Congress makes progress on the fiscal 2018 budget, perhaps in October. It must then be debated by the Republican-led congressional tax-writing committees. Analysts were skeptical that Congress could approve a tax bill this year, but that is what Republicans hope to achieve so they can enter next year’s congressional election campaigns with at least one legislative achievement to show for 2017. Financial markets rallied on the plan’s unveiling, an event long anticipated by traders betting that stocks would benefit from both faster economic growth and inflation. At an event in Indianapolis, Trump called the plan the largest tax cut in U.S. history. “We want tax reform that is pro-growth, pro-jobs, pro-worker, pro-family and, yes, tax reform that is pro-American,” he said. The real estate mogul-turned-politician, who promised big tax cuts as a candidate, told reporters he personally would not gain financially from the proposal. “I think there’s very little benefit for people of wealth,” said Trump, who unlike many of his White House predecessors, has refused to make public his own tax returns. Republicans have produced no major legislative successes since Trump took office in January, even though they control the White House and both chambers of Congress. Their top legislative priority, overhauling the U.S. healthcare system, collapsed again in the Senate on Tuesday. A comprehensive rewrite of the U.S. tax code has eluded previous presidents and Congress for decades. The last one was passed in 1986 under Republican President Ronald Reagan. Trump’s plan falls short of the sweeping, bipartisan package crafted by Reagan and congressional Democrats, analysts said. The White House said that, under the proposal, typical middle-class families would have less income subject to federal tax. Trump said the first $12,000 earned by an individual and the first $24,000 by a married couple would be tax-free. The plan would lower the top individual tax rate, paid by the nation’s top earners, to 35 percent from 39.6 percent. It would lower the top corporate income tax rate to 20 percent from the current 35 percent. The existing rate is high globally, but many U.S.-based multinationals pay much less than the headline rate because of abundant loopholes and tax breaks. Trump has appealed to Democrats to back the plan, although they were not consulted in drafting it. Republicans hold a thin 52-48 Senate majority and may need some Democratic support to win passage. But Democrats said the plan would expand the federal deficit in order to deliver tax cuts to wealthy Americans rather than the middle-class families that Trump and Republicans say they are trying to help.  “If this framework is all about the middle class, then Trump Tower is middle-class housing,” said Senator Ron Wyden, the top Democrat on the tax law-writing Senate Finance Committee.      Republican Kevin Brady, chairman of the tax-writing House of Representatives Ways and Means Committee, said he expected tax legislation to be passed by the end of this year. The Committee for a Responsible Federal Budget, a Washington-based policy group, estimated on Wednesday the plan contained about $5.8 trillion of total tax cuts over a decade and would have a net cost of $2.2 trillion through 2027. Analysts have warned huge tax cuts would balloon the deficit if economic growth projected by Republicans to offset the costs fails to materialize amid rising interest rates. ‘PASS-THROUGH’ RATE The plan would set a new 25 percent tax rate for “pass-through” businesses, which are usually small, private enterprises, such as partnerships and sole proprietorships. They represent about 95 percent of all U.S. businesses. Under current law, the profits of those companies “pass through” directly to their owners and are taxed as personal income, often at the top 39.6 percent individual income rate. Cutting that to 25 percent could mean big tax savings for small-business owners, but also be vulnerable to abuse by other individuals and companies, analysts said. Republicans proposed eliminating some tax deductions. They did not target the popular ones for mortgage interest and charitable giving, but called for scrapping the one for state and local tax payments. That could especially hurt people in high-tax states like California and New York. In a step to simplify tax returns, the plan would shrink the current seven tax brackets to three: 12 percent, 25 percent and 35 percent. That would raise the bottom tax rate on low-earning Americans to 12 percent from 10 percent, but analysts said other parts of the plan would still mean a net tax cut. ",
         "Real"
        ],
        [
         "3",
         " Court Forces Ohio To Allow Millions Of Illegally Purged Voters Back On The Rolls Donald Trump is semi-right: this election might be rigged. However, this election is rigged against the people, not him.Take a look at Ohio, a key battleground state in the never-ending 2016 election. After purging more than two million voters from the roles, a high court smacked down Republican Secretary of State John Hustad for violating the National Voter Registration Act.Hustad s purge, which included some dead people and those who moved out of state, also included those who moved in the same county and those who have not voted in past elections (at least since 2011). Those who were purged were overwhelmingly black, low-income and Democratic voters. A Reuters investigation found that in the state s major cities (Cleveland, Columbus, and Cincinnati) the voters in Democratic-leaning neighborhoods and precincts were illegally purged at twice the rate as in Republican.So, on Wednesday night, while everyone was watching the final presidential debate (in which Trump again claimed the election is rigged against him), the United States District Court for the Southern District of Ohio, at the behest of Republican appointee Judge George C. Smith, ordered the voters   save the dead and moved   back onto the rolls immediately and have their voting rights restored.Judge Smith accused Hustad of voter disenfranchisement, writing:If those who were unlawfully removed from the voter rolls are not allowed to vote, then the Secretary of State is continuing to to disenfranchise voters in violation of federal law.The case was originally heard by the 6th U.S. Circuit Court of Appeals, which also ruled against Hustad, but was sent back to the District Court for a rehearing. Obviously, both courts realized the illegal power grab by the state at the behest of the GOP, and they weren t having it.Time and time again the courts have struck down illegal rigging practices by the Republicans, thus saving the nation from an unbalanced electoral system. Voting is a right in this country, and partisan politicos should not have the power to take it away just because.If anyone can complain about a rigged election, it s Hillary Clinton.Featured image via John Sommers II/Getty Images",
         "Fake"
        ],
        [
         "4",
         "Democrats say Trump agrees to work on immigration bill, wall in dispute WASHINGTON (Reuters) - President Donald Trump and Democratic leaders in the U.S. Congress have agreed to work together on legislation to protect “Dreamers,” the illegal immigrants who were children when they entered the United States, the lawmakers said on Wednesday, although a dispute erupted over exactly what had been agreed. Following a dinner with Trump at the White House, Senate Democratic leader Chuck Schumer and House of Representatives Democratic leader Nancy Pelosi said the “productive meeting” focused on “DACA,” a program established by former President Barack Obama. “We agreed to enshrine the protections of DACA (Deferred Action for Childhood Arrivals) into law quickly, and to work out a package of border security, excluding the wall, that’s acceptable to both sides,” Schumer and Pelosi said in a statement. All year, Democrats have insisted that they will block any legislation that contains funding for a wall along the length of the U.S. border with Mexico, a top Trump campaign goal that many Republicans in Congress also do not support. While White House officials have suggested legislation on DACA could move forward without wall funding, White House spokeswoman Sarah Sanders disputed the characterization that a deal had been reached to leave it out of any legislation focused on the Dreamers. “While DACA and border security were both discussed, excluding the wall was certainly not agreed to,” she said on Twitter. Throughout his 2016 campaign for president and since taking office in January, Trump has demanded the construction of a wall to keep out illegal immigrants and drugs. He initially said Mexico would pay for the wall but has requested money from the U.S. Congress after the government of Mexico refused to pay. The dinner was the latest effort in a new initiative by Trump to work with opposition party Democrats on major legislation. Following the dinner, a White House official said the president, Schumer and Pelosi discussed tax reform, immigration, border security, infrastructure investments and trade as part of Trump’s bid to reach out to Democrats. “The administration looks forward to continuing these conversations with leadership on both sides of the aisle,” the official said. Over a dinner of Chinese food, Trump and the Democratic leaders also discussed issues related to U.S.-China trade, according to a congressional aide briefed on the meeting. Schumer and Pelosi also said that they urged Trump to make permanent government subsidy payments under the Affordable Care Act, also known as “Obamacare.” “Those discussions will continue,” the lawmakers said. Trump and most Republicans in Congress have demanded the repeal of Obamacare but have been unable to agree on a replacement for the healthcare program that became law in 2010. Using his executive powers, Trump canceled Obama’s DACA program in which about 800,000 undocumented young people have escaped the threat of deportation and been able to apply for work permits in the United States. Trump argued that Obama over-stepped his authority in creating the program. But Trump gave Congress six months to come up with a replacement program in the form of legislation to be enacted into law. Democratic Representative Henry Cuellar, who attended a White House meeting with Trump earlier on Wednesday, told reporters the president said he would not insist on wall funding as part of a Dreamers bill, but would pursue it on other, future legislation. Cuellar said Trump urged lawmakers to link a Republican bill to cut legal immigration to the United States with protections for Dreamers. But many Democrats oppose lowering the cap on annual legal immigration. ",
         "Real"
        ]
       ],
       "shape": {
        "columns": 2,
        "rows": 5
       }
      },
      "text/html": [
       "<div>\n",
       "<style scoped>\n",
       "    .dataframe tbody tr th:only-of-type {\n",
       "        vertical-align: middle;\n",
       "    }\n",
       "\n",
       "    .dataframe tbody tr th {\n",
       "        vertical-align: top;\n",
       "    }\n",
       "\n",
       "    .dataframe thead th {\n",
       "        text-align: right;\n",
       "    }\n",
       "</style>\n",
       "<table border=\"1\" class=\"dataframe\">\n",
       "  <thead>\n",
       "    <tr style=\"text-align: right;\">\n",
       "      <th></th>\n",
       "      <th>Text</th>\n",
       "      <th>label</th>\n",
       "    </tr>\n",
       "  </thead>\n",
       "  <tbody>\n",
       "    <tr>\n",
       "      <th>0</th>\n",
       "      <td>Top Trump Surrogate BRUTALLY Stabs Him In The...</td>\n",
       "      <td>Fake</td>\n",
       "    </tr>\n",
       "    <tr>\n",
       "      <th>1</th>\n",
       "      <td>U.S. conservative leader optimistic of common ...</td>\n",
       "      <td>Real</td>\n",
       "    </tr>\n",
       "    <tr>\n",
       "      <th>2</th>\n",
       "      <td>Trump proposes U.S. tax overhaul, stirs concer...</td>\n",
       "      <td>Real</td>\n",
       "    </tr>\n",
       "    <tr>\n",
       "      <th>3</th>\n",
       "      <td>Court Forces Ohio To Allow Millions Of Illega...</td>\n",
       "      <td>Fake</td>\n",
       "    </tr>\n",
       "    <tr>\n",
       "      <th>4</th>\n",
       "      <td>Democrats say Trump agrees to work on immigrat...</td>\n",
       "      <td>Real</td>\n",
       "    </tr>\n",
       "  </tbody>\n",
       "</table>\n",
       "</div>"
      ],
      "text/plain": [
       "                                                Text label\n",
       "0   Top Trump Surrogate BRUTALLY Stabs Him In The...  Fake\n",
       "1  U.S. conservative leader optimistic of common ...  Real\n",
       "2  Trump proposes U.S. tax overhaul, stirs concer...  Real\n",
       "3   Court Forces Ohio To Allow Millions Of Illega...  Fake\n",
       "4  Democrats say Trump agrees to work on immigrat...  Real"
      ]
     },
     "execution_count": 2,
     "metadata": {},
     "output_type": "execute_result"
    }
   ],
   "source": [
    "df.head()"
   ]
  },
  {
   "cell_type": "code",
   "execution_count": 3,
   "id": "179bc240",
   "metadata": {},
   "outputs": [],
   "source": [
    "df.columns = df.columns.str.lower()"
   ]
  },
  {
   "cell_type": "code",
   "execution_count": 4,
   "id": "3674677a",
   "metadata": {},
   "outputs": [
    {
     "data": {
      "text/plain": [
       "(9900, 2)"
      ]
     },
     "execution_count": 4,
     "metadata": {},
     "output_type": "execute_result"
    }
   ],
   "source": [
    "df.shape"
   ]
  },
  {
   "cell_type": "code",
   "execution_count": 5,
   "id": "3ddb0e49",
   "metadata": {},
   "outputs": [
    {
     "data": {
      "application/vnd.microsoft.datawrangler.viewer.v0+json": {
       "columns": [
        {
         "name": "label",
         "rawType": "object",
         "type": "string"
        },
        {
         "name": "count",
         "rawType": "int64",
         "type": "integer"
        }
       ],
       "ref": "8a481cd4-6edf-446e-9dcb-c9f9e626d04a",
       "rows": [
        [
         "Fake",
         "5000"
        ],
        [
         "Real",
         "4900"
        ]
       ],
       "shape": {
        "columns": 1,
        "rows": 2
       }
      },
      "text/plain": [
       "label\n",
       "Fake    5000\n",
       "Real    4900\n",
       "Name: count, dtype: int64"
      ]
     },
     "execution_count": 5,
     "metadata": {},
     "output_type": "execute_result"
    }
   ],
   "source": [
    "df[\"label\"].value_counts()"
   ]
  },
  {
   "cell_type": "code",
   "execution_count": 6,
   "id": "d2748dd8",
   "metadata": {},
   "outputs": [],
   "source": [
    "df[\"label_num\"] = df[\"label\"].map({\n",
    "    \"Fake\" : 0,\n",
    "    \"Real\" : 1\n",
    "})"
   ]
  },
  {
   "cell_type": "code",
   "execution_count": 7,
   "id": "79722b2e",
   "metadata": {},
   "outputs": [
    {
     "data": {
      "application/vnd.microsoft.datawrangler.viewer.v0+json": {
       "columns": [
        {
         "name": "index",
         "rawType": "int64",
         "type": "integer"
        },
        {
         "name": "text",
         "rawType": "object",
         "type": "string"
        },
        {
         "name": "label",
         "rawType": "object",
         "type": "string"
        },
        {
         "name": "label_num",
         "rawType": "int64",
         "type": "integer"
        }
       ],
       "ref": "86fd215d-43fb-4338-9501-9fbcca9cc605",
       "rows": [
        [
         "0",
         " Top Trump Surrogate BRUTALLY Stabs Him In The Back: ‘He’s Pathetic’ (VIDEO) It s looking as though Republican presidential candidate Donald Trump is losing support even from within his own ranks. You know things are getting bad when even your top surrogates start turning against you, which is exactly what just happened on Fox News when Newt Gingrich called Trump  pathetic. Gingrich knows that Trump needs to keep his focus on Hillary Clinton if he even remotely wants to have a chance at defeating her. However, Trump has hurt feelings because many Republicans don t support his sexual assault against women have turned against him, including House Speaker Paul Ryan (R-WI). So, that has made Trump lash out as his own party.Gingrich said on Fox News: Look, first of all, let me just say about Trump, who I admire and I ve tried to help as much as I can. There s a big Trump and a little Trump. The little Trump is frankly pathetic. I mean, he s mad over not getting a phone call? Trump s referring to the fact that Paul Ryan didn t call to congratulate him after the debate. Probably because he didn t win despite what Trump s ego tells him.Gingrich also added: Donald Trump has one opponent. Her name is Hillary Clinton. Her name is not Paul Ryan. It s not anybody else. Trump doesn t seem to realize that the person he should be mad at is himself because he truly is his own worst enemy. This will ultimately lead to his defeat and he will have no one to blame but himself.Watch here via Politico:Featured Photo by Joe Raedle/Getty Images",
         "Fake",
         "0"
        ],
        [
         "1",
         "U.S. conservative leader optimistic of common ground on healthcare WASHINGTON (Reuters) - Republicans in the U.S. House of Representatives could achieve common ground on a deal to win support for healthcare legislation on Thursday, after President Donald Trump intervened in negotiations, a conservative leader said on Wednesday. “We’re not there yet, but we’re very optimistic that if we work around the clock between now and Noon tomorrow, that we’re going to be able to hopefully find some common ground,” Representative Mark Meadows, chairman of the conservative House Freedom Caucus, told reporters. Meadows’ group has opposed House Republican healthcare legislation up to now and threatened earlier in the day to block its passage in a Thursday vote.  ",
         "Real",
         "1"
        ],
        [
         "2",
         "Trump proposes U.S. tax overhaul, stirs concerns on deficit WASHINGTON (Reuters) - President Donald Trump proposed on Wednesday the biggest U.S. tax overhaul in three decades, calling for tax cuts for most Americans, but prompting criticism that the plan favors business and the rich and could add trillions of dollars to the deficit. The proposal drew a swift, skeptical response from Senator Bob Corker, a leading Republican “fiscal hawk,” who vowed not to vote for any federal tax package financed with borrowed money. “What I can tell you is that I’m not about to vote for any bill that increases our deficit, period,” Corker, who said on Tuesday he would not seek re-election in 2018, told reporters. Trump said his tax plan was aimed at helping working people, creating jobs and making the tax code simpler and fairer. But it faces an uphill battle in the U.S. Congress with Trump’s own Republican Party divided over it and Democrats hostile. The plan would lower corporate and small-business income tax rates, reduce the top income tax rate for high-earning American individuals and scrap some popular tax breaks, including one that benefits people in high-tax states dominated by Democrats. Forged during months of talks among Trump’s aides and top congressional Republicans, the plan contained few details on how to pay for the tax cuts without expanding the budget deficit and adding to the nation’s $20 trillion national debt. The plan still must be turned into legislation, which was not expected until after Congress makes progress on the fiscal 2018 budget, perhaps in October. It must then be debated by the Republican-led congressional tax-writing committees. Analysts were skeptical that Congress could approve a tax bill this year, but that is what Republicans hope to achieve so they can enter next year’s congressional election campaigns with at least one legislative achievement to show for 2017. Financial markets rallied on the plan’s unveiling, an event long anticipated by traders betting that stocks would benefit from both faster economic growth and inflation. At an event in Indianapolis, Trump called the plan the largest tax cut in U.S. history. “We want tax reform that is pro-growth, pro-jobs, pro-worker, pro-family and, yes, tax reform that is pro-American,” he said. The real estate mogul-turned-politician, who promised big tax cuts as a candidate, told reporters he personally would not gain financially from the proposal. “I think there’s very little benefit for people of wealth,” said Trump, who unlike many of his White House predecessors, has refused to make public his own tax returns. Republicans have produced no major legislative successes since Trump took office in January, even though they control the White House and both chambers of Congress. Their top legislative priority, overhauling the U.S. healthcare system, collapsed again in the Senate on Tuesday. A comprehensive rewrite of the U.S. tax code has eluded previous presidents and Congress for decades. The last one was passed in 1986 under Republican President Ronald Reagan. Trump’s plan falls short of the sweeping, bipartisan package crafted by Reagan and congressional Democrats, analysts said. The White House said that, under the proposal, typical middle-class families would have less income subject to federal tax. Trump said the first $12,000 earned by an individual and the first $24,000 by a married couple would be tax-free. The plan would lower the top individual tax rate, paid by the nation’s top earners, to 35 percent from 39.6 percent. It would lower the top corporate income tax rate to 20 percent from the current 35 percent. The existing rate is high globally, but many U.S.-based multinationals pay much less than the headline rate because of abundant loopholes and tax breaks. Trump has appealed to Democrats to back the plan, although they were not consulted in drafting it. Republicans hold a thin 52-48 Senate majority and may need some Democratic support to win passage. But Democrats said the plan would expand the federal deficit in order to deliver tax cuts to wealthy Americans rather than the middle-class families that Trump and Republicans say they are trying to help.  “If this framework is all about the middle class, then Trump Tower is middle-class housing,” said Senator Ron Wyden, the top Democrat on the tax law-writing Senate Finance Committee.      Republican Kevin Brady, chairman of the tax-writing House of Representatives Ways and Means Committee, said he expected tax legislation to be passed by the end of this year. The Committee for a Responsible Federal Budget, a Washington-based policy group, estimated on Wednesday the plan contained about $5.8 trillion of total tax cuts over a decade and would have a net cost of $2.2 trillion through 2027. Analysts have warned huge tax cuts would balloon the deficit if economic growth projected by Republicans to offset the costs fails to materialize amid rising interest rates. ‘PASS-THROUGH’ RATE The plan would set a new 25 percent tax rate for “pass-through” businesses, which are usually small, private enterprises, such as partnerships and sole proprietorships. They represent about 95 percent of all U.S. businesses. Under current law, the profits of those companies “pass through” directly to their owners and are taxed as personal income, often at the top 39.6 percent individual income rate. Cutting that to 25 percent could mean big tax savings for small-business owners, but also be vulnerable to abuse by other individuals and companies, analysts said. Republicans proposed eliminating some tax deductions. They did not target the popular ones for mortgage interest and charitable giving, but called for scrapping the one for state and local tax payments. That could especially hurt people in high-tax states like California and New York. In a step to simplify tax returns, the plan would shrink the current seven tax brackets to three: 12 percent, 25 percent and 35 percent. That would raise the bottom tax rate on low-earning Americans to 12 percent from 10 percent, but analysts said other parts of the plan would still mean a net tax cut. ",
         "Real",
         "1"
        ],
        [
         "3",
         " Court Forces Ohio To Allow Millions Of Illegally Purged Voters Back On The Rolls Donald Trump is semi-right: this election might be rigged. However, this election is rigged against the people, not him.Take a look at Ohio, a key battleground state in the never-ending 2016 election. After purging more than two million voters from the roles, a high court smacked down Republican Secretary of State John Hustad for violating the National Voter Registration Act.Hustad s purge, which included some dead people and those who moved out of state, also included those who moved in the same county and those who have not voted in past elections (at least since 2011). Those who were purged were overwhelmingly black, low-income and Democratic voters. A Reuters investigation found that in the state s major cities (Cleveland, Columbus, and Cincinnati) the voters in Democratic-leaning neighborhoods and precincts were illegally purged at twice the rate as in Republican.So, on Wednesday night, while everyone was watching the final presidential debate (in which Trump again claimed the election is rigged against him), the United States District Court for the Southern District of Ohio, at the behest of Republican appointee Judge George C. Smith, ordered the voters   save the dead and moved   back onto the rolls immediately and have their voting rights restored.Judge Smith accused Hustad of voter disenfranchisement, writing:If those who were unlawfully removed from the voter rolls are not allowed to vote, then the Secretary of State is continuing to to disenfranchise voters in violation of federal law.The case was originally heard by the 6th U.S. Circuit Court of Appeals, which also ruled against Hustad, but was sent back to the District Court for a rehearing. Obviously, both courts realized the illegal power grab by the state at the behest of the GOP, and they weren t having it.Time and time again the courts have struck down illegal rigging practices by the Republicans, thus saving the nation from an unbalanced electoral system. Voting is a right in this country, and partisan politicos should not have the power to take it away just because.If anyone can complain about a rigged election, it s Hillary Clinton.Featured image via John Sommers II/Getty Images",
         "Fake",
         "0"
        ],
        [
         "4",
         "Democrats say Trump agrees to work on immigration bill, wall in dispute WASHINGTON (Reuters) - President Donald Trump and Democratic leaders in the U.S. Congress have agreed to work together on legislation to protect “Dreamers,” the illegal immigrants who were children when they entered the United States, the lawmakers said on Wednesday, although a dispute erupted over exactly what had been agreed. Following a dinner with Trump at the White House, Senate Democratic leader Chuck Schumer and House of Representatives Democratic leader Nancy Pelosi said the “productive meeting” focused on “DACA,” a program established by former President Barack Obama. “We agreed to enshrine the protections of DACA (Deferred Action for Childhood Arrivals) into law quickly, and to work out a package of border security, excluding the wall, that’s acceptable to both sides,” Schumer and Pelosi said in a statement. All year, Democrats have insisted that they will block any legislation that contains funding for a wall along the length of the U.S. border with Mexico, a top Trump campaign goal that many Republicans in Congress also do not support. While White House officials have suggested legislation on DACA could move forward without wall funding, White House spokeswoman Sarah Sanders disputed the characterization that a deal had been reached to leave it out of any legislation focused on the Dreamers. “While DACA and border security were both discussed, excluding the wall was certainly not agreed to,” she said on Twitter. Throughout his 2016 campaign for president and since taking office in January, Trump has demanded the construction of a wall to keep out illegal immigrants and drugs. He initially said Mexico would pay for the wall but has requested money from the U.S. Congress after the government of Mexico refused to pay. The dinner was the latest effort in a new initiative by Trump to work with opposition party Democrats on major legislation. Following the dinner, a White House official said the president, Schumer and Pelosi discussed tax reform, immigration, border security, infrastructure investments and trade as part of Trump’s bid to reach out to Democrats. “The administration looks forward to continuing these conversations with leadership on both sides of the aisle,” the official said. Over a dinner of Chinese food, Trump and the Democratic leaders also discussed issues related to U.S.-China trade, according to a congressional aide briefed on the meeting. Schumer and Pelosi also said that they urged Trump to make permanent government subsidy payments under the Affordable Care Act, also known as “Obamacare.” “Those discussions will continue,” the lawmakers said. Trump and most Republicans in Congress have demanded the repeal of Obamacare but have been unable to agree on a replacement for the healthcare program that became law in 2010. Using his executive powers, Trump canceled Obama’s DACA program in which about 800,000 undocumented young people have escaped the threat of deportation and been able to apply for work permits in the United States. Trump argued that Obama over-stepped his authority in creating the program. But Trump gave Congress six months to come up with a replacement program in the form of legislation to be enacted into law. Democratic Representative Henry Cuellar, who attended a White House meeting with Trump earlier on Wednesday, told reporters the president said he would not insist on wall funding as part of a Dreamers bill, but would pursue it on other, future legislation. Cuellar said Trump urged lawmakers to link a Republican bill to cut legal immigration to the United States with protections for Dreamers. But many Democrats oppose lowering the cap on annual legal immigration. ",
         "Real",
         "1"
        ]
       ],
       "shape": {
        "columns": 3,
        "rows": 5
       }
      },
      "text/html": [
       "<div>\n",
       "<style scoped>\n",
       "    .dataframe tbody tr th:only-of-type {\n",
       "        vertical-align: middle;\n",
       "    }\n",
       "\n",
       "    .dataframe tbody tr th {\n",
       "        vertical-align: top;\n",
       "    }\n",
       "\n",
       "    .dataframe thead th {\n",
       "        text-align: right;\n",
       "    }\n",
       "</style>\n",
       "<table border=\"1\" class=\"dataframe\">\n",
       "  <thead>\n",
       "    <tr style=\"text-align: right;\">\n",
       "      <th></th>\n",
       "      <th>text</th>\n",
       "      <th>label</th>\n",
       "      <th>label_num</th>\n",
       "    </tr>\n",
       "  </thead>\n",
       "  <tbody>\n",
       "    <tr>\n",
       "      <th>0</th>\n",
       "      <td>Top Trump Surrogate BRUTALLY Stabs Him In The...</td>\n",
       "      <td>Fake</td>\n",
       "      <td>0</td>\n",
       "    </tr>\n",
       "    <tr>\n",
       "      <th>1</th>\n",
       "      <td>U.S. conservative leader optimistic of common ...</td>\n",
       "      <td>Real</td>\n",
       "      <td>1</td>\n",
       "    </tr>\n",
       "    <tr>\n",
       "      <th>2</th>\n",
       "      <td>Trump proposes U.S. tax overhaul, stirs concer...</td>\n",
       "      <td>Real</td>\n",
       "      <td>1</td>\n",
       "    </tr>\n",
       "    <tr>\n",
       "      <th>3</th>\n",
       "      <td>Court Forces Ohio To Allow Millions Of Illega...</td>\n",
       "      <td>Fake</td>\n",
       "      <td>0</td>\n",
       "    </tr>\n",
       "    <tr>\n",
       "      <th>4</th>\n",
       "      <td>Democrats say Trump agrees to work on immigrat...</td>\n",
       "      <td>Real</td>\n",
       "      <td>1</td>\n",
       "    </tr>\n",
       "  </tbody>\n",
       "</table>\n",
       "</div>"
      ],
      "text/plain": [
       "                                                text label  label_num\n",
       "0   Top Trump Surrogate BRUTALLY Stabs Him In The...  Fake          0\n",
       "1  U.S. conservative leader optimistic of common ...  Real          1\n",
       "2  Trump proposes U.S. tax overhaul, stirs concer...  Real          1\n",
       "3   Court Forces Ohio To Allow Millions Of Illega...  Fake          0\n",
       "4  Democrats say Trump agrees to work on immigrat...  Real          1"
      ]
     },
     "execution_count": 7,
     "metadata": {},
     "output_type": "execute_result"
    }
   ],
   "source": [
    "df.head()"
   ]
  },
  {
   "cell_type": "code",
   "execution_count": null,
   "id": "9fd03d70",
   "metadata": {},
   "outputs": [],
   "source": [
    "import spacy\n",
    "nlp = spacy.load(\"en_core_web_lg\")\n",
    "# doc = nlp(\"King harry jumps over the pond\")\n",
    "# doc.vector.shape"
   ]
  },
  {
   "cell_type": "code",
   "execution_count": 9,
   "id": "3e372c8b",
   "metadata": {},
   "outputs": [],
   "source": [
    "## create a new column by extracting text from every-row to store vectors for text column\n",
    "df[\"vector\"] = df[\"text\"].apply(lambda x : nlp(x).vector)"
   ]
  },
  {
   "cell_type": "code",
   "execution_count": 10,
   "id": "b1b9cdc1",
   "metadata": {},
   "outputs": [
    {
     "data": {
      "application/vnd.microsoft.datawrangler.viewer.v0+json": {
       "columns": [
        {
         "name": "index",
         "rawType": "int64",
         "type": "integer"
        },
        {
         "name": "text",
         "rawType": "object",
         "type": "string"
        },
        {
         "name": "label",
         "rawType": "object",
         "type": "string"
        },
        {
         "name": "label_num",
         "rawType": "int64",
         "type": "integer"
        },
        {
         "name": "vector",
         "rawType": "object",
         "type": "unknown"
        }
       ],
       "ref": "51b093c1-4596-48b8-973b-e5ea9b6cb38f",
       "rows": [
        [
         "0",
         " Top Trump Surrogate BRUTALLY Stabs Him In The Back: ‘He’s Pathetic’ (VIDEO) It s looking as though Republican presidential candidate Donald Trump is losing support even from within his own ranks. You know things are getting bad when even your top surrogates start turning against you, which is exactly what just happened on Fox News when Newt Gingrich called Trump  pathetic. Gingrich knows that Trump needs to keep his focus on Hillary Clinton if he even remotely wants to have a chance at defeating her. However, Trump has hurt feelings because many Republicans don t support his sexual assault against women have turned against him, including House Speaker Paul Ryan (R-WI). So, that has made Trump lash out as his own party.Gingrich said on Fox News: Look, first of all, let me just say about Trump, who I admire and I ve tried to help as much as I can. There s a big Trump and a little Trump. The little Trump is frankly pathetic. I mean, he s mad over not getting a phone call? Trump s referring to the fact that Paul Ryan didn t call to congratulate him after the debate. Probably because he didn t win despite what Trump s ego tells him.Gingrich also added: Donald Trump has one opponent. Her name is Hillary Clinton. Her name is not Paul Ryan. It s not anybody else. Trump doesn t seem to realize that the person he should be mad at is himself because he truly is his own worst enemy. This will ultimately lead to his defeat and he will have no one to blame but himself.Watch here via Politico:Featured Photo by Joe Raedle/Getty Images",
         "Fake",
         "0",
         "[-1.03623025e-01  1.78026840e-01 -1.18738607e-01 -3.46171632e-02\n  6.17397353e-02  5.44379326e-03  3.72417346e-02 -1.46954745e-01\n -7.31774420e-03  2.19481683e+00 -1.82636201e-01 -4.05055135e-02\n  2.18074918e-02 -9.40282866e-02 -1.41224325e-01 -2.92077921e-02\n -1.00359641e-01  7.41805434e-01 -1.87001139e-01  2.10241508e-02\n  6.02914905e-03 -7.62191648e-03 -1.55197382e-02 -9.86967906e-02\n  4.69409786e-02  1.98165756e-02 -1.43389523e-01 -6.18033074e-02\n  4.10989486e-03 -7.19727576e-02 -6.60051405e-02  9.09516141e-02\n -3.62881385e-02  6.47587478e-02  8.69439393e-02 -3.34322341e-02\n -1.21754715e-02  4.13785167e-02 -9.98522490e-02 -5.67569956e-02\n -6.29577879e-03  1.06801456e-02 -5.47631131e-03 -4.71014343e-02\n  1.78253464e-03  1.47262951e-02 -1.35815486e-01 -4.12411578e-02\n  5.56395447e-04  3.77382897e-02 -6.05056994e-02  6.27260655e-02\n -1.73180420e-02 -5.28032556e-02 -9.58575215e-03  5.51796146e-02\n -3.67133319e-02  1.49312639e-03  6.75132424e-02 -1.14630230e-01\n -9.05990526e-02  2.87048630e-02 -3.66065726e-02  1.21983759e-01\n  7.82709047e-02 -5.26104979e-02 -7.26016797e-03  3.50498669e-02\n  3.81219462e-02  2.67754458e-02 -1.03254188e-02  4.88174856e-02\n  1.59610912e-01 -5.18517420e-02  1.97384343e-03  3.03209070e-02\n  6.58917204e-02 -1.03629656e-01 -2.39346903e-02  1.72349900e-01\n -7.78371766e-02  2.18012948e-02 -9.84967873e-02  3.80397178e-02\n  4.70286161e-02 -1.87105015e-01  1.46632329e-01 -2.97506958e-01\n  1.70053720e-01 -4.97925393e-02 -1.42676324e-01  4.59272899e-02\n -5.61071783e-02  3.21718790e-02  1.14707172e-01 -8.51621255e-02\n -6.56725513e-03 -7.35799596e-02 -7.46015087e-02 -3.78263891e-02\n -6.45552343e-03  6.32578358e-02 -1.33099761e-02 -7.13277385e-02\n  7.25139603e-02 -6.65168345e-01  6.36260435e-02 -3.12978737e-02\n -6.70920238e-02  7.02253506e-02  3.20827141e-02 -6.28682375e-02\n  5.31992055e-02 -9.39274505e-02  5.41261919e-02  2.92926729e-02\n  4.09471653e-02 -8.37796554e-02  3.76578234e-02 -3.47337499e-02\n  4.56340276e-02  4.09632176e-02  4.83089872e-02  4.21388298e-02\n -3.14818360e-02  5.37315719e-02 -4.19768207e-02 -1.01597786e-01\n -3.64507409e-03 -6.78965822e-02 -9.74029154e-02 -1.58027355e-02\n -3.62807997e-02 -3.93541679e-02  5.83836846e-02  1.57910679e-02\n  3.19154817e-03  6.18473627e-03 -4.45538387e-03 -9.47654769e-02\n -1.37818134e+00  8.79629031e-02  1.12524182e-01  5.06031699e-02\n  2.50006430e-02 -2.73961145e-02 -9.55815800e-03  3.65972742e-02\n -2.87695434e-02 -4.89169061e-02  2.74307784e-02 -2.10263599e-02\n  7.09004998e-02  3.15652527e-02 -1.40753610e-03 -1.71695761e-02\n -1.15822732e-01 -3.39565314e-02 -1.04598431e-02 -2.71042101e-02\n -2.96119917e-02 -1.50012865e-03 -4.65234444e-02  6.63869409e-03\n -7.05763921e-02 -1.49093822e-01  4.91686985e-02 -5.60098849e-02\n  1.11138858e-01 -2.29013269e-03 -1.24752082e-01  9.33353603e-03\n  7.88172409e-02 -4.17906269e-02 -2.39277259e-02  5.14021590e-02\n  1.34434886e-02  2.95603275e-02 -5.84830251e-03  2.52093305e-03\n  4.15705740e-02 -3.85722257e-02 -4.77828234e-02 -7.05901310e-02\n  2.65453663e-02  6.33687451e-02 -7.01145176e-03  4.06502932e-03\n  4.41267788e-02  3.82506661e-02  2.51834337e-02 -2.19320282e-02\n -9.42378640e-02  4.90066968e-02  6.31317645e-02  8.46757591e-02\n -5.96502610e-02 -8.60340446e-02  2.50277147e-02  1.92606032e-01\n  3.70087265e-03 -7.09720701e-02 -6.58334717e-02 -7.00055212e-02\n  1.03610098e-01 -2.33219005e-02  7.44386017e-03 -4.57090214e-02\n  1.85229704e-02 -7.95100257e-03 -1.36152506e-01 -2.39448473e-02\n -2.70458544e-03 -5.44300787e-02  1.26327708e-01  1.49853870e-01\n -6.21764883e-02  3.77865769e-02 -1.85670719e-01 -4.17341702e-02\n  3.07614785e-02  2.72546653e-02 -9.63417962e-02  2.71059480e-02\n -6.56008953e-03  7.43475789e-03 -6.86825253e-03  7.75931701e-02\n  1.12876506e-03  4.78405803e-02 -9.05667320e-02  2.43176706e-03\n  7.98712373e-02  2.67960411e-02 -1.56194523e-01 -9.72819701e-02\n  3.56183425e-02 -5.35553843e-02 -5.93692772e-02  1.01384781e-01\n  3.27519774e-02 -4.15312964e-03 -1.29599236e-02  7.67201632e-02\n  9.80145931e-02 -1.74724162e-01 -3.58721539e-02 -6.39301091e-02\n -1.18761905e-01  9.25968215e-02  5.37578166e-02 -4.71072458e-02\n -6.35361373e-02 -1.00834325e-01  2.74800453e-02  1.42290354e-01\n -1.34931615e-04 -5.91828339e-02 -2.93741841e-02 -1.18824728e-02\n  7.59473965e-02  1.64389759e-01  1.39078842e-02  7.81650096e-02\n  1.14039660e-01 -5.20740636e-02 -1.27180731e-02 -1.02988845e-02\n  2.60349154e-01  3.96480896e-02  4.56978902e-02  2.54292451e-02\n -5.69338650e-02 -4.43915688e-02 -3.22280861e-02  3.32991146e-02\n  5.83363995e-02  3.47480439e-02  9.49389208e-03  1.34941578e-01\n  1.47993177e-01  3.42722721e-02  1.40480408e-02  2.28033531e-02\n -3.34697478e-02 -4.81963269e-02  6.70237094e-02 -4.54664454e-02\n  8.41350779e-02  5.85870026e-03 -6.22191615e-02  4.12191488e-02\n -1.01005182e-01 -2.76294351e-02  6.13882206e-02  3.17271054e-02\n -3.75141129e-02 -7.21501112e-02  2.87251547e-02  2.42962241e-02]"
        ],
        [
         "1",
         "U.S. conservative leader optimistic of common ground on healthcare WASHINGTON (Reuters) - Republicans in the U.S. House of Representatives could achieve common ground on a deal to win support for healthcare legislation on Thursday, after President Donald Trump intervened in negotiations, a conservative leader said on Wednesday. “We’re not there yet, but we’re very optimistic that if we work around the clock between now and Noon tomorrow, that we’re going to be able to hopefully find some common ground,” Representative Mark Meadows, chairman of the conservative House Freedom Caucus, told reporters. Meadows’ group has opposed House Republican healthcare legislation up to now and threatened earlier in the day to block its passage in a Thursday vote.  ",
         "Real",
         "1",
         "[-6.34063641e-03  1.67120412e-01 -6.66137263e-02  1.75661407e-02\n  8.11440423e-02 -3.73035483e-02 -4.75491211e-02 -5.70218228e-02\n  1.91971958e-02  2.31843638e+00 -2.21921995e-01 -1.53244482e-02\n  6.08679242e-02 -6.63011521e-02 -1.56521320e-01  2.85042394e-02\n -5.02779968e-02  8.55553448e-01 -1.25241861e-01  5.70315460e-04\n -1.85124893e-02  6.62154481e-02  3.81681696e-02 -4.57056575e-02\n  1.24906958e-03 -1.15291337e-02 -1.33751899e-01 -2.34420560e-02\n -8.11735634e-03 -7.14776963e-02  3.68757668e-04  5.45736440e-02\n  3.69499959e-02 -3.45386285e-03  6.89265728e-02  1.59640480e-02\n  1.33209284e-02  9.49593959e-04 -1.22717664e-01 -1.94495246e-02\n  9.49479453e-03  8.95661265e-02  1.15581602e-03 -2.67676450e-02\n  2.96749435e-02  3.45321707e-02 -8.15177336e-02 -1.02384016e-01\n  3.54661494e-02 -2.63204966e-02 -4.01751995e-02  1.05659410e-01\n -3.16597521e-02  1.89702976e-02  5.22166602e-02  1.95136424e-02\n -9.45226029e-02  7.12774182e-03  4.31272537e-02 -6.01826981e-02\n -7.16152638e-02  3.84423211e-02 -5.06246127e-02  1.03537843e-01\n  6.23589978e-02 -3.64036597e-02 -4.79936451e-02  3.24739553e-02\n -2.08550859e-02  7.45107979e-02 -3.47006065e-03  7.10975006e-02\n  1.07489206e-01 -6.61993772e-02  1.12348743e-01  3.42163979e-03\n  3.78804132e-02 -4.25241441e-02 -2.13596653e-02  1.61554411e-01\n -4.95444834e-02  5.39751239e-02 -6.62496090e-02  3.40616815e-02\n  3.48047283e-03 -1.68005332e-01 -2.20615342e-02 -1.29700571e-01\n  2.35421941e-01  5.67112975e-02 -1.19221965e-02 -2.26143878e-02\n -2.45495681e-02  4.19925153e-02  4.72613648e-02 -6.25337958e-02\n -6.15777336e-02 -3.52968797e-02  1.32151749e-02 -4.33649868e-02\n -1.41991430e-03  2.62992196e-02 -8.60516429e-02  5.54085709e-03\n  3.67638431e-02 -7.58304358e-01  8.73587877e-02 -3.58582996e-02\n  9.06857010e-03  1.04206890e-01 -2.44776048e-02 -9.36876237e-02\n  5.27056605e-02 -5.00991270e-02  6.39777854e-02  4.67802472e-02\n  4.00140062e-02 -6.27183020e-02 -4.19368297e-02 -5.05271219e-02\n  8.86349306e-02 -1.68316625e-02 -3.24105211e-02  2.10690089e-02\n -8.79930705e-03  7.79521987e-02  8.36103484e-02 -4.14837338e-02\n  4.95464355e-03 -1.76306274e-02 -4.23047207e-02 -2.34662294e-02\n -4.15648520e-02 -2.73683686e-02  2.03077942e-02  2.13847328e-02\n  8.65077227e-03 -1.15435617e-02  4.36453186e-02 -2.07760781e-02\n -8.96011949e-01 -4.31279931e-03  6.95068538e-02 -8.90822560e-02\n  8.00275505e-02  2.58117411e-02 -7.86014497e-02  3.60629335e-02\n  4.55467263e-03 -3.55583765e-02 -6.70072660e-02 -8.66034403e-02\n  4.10728715e-02  4.58972491e-02 -5.65377064e-02  4.20723334e-02\n  6.81483466e-03  5.22776973e-04 -6.92717656e-02 -1.24183400e-02\n -6.66974485e-02  4.28997949e-02 -1.33770391e-01  2.29391898e-03\n -1.12383634e-01 -6.81832135e-02  6.10574670e-02 -3.42281498e-02\n  1.17915064e-01  1.49215078e-02  1.77114587e-02  5.03834970e-02\n  2.37565511e-03 -6.17038039e-03 -6.97198808e-02  1.92825887e-02\n  9.73731279e-03 -1.55345136e-02  6.52812198e-02  3.37973097e-03\n -3.55991349e-03 -8.66739079e-02 -5.32421209e-02 -8.55607837e-02\n  1.44132795e-02 -2.34051142e-02  4.17138524e-02 -1.32477367e-02\n  4.60789762e-02  9.68724117e-03  3.39181982e-02  3.93304089e-03\n -1.12037351e-02  2.09768824e-02  6.00448176e-02  1.29415751e-01\n -6.38586432e-02 -8.25682003e-03 -6.38902932e-02  1.18392751e-01\n  2.13791132e-02 -5.55634685e-03 -2.52785236e-02 -6.22350909e-02\n  2.06931144e-01 -1.55868530e-02 -3.21953967e-02 -2.60607284e-02\n  2.24151667e-02 -3.47546265e-02 -6.27894029e-02  3.46468464e-02\n -1.86894592e-02 -4.35646325e-02  1.00335322e-01  1.07479267e-01\n -5.11316173e-02  2.13273112e-02 -1.84296042e-01  2.58792657e-03\n  3.39589524e-03 -1.04846330e-02 -9.42922682e-02  2.33775452e-02\n  4.95781116e-02 -2.05027293e-02 -1.06779896e-02  2.69312672e-02\n -8.82406719e-03  3.03278640e-02 -1.00571616e-02  1.09087452e-01\n  1.02588169e-01  3.88497636e-02 -7.04749823e-02 -9.43606496e-02\n -5.50960824e-02 -1.24765240e-01 -1.12594161e-02  9.66072828e-02\n  1.67672224e-02 -9.11523625e-02  6.43281341e-02  7.19247237e-02\n  1.70940291e-02 -9.38044712e-02  4.41876380e-03 -1.00391217e-01\n -1.26558989e-01 -4.61489484e-02 -5.80794457e-03  1.07205352e-02\n -2.27435697e-02 -8.29834118e-02 -6.09477889e-03  1.73616067e-01\n  5.18537872e-02 -3.27022970e-02 -8.39134976e-02 -2.75199525e-02\n  7.67757893e-02  1.22567229e-01 -1.62552129e-02  1.21274851e-01\n  6.07367977e-02 -1.83066055e-01 -1.76940616e-02 -7.67895803e-02\n  2.64167577e-01  3.59236524e-02  4.39318977e-02  1.18056983e-02\n -9.73811150e-02 -3.80500928e-02 -3.98240909e-02  3.48409526e-02\n  8.11590813e-03  1.02008589e-01  4.22422104e-02  1.70891583e-01\n  1.84784219e-01 -7.57062733e-02 -4.31412980e-02  5.95903546e-02\n -4.37188111e-02 -5.31305969e-02  9.62507725e-02 -4.69307192e-02\n  6.89526498e-02  9.06264558e-02 -1.44184723e-01 -8.43612757e-03\n  3.46412435e-02 -5.87149523e-02 -5.30244261e-02 -1.70470960e-02\n  1.60508007e-02 -7.40955323e-02 -5.13534546e-02  6.87136799e-02]"
        ],
        [
         "2",
         "Trump proposes U.S. tax overhaul, stirs concerns on deficit WASHINGTON (Reuters) - President Donald Trump proposed on Wednesday the biggest U.S. tax overhaul in three decades, calling for tax cuts for most Americans, but prompting criticism that the plan favors business and the rich and could add trillions of dollars to the deficit. The proposal drew a swift, skeptical response from Senator Bob Corker, a leading Republican “fiscal hawk,” who vowed not to vote for any federal tax package financed with borrowed money. “What I can tell you is that I’m not about to vote for any bill that increases our deficit, period,” Corker, who said on Tuesday he would not seek re-election in 2018, told reporters. Trump said his tax plan was aimed at helping working people, creating jobs and making the tax code simpler and fairer. But it faces an uphill battle in the U.S. Congress with Trump’s own Republican Party divided over it and Democrats hostile. The plan would lower corporate and small-business income tax rates, reduce the top income tax rate for high-earning American individuals and scrap some popular tax breaks, including one that benefits people in high-tax states dominated by Democrats. Forged during months of talks among Trump’s aides and top congressional Republicans, the plan contained few details on how to pay for the tax cuts without expanding the budget deficit and adding to the nation’s $20 trillion national debt. The plan still must be turned into legislation, which was not expected until after Congress makes progress on the fiscal 2018 budget, perhaps in October. It must then be debated by the Republican-led congressional tax-writing committees. Analysts were skeptical that Congress could approve a tax bill this year, but that is what Republicans hope to achieve so they can enter next year’s congressional election campaigns with at least one legislative achievement to show for 2017. Financial markets rallied on the plan’s unveiling, an event long anticipated by traders betting that stocks would benefit from both faster economic growth and inflation. At an event in Indianapolis, Trump called the plan the largest tax cut in U.S. history. “We want tax reform that is pro-growth, pro-jobs, pro-worker, pro-family and, yes, tax reform that is pro-American,” he said. The real estate mogul-turned-politician, who promised big tax cuts as a candidate, told reporters he personally would not gain financially from the proposal. “I think there’s very little benefit for people of wealth,” said Trump, who unlike many of his White House predecessors, has refused to make public his own tax returns. Republicans have produced no major legislative successes since Trump took office in January, even though they control the White House and both chambers of Congress. Their top legislative priority, overhauling the U.S. healthcare system, collapsed again in the Senate on Tuesday. A comprehensive rewrite of the U.S. tax code has eluded previous presidents and Congress for decades. The last one was passed in 1986 under Republican President Ronald Reagan. Trump’s plan falls short of the sweeping, bipartisan package crafted by Reagan and congressional Democrats, analysts said. The White House said that, under the proposal, typical middle-class families would have less income subject to federal tax. Trump said the first $12,000 earned by an individual and the first $24,000 by a married couple would be tax-free. The plan would lower the top individual tax rate, paid by the nation’s top earners, to 35 percent from 39.6 percent. It would lower the top corporate income tax rate to 20 percent from the current 35 percent. The existing rate is high globally, but many U.S.-based multinationals pay much less than the headline rate because of abundant loopholes and tax breaks. Trump has appealed to Democrats to back the plan, although they were not consulted in drafting it. Republicans hold a thin 52-48 Senate majority and may need some Democratic support to win passage. But Democrats said the plan would expand the federal deficit in order to deliver tax cuts to wealthy Americans rather than the middle-class families that Trump and Republicans say they are trying to help.  “If this framework is all about the middle class, then Trump Tower is middle-class housing,” said Senator Ron Wyden, the top Democrat on the tax law-writing Senate Finance Committee.      Republican Kevin Brady, chairman of the tax-writing House of Representatives Ways and Means Committee, said he expected tax legislation to be passed by the end of this year. The Committee for a Responsible Federal Budget, a Washington-based policy group, estimated on Wednesday the plan contained about $5.8 trillion of total tax cuts over a decade and would have a net cost of $2.2 trillion through 2027. Analysts have warned huge tax cuts would balloon the deficit if economic growth projected by Republicans to offset the costs fails to materialize amid rising interest rates. ‘PASS-THROUGH’ RATE The plan would set a new 25 percent tax rate for “pass-through” businesses, which are usually small, private enterprises, such as partnerships and sole proprietorships. They represent about 95 percent of all U.S. businesses. Under current law, the profits of those companies “pass through” directly to their owners and are taxed as personal income, often at the top 39.6 percent individual income rate. Cutting that to 25 percent could mean big tax savings for small-business owners, but also be vulnerable to abuse by other individuals and companies, analysts said. Republicans proposed eliminating some tax deductions. They did not target the popular ones for mortgage interest and charitable giving, but called for scrapping the one for state and local tax payments. That could especially hurt people in high-tax states like California and New York. In a step to simplify tax returns, the plan would shrink the current seven tax brackets to three: 12 percent, 25 percent and 35 percent. That would raise the bottom tax rate on low-earning Americans to 12 percent from 10 percent, but analysts said other parts of the plan would still mean a net tax cut. ",
         "Real",
         "1",
         "[-1.22753024e-01  1.71923846e-01 -2.47326382e-02 -6.01727627e-02\n  8.27511027e-03 -3.50667983e-02  9.49652772e-03 -3.90882380e-02\n  2.76032016e-02  2.28624392e+00 -2.66208768e-01  6.76427409e-02\n  4.35043797e-02 -4.46630269e-03 -1.33299470e-01 -4.75045443e-02\n -4.88258749e-02  9.88021731e-01 -1.14316083e-01  1.36760948e-02\n -3.75454151e-03  1.81304924e-02  5.61559759e-03 -7.67458379e-02\n -1.16970837e-02  3.20340041e-03 -1.41249090e-01 -1.30213704e-03\n -2.27126628e-02 -1.38642415e-02 -4.87790741e-02  9.15035903e-02\n -1.40132792e-02  1.17843915e-02  1.09145068e-01 -4.53687571e-02\n -6.19796813e-02  4.66152607e-03 -6.72147721e-02 -2.33710557e-02\n  2.21177414e-02  1.00570112e-01  7.50787929e-02 -8.02582130e-02\n -8.31710827e-03  1.84223689e-02 -3.16620879e-02 -5.40029071e-02\n  5.33116534e-02  1.52338082e-02 -7.25162178e-02  4.34889309e-02\n -4.76332679e-02  2.55032093e-03  4.26941132e-03 -1.13978693e-02\n -2.26062238e-02 -2.06464785e-03 -2.80991644e-02 -1.07012160e-01\n -6.11039624e-02 -4.00212295e-02 -7.32359439e-02  1.88454673e-01\n  8.35597590e-02 -4.96613085e-02  1.54759865e-02  8.47003832e-02\n  9.03933309e-03  1.10470476e-02  7.24652708e-02  5.53855039e-02\n  1.03735700e-01 -5.23027256e-02  3.95586714e-02 -7.26578524e-03\n  9.23905447e-02 -3.11517660e-02  3.92657146e-02  1.84960261e-01\n -3.55995260e-02  7.04334602e-02 -2.74042208e-02 -1.62003934e-02\n  1.14977884e-03 -9.34199020e-02 -3.03376000e-02 -1.27271399e-01\n  2.32649609e-01 -3.46152112e-03 -2.54573766e-02 -1.27759613e-02\n  6.49564713e-03  2.40186900e-02  4.12141085e-02 -6.31197467e-02\n -7.43346661e-02 -1.76944013e-03  5.78147359e-02 -7.08962232e-02\n  1.43011753e-02  7.49121979e-02 -1.58856705e-01 -1.66524108e-02\n -4.73057805e-03 -7.98977673e-01  7.82220960e-02 -2.66551562e-02\n -7.06513459e-03  3.98401320e-02 -9.58479010e-03 -1.01539023e-01\n -2.53389906e-02 -7.61403218e-02  4.02290598e-02 -1.98204163e-02\n -2.76152100e-02 -7.20770806e-02  2.52609812e-02 -1.16159590e-02\n  6.25194684e-02  2.81863306e-02 -4.94568273e-02 -8.10489338e-03\n -1.11893527e-01  9.46958512e-02  6.58290833e-02 -1.50682451e-02\n -1.06741290e-03  5.81591530e-03 -2.93662399e-02 -1.10359481e-02\n -2.18988792e-03 -2.30535697e-02  5.78745566e-02  4.49728407e-02\n -2.01562513e-03  5.17235417e-03 -4.70882803e-02 -3.56117524e-02\n -7.48520434e-01  4.48569916e-02  1.49524808e-01 -2.30075810e-02\n  4.33108807e-02 -3.42617445e-02 -2.04375070e-02  9.65692997e-02\n  3.34998369e-02 -1.43290041e-02  2.93670967e-02 -6.73441663e-02\n  2.69696396e-02  4.62493673e-02  2.93473583e-02 -1.60588250e-02\n -2.22178418e-02  5.67879006e-02 -1.24178760e-01  5.48387552e-03\n  2.65468694e-02  8.87122452e-02 -1.13490283e-01 -8.33685100e-02\n -2.26990864e-01 -6.73841909e-02  1.15548022e-01 -5.73923290e-02\n  1.50998041e-01 -3.76669434e-03  3.61527130e-02  1.41046047e-02\n  1.18493056e-02 -1.37111768e-02 -5.53818345e-02 -9.04675666e-03\n  1.05016204e-02 -6.97096996e-03  1.22379579e-01  1.07124392e-02\n -1.04245422e-02 -2.89833490e-02 -1.32223517e-01 -8.93276930e-02\n -5.56061007e-02  1.77939143e-02  2.88915797e-03  7.47132814e-04\n -3.78327072e-03  7.95888901e-02  6.22115023e-02  1.59909911e-02\n -4.29491773e-02 -8.95801000e-03  2.86352839e-02  4.27495725e-02\n -6.11120984e-02  1.28630679e-02 -4.26726416e-02  1.25508249e-01\n  9.06115100e-02 -7.51160756e-02 -6.93255216e-02 -1.75053235e-02\n  1.65603921e-01 -9.52696614e-03  3.61880362e-02  1.41666587e-02\n -4.77005821e-03  3.75732258e-02 -4.25743125e-02 -4.44260519e-03\n -7.43216649e-02 -5.74572310e-02  1.64377242e-01  1.31709397e-01\n -9.54895988e-02  3.66994515e-02 -1.26746133e-01  5.39450496e-02\n -6.69465363e-02  4.14642654e-02 -1.46597058e-01  3.70570160e-02\n  3.76703814e-02 -6.63077012e-02  8.83264560e-03  9.03472900e-02\n  9.11148079e-03  2.41121799e-02  1.66910328e-02 -1.26512274e-02\n  9.49039012e-02  4.99345995e-02 -1.30796924e-01 -3.67796011e-02\n  3.74159077e-03 -7.23046809e-02 -9.51220188e-03  6.66407794e-02\n -2.90566180e-02 -8.96050408e-02  6.19747341e-02  9.58186537e-02\n  8.18516016e-02 -1.45076007e-01 -2.25208793e-02 -8.24779272e-02\n -9.00975764e-02  1.59258787e-02  4.91970219e-02  5.80425970e-02\n -5.04703596e-02 -6.26237839e-02  6.73362287e-03  2.97063231e-01\n  7.42017152e-03 -7.23071545e-02 -4.05626893e-02  3.14702764e-02\n  4.16468643e-02  1.75481468e-01 -1.20084109e-02  1.54233947e-01\n  4.39246483e-02 -2.15759501e-01 -1.56052308e-02 -8.82725269e-02\n  3.10731143e-01 -6.64828252e-03  1.01540297e-01 -6.50220439e-02\n -1.90264434e-02 -1.18644066e-01 -2.96884980e-02 -3.85528207e-02\n -7.46821379e-03  9.62117463e-02  3.25484760e-02  8.87234583e-02\n  1.74113482e-01 -2.91904341e-03 -4.16085236e-02  1.04252942e-01\n -9.86848958e-03 -6.96935430e-02  8.04762393e-02 -7.79458731e-02\n  5.35707995e-02  8.70820135e-02 -2.21161693e-01  6.32772222e-02\n  8.14825520e-02 -7.60428049e-03 -5.06760068e-02 -4.06135283e-02\n -3.00366543e-02 -9.11405236e-02  4.75158840e-02  2.57912949e-02]"
        ],
        [
         "3",
         " Court Forces Ohio To Allow Millions Of Illegally Purged Voters Back On The Rolls Donald Trump is semi-right: this election might be rigged. However, this election is rigged against the people, not him.Take a look at Ohio, a key battleground state in the never-ending 2016 election. After purging more than two million voters from the roles, a high court smacked down Republican Secretary of State John Hustad for violating the National Voter Registration Act.Hustad s purge, which included some dead people and those who moved out of state, also included those who moved in the same county and those who have not voted in past elections (at least since 2011). Those who were purged were overwhelmingly black, low-income and Democratic voters. A Reuters investigation found that in the state s major cities (Cleveland, Columbus, and Cincinnati) the voters in Democratic-leaning neighborhoods and precincts were illegally purged at twice the rate as in Republican.So, on Wednesday night, while everyone was watching the final presidential debate (in which Trump again claimed the election is rigged against him), the United States District Court for the Southern District of Ohio, at the behest of Republican appointee Judge George C. Smith, ordered the voters   save the dead and moved   back onto the rolls immediately and have their voting rights restored.Judge Smith accused Hustad of voter disenfranchisement, writing:If those who were unlawfully removed from the voter rolls are not allowed to vote, then the Secretary of State is continuing to to disenfranchise voters in violation of federal law.The case was originally heard by the 6th U.S. Circuit Court of Appeals, which also ruled against Hustad, but was sent back to the District Court for a rehearing. Obviously, both courts realized the illegal power grab by the state at the behest of the GOP, and they weren t having it.Time and time again the courts have struck down illegal rigging practices by the Republicans, thus saving the nation from an unbalanced electoral system. Voting is a right in this country, and partisan politicos should not have the power to take it away just because.If anyone can complain about a rigged election, it s Hillary Clinton.Featured image via John Sommers II/Getty Images",
         "Fake",
         "0",
         "[-2.73373183e-02  1.25014171e-01 -7.39653874e-03 -3.98308598e-02\n  1.96655672e-02  1.31234769e-02 -3.29331197e-02 -3.84511687e-02\n -1.43507831e-02  2.29100108e+00 -1.54451177e-01  1.81952752e-02\n  8.68338421e-02 -1.09109797e-01 -2.13408649e-01 -7.22604841e-02\n -5.94523139e-02  8.47142279e-01 -1.23155273e-01 -1.54691399e-03\n  3.10934596e-02 -9.74361226e-02  1.12001030e-02 -3.79846543e-02\n  7.26731792e-02 -2.06673928e-02 -1.66517094e-01 -5.41673191e-02\n -3.01357545e-02 -2.97634490e-02 -2.66483612e-02  8.28540772e-02\n -4.60110195e-02  2.60694996e-02  9.12970155e-02 -4.25060652e-02\n -7.11722523e-02  4.87360824e-03 -9.94117036e-02 -5.57966158e-02\n -1.40890349e-02  1.20761648e-01  4.02655974e-02 -5.66083938e-02\n  2.80672833e-02  1.28304446e-02 -9.25025493e-02 -5.25879068e-03\n  1.11512644e-02 -2.82106679e-02 -6.19649291e-02  7.78718293e-02\n -6.81912974e-02 -6.34916127e-03 -8.58079921e-03  4.29197028e-02\n  2.05466198e-03 -4.70181927e-02  3.68652516e-03 -6.99613467e-02\n -7.26809427e-02  3.44662778e-02 -3.46967764e-02  1.94108248e-01\n  6.33895956e-03  3.60472389e-02 -2.94982493e-02  1.36288656e-02\n  2.20605787e-02  4.19933870e-02  7.95010999e-02  9.28775817e-02\n  1.42770901e-01 -7.63553903e-02  1.19595990e-01 -6.02011047e-02\n -9.30099934e-03 -9.68054589e-03 -3.11390543e-03  1.49995089e-01\n -5.88877164e-02  7.08734170e-02 -6.75571635e-02 -4.43748385e-02\n  5.70545718e-02 -1.05082117e-01  4.78116795e-02 -2.04192832e-01\n  1.62232205e-01 -1.38920713e-02 -7.03076124e-02  1.39067834e-02\n  1.74616035e-02  1.71893165e-02  1.36200726e-01 -8.63886401e-02\n -2.59813126e-02 -1.04819401e-03 -2.30631977e-02 -3.36205363e-02\n  1.49761792e-02  7.09425732e-02 -6.22047670e-02 -4.41073440e-02\n  4.93170023e-02 -7.30489850e-01  3.56123708e-02 -5.44589087e-02\n  4.53646705e-02  2.91233175e-02  3.04540619e-03 -4.29080762e-02\n  1.17573526e-03 -7.49834180e-02 -1.33528851e-03  5.29767945e-03\n  3.60477753e-02 -3.23216803e-02 -6.33540452e-02 -3.67901959e-02\n  1.21134066e-03  7.46002719e-02 -2.39385106e-02  1.40229156e-02\n -6.54146522e-02  3.28577571e-02  6.80283904e-02 -5.22848926e-02\n  7.19954073e-03  3.90730910e-02 -6.58531561e-02 -3.59914941e-03\n -5.16695641e-02 -1.53605640e-01  6.00166395e-02  6.57238578e-03\n  2.75551807e-02  7.93160722e-02  7.93212745e-03 -4.18636240e-02\n -8.49845648e-01  9.40657854e-02  1.44922286e-01 -4.63907830e-02\n  1.02375254e-01  3.24020237e-02 -2.28111129e-02  7.72214634e-03\n  1.95277762e-02 -2.28911135e-02 -2.09508706e-02 -7.87252113e-02\n  3.11137978e-02  9.57799982e-03 -2.63081845e-02  2.56087799e-02\n -9.06841010e-02 -3.98484012e-03 -2.38938630e-02  8.60738568e-03\n -1.53791218e-03  2.41999533e-02 -8.59921612e-03  1.32970437e-02\n -1.96069300e-01 -8.54399875e-02  4.66218889e-02 -4.39276509e-02\n  1.47198915e-01  3.50537263e-02  7.80774727e-02 -8.31011403e-03\n  1.96946766e-02  2.68385299e-02 -9.09653604e-02  2.92589376e-03\n  6.84581092e-03 -2.84542888e-02  5.83929755e-02 -5.54511622e-02\n -1.23448600e-03 -2.99039111e-02 -1.40778884e-01 -1.15137927e-01\n  5.45523353e-02  5.80452196e-02 -1.21301524e-02 -1.31467474e-03\n  3.75311561e-02  4.44345810e-02 -1.87940150e-02 -1.84715949e-02\n -4.14122678e-02  5.15320487e-02  9.67399031e-02  1.23095602e-01\n -9.23328921e-02  9.22937226e-03 -1.12668276e-01  9.45081636e-02\n  5.41973859e-02  1.32003904e-03 -7.06559792e-02  2.42739003e-02\n  1.86602294e-01 -3.41106243e-02  1.20072532e-02  1.94273070e-02\n  2.44827028e-02  1.09495241e-02 -1.78317633e-02  3.16220671e-02\n -4.33157012e-02 -2.85699312e-02  9.38566849e-02  1.51158586e-01\n -1.26302764e-01  6.48039952e-02 -1.32532522e-01  8.63122717e-02\n  4.35696961e-03  4.93731163e-02 -9.27983075e-02 -1.45767080e-02\n -2.35845670e-02  2.32559536e-02  9.17812809e-03  1.05360590e-01\n  7.22990856e-02  2.74100155e-03 -5.94257228e-02  3.03400103e-02\n  9.06522125e-02  6.23718239e-02 -1.17053792e-01 -8.10329393e-02\n  3.12443152e-02 -7.02870563e-02 -1.81246419e-02  2.91476548e-02\n  1.68295158e-03 -3.18234861e-02  7.52175823e-02  5.57487085e-02\n  2.63219383e-02 -9.60932150e-02 -2.04932764e-02 -5.61270714e-02\n -1.37616456e-01  2.01378204e-02  3.26342694e-02  5.51753305e-02\n -2.67679449e-02 -8.62305164e-02  3.48867625e-02  2.56534606e-01\n  2.71857083e-02 -4.63568829e-02 -3.39968279e-02  3.59801166e-02\n  9.11991447e-02  1.16660595e-01 -1.97640061e-02  1.21049844e-01\n  4.43778411e-02 -8.80553052e-02 -1.12468917e-02 -8.57854784e-02\n  2.39826724e-01 -7.69233555e-02  9.83860865e-02 -2.26499178e-02\n -8.78259465e-02 -4.28220928e-02  2.57272124e-02  2.38097850e-02\n  3.98845635e-02  1.07183151e-01 -3.16165686e-02  3.54450978e-02\n  1.93980336e-01  3.66430171e-03 -6.45709559e-02  4.72452790e-02\n -1.59466323e-02 -4.24147286e-02  6.55357763e-02 -7.01114628e-03\n  1.20136119e-01 -1.57165285e-02 -1.76687077e-01 -1.36330500e-02\n  6.59608841e-02 -5.26410341e-02 -6.76500574e-02 -4.98543913e-03\n  9.44394246e-03 -6.19740188e-02 -3.41738574e-02  2.55387835e-02]"
        ],
        [
         "4",
         "Democrats say Trump agrees to work on immigration bill, wall in dispute WASHINGTON (Reuters) - President Donald Trump and Democratic leaders in the U.S. Congress have agreed to work together on legislation to protect “Dreamers,” the illegal immigrants who were children when they entered the United States, the lawmakers said on Wednesday, although a dispute erupted over exactly what had been agreed. Following a dinner with Trump at the White House, Senate Democratic leader Chuck Schumer and House of Representatives Democratic leader Nancy Pelosi said the “productive meeting” focused on “DACA,” a program established by former President Barack Obama. “We agreed to enshrine the protections of DACA (Deferred Action for Childhood Arrivals) into law quickly, and to work out a package of border security, excluding the wall, that’s acceptable to both sides,” Schumer and Pelosi said in a statement. All year, Democrats have insisted that they will block any legislation that contains funding for a wall along the length of the U.S. border with Mexico, a top Trump campaign goal that many Republicans in Congress also do not support. While White House officials have suggested legislation on DACA could move forward without wall funding, White House spokeswoman Sarah Sanders disputed the characterization that a deal had been reached to leave it out of any legislation focused on the Dreamers. “While DACA and border security were both discussed, excluding the wall was certainly not agreed to,” she said on Twitter. Throughout his 2016 campaign for president and since taking office in January, Trump has demanded the construction of a wall to keep out illegal immigrants and drugs. He initially said Mexico would pay for the wall but has requested money from the U.S. Congress after the government of Mexico refused to pay. The dinner was the latest effort in a new initiative by Trump to work with opposition party Democrats on major legislation. Following the dinner, a White House official said the president, Schumer and Pelosi discussed tax reform, immigration, border security, infrastructure investments and trade as part of Trump’s bid to reach out to Democrats. “The administration looks forward to continuing these conversations with leadership on both sides of the aisle,” the official said. Over a dinner of Chinese food, Trump and the Democratic leaders also discussed issues related to U.S.-China trade, according to a congressional aide briefed on the meeting. Schumer and Pelosi also said that they urged Trump to make permanent government subsidy payments under the Affordable Care Act, also known as “Obamacare.” “Those discussions will continue,” the lawmakers said. Trump and most Republicans in Congress have demanded the repeal of Obamacare but have been unable to agree on a replacement for the healthcare program that became law in 2010. Using his executive powers, Trump canceled Obama’s DACA program in which about 800,000 undocumented young people have escaped the threat of deportation and been able to apply for work permits in the United States. Trump argued that Obama over-stepped his authority in creating the program. But Trump gave Congress six months to come up with a replacement program in the form of legislation to be enacted into law. Democratic Representative Henry Cuellar, who attended a White House meeting with Trump earlier on Wednesday, told reporters the president said he would not insist on wall funding as part of a Dreamers bill, but would pursue it on other, future legislation. Cuellar said Trump urged lawmakers to link a Republican bill to cut legal immigration to the United States with protections for Dreamers. But many Democrats oppose lowering the cap on annual legal immigration. ",
         "Real",
         "1",
         "[-3.27080265e-02  9.39585045e-02 -3.28700207e-02 -8.44074786e-03\n  3.21466625e-02 -2.36476976e-02 -3.28871123e-02 -8.12041014e-02\n -2.69314111e-03  2.31706643e+00 -2.23253682e-01  2.47821435e-02\n  5.38996980e-02 -3.11214738e-02 -1.59180745e-01 -2.50912625e-02\n -4.32429500e-02  8.43242884e-01 -1.22721128e-01 -1.06525999e-02\n  3.48115563e-02  1.97537672e-02  4.48542908e-02 -4.43891399e-02\n -5.99879352e-03 -2.30946746e-02 -1.30257547e-01 -1.94413774e-02\n -5.97509854e-02 -3.18287350e-02 -8.51569977e-03  7.66273662e-02\n -1.27576687e-03  3.70731764e-02  8.13039839e-02 -6.88908249e-02\n -3.19237970e-02 -2.29283664e-02 -9.98332575e-02 -4.79673743e-02\n  2.05176752e-02  9.62551013e-02  2.44514160e-02 -1.03577271e-01\n -1.12935784e-03  7.93978851e-03 -7.51637742e-02 -6.71883821e-02\n  2.95707937e-02  1.55299343e-02 -6.66981190e-02  7.54099563e-02\n -6.79015145e-02 -8.43651220e-03  1.87371718e-03  3.99240740e-02\n -3.40092182e-02  8.67786165e-03 -3.82370353e-02 -7.54812360e-02\n -5.49758486e-02  4.62332889e-02 -2.48201061e-02  1.24787845e-01\n  7.07942992e-02 -2.77004950e-02 -2.73035672e-02  6.02439791e-02\n  2.24269982e-02  3.28190327e-02  5.37585802e-02  4.67227288e-02\n  1.22571871e-01 -3.43670323e-02  7.17522353e-02 -5.89882098e-02\n  3.03625967e-02 -5.42607643e-02  1.35186575e-02  1.34974703e-01\n -3.16607803e-02  6.41761944e-02 -9.97428596e-02  1.81554891e-02\n -1.34897158e-02 -1.36354402e-01 -6.87263757e-02 -1.56953514e-01\n  2.18912303e-01  4.63108756e-02 -2.23464407e-02 -4.27628048e-02\n  1.93080155e-03  2.18812563e-02  9.65838358e-02 -6.25613779e-02\n -3.85760516e-02 -2.76034623e-02  4.25282419e-02 -7.99341276e-02\n  2.39010565e-02  4.80429232e-02 -9.57635492e-02 -3.58588733e-02\n  4.34306730e-03 -8.14457476e-01  4.36484292e-02 -4.61508743e-02\n  6.75537670e-03  5.95176853e-02 -2.22206395e-02 -4.35714843e-03\n -4.71757885e-05 -8.77994522e-02  9.81620550e-02 -2.57226229e-02\n  8.74894112e-03 -5.04133776e-02  5.73273096e-03 -1.25922617e-02\n  3.93126197e-02  3.19215618e-02 -1.86288115e-02  3.70801724e-02\n -7.04496428e-02  1.17837451e-01  6.02279529e-02 -3.90827768e-02\n  2.88153924e-02  5.33019565e-02 -8.22456181e-02 -1.99833829e-02\n -4.11147401e-02 -3.57147232e-02  3.31488177e-02  6.10638484e-02\n  1.22615965e-02  3.31331939e-02  6.41385932e-03 -3.04352641e-02\n -8.01934481e-01  1.91504892e-03  1.06819265e-01 -2.62520015e-02\n  6.75318390e-02  1.22583276e-02 -1.09772477e-02  3.96938138e-02\n -6.28099963e-02 -1.75217539e-02 -3.94439250e-02 -5.83138503e-02\n  4.22308743e-02  4.07789312e-02  2.11849660e-02  1.31446216e-03\n -4.97799069e-02  1.98660679e-02 -8.27784240e-02  3.81845981e-02\n -1.90680549e-02  5.81603684e-02 -1.12600550e-01  2.33113323e-03\n -1.41430691e-01 -9.37702879e-02  8.75160322e-02 -6.66262060e-02\n  1.55878082e-01  6.80402014e-03  1.29579315e-02  5.03956974e-02\n  4.88977954e-02  2.58712713e-02 -3.76284383e-02  1.15248347e-02\n -2.07206104e-02  3.35340090e-02  9.37207639e-02 -4.67547588e-02\n -4.49592806e-02 -5.72467186e-02 -7.78952092e-02 -7.00326934e-02\n  3.48068913e-03 -9.45797423e-04  1.10192792e-02 -2.74664932e-03\n -8.05257261e-03  4.77265939e-02  1.75398365e-02 -1.29541173e-03\n -6.68646246e-02  1.81569327e-02  5.64126000e-02  1.27926022e-01\n -2.78359056e-02  1.17760291e-02 -6.38850257e-02  1.30397886e-01\n  3.40603665e-02 -4.74544708e-03 -2.06644144e-02 -3.01412418e-02\n  2.31292814e-01 -2.33743675e-02  4.53493036e-02  1.82774011e-02\n -1.29238628e-02  2.73300745e-02 -2.99264342e-02  5.36113307e-02\n -3.43827829e-02 -2.41278801e-02  1.27167344e-01  1.38634264e-01\n -1.15638196e-01  4.33928706e-02 -1.59705296e-01  3.50943916e-02\n -8.08151215e-02  1.95798595e-02 -1.21995322e-01  6.05860688e-02\n  2.82140914e-02 -1.09958053e-02  4.70239529e-03  5.87307364e-02\n  5.32697281e-03  4.13086675e-02 -3.24687287e-02  6.39722720e-02\n  6.23269454e-02  1.50638390e-02 -1.08999304e-01 -6.36038259e-02\n -5.49899554e-03 -6.33371100e-02  5.87505661e-02  6.92490116e-02\n -8.91495030e-04 -5.01700789e-02  8.15209299e-02  2.65964195e-02\n  5.69982454e-02 -8.42297822e-02 -2.36343257e-02 -1.14323363e-01\n -1.49825081e-01 -3.40306088e-02  8.91909003e-03  2.36273315e-02\n -6.26906753e-02 -7.27229342e-02  1.72240082e-02  2.04659998e-01\n  5.00836968e-03 -2.76694521e-02 -8.15197751e-02 -3.66022028e-02\n  6.96652383e-02  1.49935350e-01 -5.67267649e-02  1.34211391e-01\n  8.46284814e-03 -1.50733635e-01  4.21130657e-03 -1.02857180e-01\n  2.54245818e-01 -2.35028565e-02  1.04242086e-01 -8.29761568e-03\n -3.87649909e-02 -5.39948642e-02  2.12657619e-02  9.24627820e-04\n  1.72688756e-02  1.14139721e-01  4.84623127e-02  1.15733117e-01\n  1.67900547e-01  5.48360869e-03  1.96156446e-02  6.25027642e-02\n -5.23288809e-02 -5.14207333e-02  4.35189418e-02  2.74664257e-02\n  6.46658689e-02  1.09636690e-02 -1.40289143e-01  2.96501555e-02\n  7.26857856e-02 -2.24871188e-02 -1.50200576e-02 -2.37231376e-03\n  2.26921141e-02 -4.94113415e-02 -5.31424489e-03  1.10669203e-01]"
        ]
       ],
       "shape": {
        "columns": 4,
        "rows": 5
       }
      },
      "text/html": [
       "<div>\n",
       "<style scoped>\n",
       "    .dataframe tbody tr th:only-of-type {\n",
       "        vertical-align: middle;\n",
       "    }\n",
       "\n",
       "    .dataframe tbody tr th {\n",
       "        vertical-align: top;\n",
       "    }\n",
       "\n",
       "    .dataframe thead th {\n",
       "        text-align: right;\n",
       "    }\n",
       "</style>\n",
       "<table border=\"1\" class=\"dataframe\">\n",
       "  <thead>\n",
       "    <tr style=\"text-align: right;\">\n",
       "      <th></th>\n",
       "      <th>text</th>\n",
       "      <th>label</th>\n",
       "      <th>label_num</th>\n",
       "      <th>vector</th>\n",
       "    </tr>\n",
       "  </thead>\n",
       "  <tbody>\n",
       "    <tr>\n",
       "      <th>0</th>\n",
       "      <td>Top Trump Surrogate BRUTALLY Stabs Him In The...</td>\n",
       "      <td>Fake</td>\n",
       "      <td>0</td>\n",
       "      <td>[-0.103623025, 0.17802684, -0.11873861, -0.034...</td>\n",
       "    </tr>\n",
       "    <tr>\n",
       "      <th>1</th>\n",
       "      <td>U.S. conservative leader optimistic of common ...</td>\n",
       "      <td>Real</td>\n",
       "      <td>1</td>\n",
       "      <td>[-0.0063406364, 0.16712041, -0.06661373, 0.017...</td>\n",
       "    </tr>\n",
       "    <tr>\n",
       "      <th>2</th>\n",
       "      <td>Trump proposes U.S. tax overhaul, stirs concer...</td>\n",
       "      <td>Real</td>\n",
       "      <td>1</td>\n",
       "      <td>[-0.122753024, 0.17192385, -0.024732638, -0.06...</td>\n",
       "    </tr>\n",
       "    <tr>\n",
       "      <th>3</th>\n",
       "      <td>Court Forces Ohio To Allow Millions Of Illega...</td>\n",
       "      <td>Fake</td>\n",
       "      <td>0</td>\n",
       "      <td>[-0.027337318, 0.12501417, -0.0073965387, -0.0...</td>\n",
       "    </tr>\n",
       "    <tr>\n",
       "      <th>4</th>\n",
       "      <td>Democrats say Trump agrees to work on immigrat...</td>\n",
       "      <td>Real</td>\n",
       "      <td>1</td>\n",
       "      <td>[-0.032708026, 0.093958504, -0.03287002, -0.00...</td>\n",
       "    </tr>\n",
       "  </tbody>\n",
       "</table>\n",
       "</div>"
      ],
      "text/plain": [
       "                                                text label  label_num  \\\n",
       "0   Top Trump Surrogate BRUTALLY Stabs Him In The...  Fake          0   \n",
       "1  U.S. conservative leader optimistic of common ...  Real          1   \n",
       "2  Trump proposes U.S. tax overhaul, stirs concer...  Real          1   \n",
       "3   Court Forces Ohio To Allow Millions Of Illega...  Fake          0   \n",
       "4  Democrats say Trump agrees to work on immigrat...  Real          1   \n",
       "\n",
       "                                              vector  \n",
       "0  [-0.103623025, 0.17802684, -0.11873861, -0.034...  \n",
       "1  [-0.0063406364, 0.16712041, -0.06661373, 0.017...  \n",
       "2  [-0.122753024, 0.17192385, -0.024732638, -0.06...  \n",
       "3  [-0.027337318, 0.12501417, -0.0073965387, -0.0...  \n",
       "4  [-0.032708026, 0.093958504, -0.03287002, -0.00...  "
      ]
     },
     "execution_count": 10,
     "metadata": {},
     "output_type": "execute_result"
    }
   ],
   "source": [
    "df.head()"
   ]
  },
  {
   "cell_type": "code",
   "execution_count": 11,
   "id": "6c59134e",
   "metadata": {},
   "outputs": [],
   "source": [
    "from sklearn.model_selection import train_test_split\n",
    "X_train, X_test, y_train, y_test = train_test_split(df[\"vector\"].values, df[\"label_num\"], test_size = 0.2, random_state = 42)"
   ]
  },
  {
   "cell_type": "code",
   "execution_count": 12,
   "id": "567329bb",
   "metadata": {},
   "outputs": [
    {
     "data": {
      "text/plain": [
       "(7920,)"
      ]
     },
     "execution_count": 12,
     "metadata": {},
     "output_type": "execute_result"
    }
   ],
   "source": [
    "X_train.shape"
   ]
  },
  {
   "cell_type": "code",
   "execution_count": 13,
   "id": "ee916f6a",
   "metadata": {},
   "outputs": [
    {
     "data": {
      "text/plain": [
       "(1980,)"
      ]
     },
     "execution_count": 13,
     "metadata": {},
     "output_type": "execute_result"
    }
   ],
   "source": [
    "X_test.shape"
   ]
  },
  {
   "cell_type": "code",
   "execution_count": 16,
   "id": "f570f35a",
   "metadata": {},
   "outputs": [],
   "source": [
    "## In the original array, every single element in the array in itself is a numpy array\n",
    "## Classifier expects 2D numpy array\n",
    "## Use numpy stack function for this purpose\n",
    "\n",
    "X_train_2d = np.stack(X_train)\n",
    "X_test_2d = np.stack(X_test)"
   ]
  },
  {
   "cell_type": "code",
   "execution_count": 20,
   "id": "d808614e",
   "metadata": {},
   "outputs": [
    {
     "data": {
      "text/html": [
       "<style>#sk-container-id-1 {\n",
       "  /* Definition of color scheme common for light and dark mode */\n",
       "  --sklearn-color-text: #000;\n",
       "  --sklearn-color-text-muted: #666;\n",
       "  --sklearn-color-line: gray;\n",
       "  /* Definition of color scheme for unfitted estimators */\n",
       "  --sklearn-color-unfitted-level-0: #fff5e6;\n",
       "  --sklearn-color-unfitted-level-1: #f6e4d2;\n",
       "  --sklearn-color-unfitted-level-2: #ffe0b3;\n",
       "  --sklearn-color-unfitted-level-3: chocolate;\n",
       "  /* Definition of color scheme for fitted estimators */\n",
       "  --sklearn-color-fitted-level-0: #f0f8ff;\n",
       "  --sklearn-color-fitted-level-1: #d4ebff;\n",
       "  --sklearn-color-fitted-level-2: #b3dbfd;\n",
       "  --sklearn-color-fitted-level-3: cornflowerblue;\n",
       "\n",
       "  /* Specific color for light theme */\n",
       "  --sklearn-color-text-on-default-background: var(--sg-text-color, var(--theme-code-foreground, var(--jp-content-font-color1, black)));\n",
       "  --sklearn-color-background: var(--sg-background-color, var(--theme-background, var(--jp-layout-color0, white)));\n",
       "  --sklearn-color-border-box: var(--sg-text-color, var(--theme-code-foreground, var(--jp-content-font-color1, black)));\n",
       "  --sklearn-color-icon: #696969;\n",
       "\n",
       "  @media (prefers-color-scheme: dark) {\n",
       "    /* Redefinition of color scheme for dark theme */\n",
       "    --sklearn-color-text-on-default-background: var(--sg-text-color, var(--theme-code-foreground, var(--jp-content-font-color1, white)));\n",
       "    --sklearn-color-background: var(--sg-background-color, var(--theme-background, var(--jp-layout-color0, #111)));\n",
       "    --sklearn-color-border-box: var(--sg-text-color, var(--theme-code-foreground, var(--jp-content-font-color1, white)));\n",
       "    --sklearn-color-icon: #878787;\n",
       "  }\n",
       "}\n",
       "\n",
       "#sk-container-id-1 {\n",
       "  color: var(--sklearn-color-text);\n",
       "}\n",
       "\n",
       "#sk-container-id-1 pre {\n",
       "  padding: 0;\n",
       "}\n",
       "\n",
       "#sk-container-id-1 input.sk-hidden--visually {\n",
       "  border: 0;\n",
       "  clip: rect(1px 1px 1px 1px);\n",
       "  clip: rect(1px, 1px, 1px, 1px);\n",
       "  height: 1px;\n",
       "  margin: -1px;\n",
       "  overflow: hidden;\n",
       "  padding: 0;\n",
       "  position: absolute;\n",
       "  width: 1px;\n",
       "}\n",
       "\n",
       "#sk-container-id-1 div.sk-dashed-wrapped {\n",
       "  border: 1px dashed var(--sklearn-color-line);\n",
       "  margin: 0 0.4em 0.5em 0.4em;\n",
       "  box-sizing: border-box;\n",
       "  padding-bottom: 0.4em;\n",
       "  background-color: var(--sklearn-color-background);\n",
       "}\n",
       "\n",
       "#sk-container-id-1 div.sk-container {\n",
       "  /* jupyter's `normalize.less` sets `[hidden] { display: none; }`\n",
       "     but bootstrap.min.css set `[hidden] { display: none !important; }`\n",
       "     so we also need the `!important` here to be able to override the\n",
       "     default hidden behavior on the sphinx rendered scikit-learn.org.\n",
       "     See: https://github.com/scikit-learn/scikit-learn/issues/21755 */\n",
       "  display: inline-block !important;\n",
       "  position: relative;\n",
       "}\n",
       "\n",
       "#sk-container-id-1 div.sk-text-repr-fallback {\n",
       "  display: none;\n",
       "}\n",
       "\n",
       "div.sk-parallel-item,\n",
       "div.sk-serial,\n",
       "div.sk-item {\n",
       "  /* draw centered vertical line to link estimators */\n",
       "  background-image: linear-gradient(var(--sklearn-color-text-on-default-background), var(--sklearn-color-text-on-default-background));\n",
       "  background-size: 2px 100%;\n",
       "  background-repeat: no-repeat;\n",
       "  background-position: center center;\n",
       "}\n",
       "\n",
       "/* Parallel-specific style estimator block */\n",
       "\n",
       "#sk-container-id-1 div.sk-parallel-item::after {\n",
       "  content: \"\";\n",
       "  width: 100%;\n",
       "  border-bottom: 2px solid var(--sklearn-color-text-on-default-background);\n",
       "  flex-grow: 1;\n",
       "}\n",
       "\n",
       "#sk-container-id-1 div.sk-parallel {\n",
       "  display: flex;\n",
       "  align-items: stretch;\n",
       "  justify-content: center;\n",
       "  background-color: var(--sklearn-color-background);\n",
       "  position: relative;\n",
       "}\n",
       "\n",
       "#sk-container-id-1 div.sk-parallel-item {\n",
       "  display: flex;\n",
       "  flex-direction: column;\n",
       "}\n",
       "\n",
       "#sk-container-id-1 div.sk-parallel-item:first-child::after {\n",
       "  align-self: flex-end;\n",
       "  width: 50%;\n",
       "}\n",
       "\n",
       "#sk-container-id-1 div.sk-parallel-item:last-child::after {\n",
       "  align-self: flex-start;\n",
       "  width: 50%;\n",
       "}\n",
       "\n",
       "#sk-container-id-1 div.sk-parallel-item:only-child::after {\n",
       "  width: 0;\n",
       "}\n",
       "\n",
       "/* Serial-specific style estimator block */\n",
       "\n",
       "#sk-container-id-1 div.sk-serial {\n",
       "  display: flex;\n",
       "  flex-direction: column;\n",
       "  align-items: center;\n",
       "  background-color: var(--sklearn-color-background);\n",
       "  padding-right: 1em;\n",
       "  padding-left: 1em;\n",
       "}\n",
       "\n",
       "\n",
       "/* Toggleable style: style used for estimator/Pipeline/ColumnTransformer box that is\n",
       "clickable and can be expanded/collapsed.\n",
       "- Pipeline and ColumnTransformer use this feature and define the default style\n",
       "- Estimators will overwrite some part of the style using the `sk-estimator` class\n",
       "*/\n",
       "\n",
       "/* Pipeline and ColumnTransformer style (default) */\n",
       "\n",
       "#sk-container-id-1 div.sk-toggleable {\n",
       "  /* Default theme specific background. It is overwritten whether we have a\n",
       "  specific estimator or a Pipeline/ColumnTransformer */\n",
       "  background-color: var(--sklearn-color-background);\n",
       "}\n",
       "\n",
       "/* Toggleable label */\n",
       "#sk-container-id-1 label.sk-toggleable__label {\n",
       "  cursor: pointer;\n",
       "  display: flex;\n",
       "  width: 100%;\n",
       "  margin-bottom: 0;\n",
       "  padding: 0.5em;\n",
       "  box-sizing: border-box;\n",
       "  text-align: center;\n",
       "  align-items: start;\n",
       "  justify-content: space-between;\n",
       "  gap: 0.5em;\n",
       "}\n",
       "\n",
       "#sk-container-id-1 label.sk-toggleable__label .caption {\n",
       "  font-size: 0.6rem;\n",
       "  font-weight: lighter;\n",
       "  color: var(--sklearn-color-text-muted);\n",
       "}\n",
       "\n",
       "#sk-container-id-1 label.sk-toggleable__label-arrow:before {\n",
       "  /* Arrow on the left of the label */\n",
       "  content: \"▸\";\n",
       "  float: left;\n",
       "  margin-right: 0.25em;\n",
       "  color: var(--sklearn-color-icon);\n",
       "}\n",
       "\n",
       "#sk-container-id-1 label.sk-toggleable__label-arrow:hover:before {\n",
       "  color: var(--sklearn-color-text);\n",
       "}\n",
       "\n",
       "/* Toggleable content - dropdown */\n",
       "\n",
       "#sk-container-id-1 div.sk-toggleable__content {\n",
       "  max-height: 0;\n",
       "  max-width: 0;\n",
       "  overflow: hidden;\n",
       "  text-align: left;\n",
       "  /* unfitted */\n",
       "  background-color: var(--sklearn-color-unfitted-level-0);\n",
       "}\n",
       "\n",
       "#sk-container-id-1 div.sk-toggleable__content.fitted {\n",
       "  /* fitted */\n",
       "  background-color: var(--sklearn-color-fitted-level-0);\n",
       "}\n",
       "\n",
       "#sk-container-id-1 div.sk-toggleable__content pre {\n",
       "  margin: 0.2em;\n",
       "  border-radius: 0.25em;\n",
       "  color: var(--sklearn-color-text);\n",
       "  /* unfitted */\n",
       "  background-color: var(--sklearn-color-unfitted-level-0);\n",
       "}\n",
       "\n",
       "#sk-container-id-1 div.sk-toggleable__content.fitted pre {\n",
       "  /* unfitted */\n",
       "  background-color: var(--sklearn-color-fitted-level-0);\n",
       "}\n",
       "\n",
       "#sk-container-id-1 input.sk-toggleable__control:checked~div.sk-toggleable__content {\n",
       "  /* Expand drop-down */\n",
       "  max-height: 200px;\n",
       "  max-width: 100%;\n",
       "  overflow: auto;\n",
       "}\n",
       "\n",
       "#sk-container-id-1 input.sk-toggleable__control:checked~label.sk-toggleable__label-arrow:before {\n",
       "  content: \"▾\";\n",
       "}\n",
       "\n",
       "/* Pipeline/ColumnTransformer-specific style */\n",
       "\n",
       "#sk-container-id-1 div.sk-label input.sk-toggleable__control:checked~label.sk-toggleable__label {\n",
       "  color: var(--sklearn-color-text);\n",
       "  background-color: var(--sklearn-color-unfitted-level-2);\n",
       "}\n",
       "\n",
       "#sk-container-id-1 div.sk-label.fitted input.sk-toggleable__control:checked~label.sk-toggleable__label {\n",
       "  background-color: var(--sklearn-color-fitted-level-2);\n",
       "}\n",
       "\n",
       "/* Estimator-specific style */\n",
       "\n",
       "/* Colorize estimator box */\n",
       "#sk-container-id-1 div.sk-estimator input.sk-toggleable__control:checked~label.sk-toggleable__label {\n",
       "  /* unfitted */\n",
       "  background-color: var(--sklearn-color-unfitted-level-2);\n",
       "}\n",
       "\n",
       "#sk-container-id-1 div.sk-estimator.fitted input.sk-toggleable__control:checked~label.sk-toggleable__label {\n",
       "  /* fitted */\n",
       "  background-color: var(--sklearn-color-fitted-level-2);\n",
       "}\n",
       "\n",
       "#sk-container-id-1 div.sk-label label.sk-toggleable__label,\n",
       "#sk-container-id-1 div.sk-label label {\n",
       "  /* The background is the default theme color */\n",
       "  color: var(--sklearn-color-text-on-default-background);\n",
       "}\n",
       "\n",
       "/* On hover, darken the color of the background */\n",
       "#sk-container-id-1 div.sk-label:hover label.sk-toggleable__label {\n",
       "  color: var(--sklearn-color-text);\n",
       "  background-color: var(--sklearn-color-unfitted-level-2);\n",
       "}\n",
       "\n",
       "/* Label box, darken color on hover, fitted */\n",
       "#sk-container-id-1 div.sk-label.fitted:hover label.sk-toggleable__label.fitted {\n",
       "  color: var(--sklearn-color-text);\n",
       "  background-color: var(--sklearn-color-fitted-level-2);\n",
       "}\n",
       "\n",
       "/* Estimator label */\n",
       "\n",
       "#sk-container-id-1 div.sk-label label {\n",
       "  font-family: monospace;\n",
       "  font-weight: bold;\n",
       "  display: inline-block;\n",
       "  line-height: 1.2em;\n",
       "}\n",
       "\n",
       "#sk-container-id-1 div.sk-label-container {\n",
       "  text-align: center;\n",
       "}\n",
       "\n",
       "/* Estimator-specific */\n",
       "#sk-container-id-1 div.sk-estimator {\n",
       "  font-family: monospace;\n",
       "  border: 1px dotted var(--sklearn-color-border-box);\n",
       "  border-radius: 0.25em;\n",
       "  box-sizing: border-box;\n",
       "  margin-bottom: 0.5em;\n",
       "  /* unfitted */\n",
       "  background-color: var(--sklearn-color-unfitted-level-0);\n",
       "}\n",
       "\n",
       "#sk-container-id-1 div.sk-estimator.fitted {\n",
       "  /* fitted */\n",
       "  background-color: var(--sklearn-color-fitted-level-0);\n",
       "}\n",
       "\n",
       "/* on hover */\n",
       "#sk-container-id-1 div.sk-estimator:hover {\n",
       "  /* unfitted */\n",
       "  background-color: var(--sklearn-color-unfitted-level-2);\n",
       "}\n",
       "\n",
       "#sk-container-id-1 div.sk-estimator.fitted:hover {\n",
       "  /* fitted */\n",
       "  background-color: var(--sklearn-color-fitted-level-2);\n",
       "}\n",
       "\n",
       "/* Specification for estimator info (e.g. \"i\" and \"?\") */\n",
       "\n",
       "/* Common style for \"i\" and \"?\" */\n",
       "\n",
       ".sk-estimator-doc-link,\n",
       "a:link.sk-estimator-doc-link,\n",
       "a:visited.sk-estimator-doc-link {\n",
       "  float: right;\n",
       "  font-size: smaller;\n",
       "  line-height: 1em;\n",
       "  font-family: monospace;\n",
       "  background-color: var(--sklearn-color-background);\n",
       "  border-radius: 1em;\n",
       "  height: 1em;\n",
       "  width: 1em;\n",
       "  text-decoration: none !important;\n",
       "  margin-left: 0.5em;\n",
       "  text-align: center;\n",
       "  /* unfitted */\n",
       "  border: var(--sklearn-color-unfitted-level-1) 1pt solid;\n",
       "  color: var(--sklearn-color-unfitted-level-1);\n",
       "}\n",
       "\n",
       ".sk-estimator-doc-link.fitted,\n",
       "a:link.sk-estimator-doc-link.fitted,\n",
       "a:visited.sk-estimator-doc-link.fitted {\n",
       "  /* fitted */\n",
       "  border: var(--sklearn-color-fitted-level-1) 1pt solid;\n",
       "  color: var(--sklearn-color-fitted-level-1);\n",
       "}\n",
       "\n",
       "/* On hover */\n",
       "div.sk-estimator:hover .sk-estimator-doc-link:hover,\n",
       ".sk-estimator-doc-link:hover,\n",
       "div.sk-label-container:hover .sk-estimator-doc-link:hover,\n",
       ".sk-estimator-doc-link:hover {\n",
       "  /* unfitted */\n",
       "  background-color: var(--sklearn-color-unfitted-level-3);\n",
       "  color: var(--sklearn-color-background);\n",
       "  text-decoration: none;\n",
       "}\n",
       "\n",
       "div.sk-estimator.fitted:hover .sk-estimator-doc-link.fitted:hover,\n",
       ".sk-estimator-doc-link.fitted:hover,\n",
       "div.sk-label-container:hover .sk-estimator-doc-link.fitted:hover,\n",
       ".sk-estimator-doc-link.fitted:hover {\n",
       "  /* fitted */\n",
       "  background-color: var(--sklearn-color-fitted-level-3);\n",
       "  color: var(--sklearn-color-background);\n",
       "  text-decoration: none;\n",
       "}\n",
       "\n",
       "/* Span, style for the box shown on hovering the info icon */\n",
       ".sk-estimator-doc-link span {\n",
       "  display: none;\n",
       "  z-index: 9999;\n",
       "  position: relative;\n",
       "  font-weight: normal;\n",
       "  right: .2ex;\n",
       "  padding: .5ex;\n",
       "  margin: .5ex;\n",
       "  width: min-content;\n",
       "  min-width: 20ex;\n",
       "  max-width: 50ex;\n",
       "  color: var(--sklearn-color-text);\n",
       "  box-shadow: 2pt 2pt 4pt #999;\n",
       "  /* unfitted */\n",
       "  background: var(--sklearn-color-unfitted-level-0);\n",
       "  border: .5pt solid var(--sklearn-color-unfitted-level-3);\n",
       "}\n",
       "\n",
       ".sk-estimator-doc-link.fitted span {\n",
       "  /* fitted */\n",
       "  background: var(--sklearn-color-fitted-level-0);\n",
       "  border: var(--sklearn-color-fitted-level-3);\n",
       "}\n",
       "\n",
       ".sk-estimator-doc-link:hover span {\n",
       "  display: block;\n",
       "}\n",
       "\n",
       "/* \"?\"-specific style due to the `<a>` HTML tag */\n",
       "\n",
       "#sk-container-id-1 a.estimator_doc_link {\n",
       "  float: right;\n",
       "  font-size: 1rem;\n",
       "  line-height: 1em;\n",
       "  font-family: monospace;\n",
       "  background-color: var(--sklearn-color-background);\n",
       "  border-radius: 1rem;\n",
       "  height: 1rem;\n",
       "  width: 1rem;\n",
       "  text-decoration: none;\n",
       "  /* unfitted */\n",
       "  color: var(--sklearn-color-unfitted-level-1);\n",
       "  border: var(--sklearn-color-unfitted-level-1) 1pt solid;\n",
       "}\n",
       "\n",
       "#sk-container-id-1 a.estimator_doc_link.fitted {\n",
       "  /* fitted */\n",
       "  border: var(--sklearn-color-fitted-level-1) 1pt solid;\n",
       "  color: var(--sklearn-color-fitted-level-1);\n",
       "}\n",
       "\n",
       "/* On hover */\n",
       "#sk-container-id-1 a.estimator_doc_link:hover {\n",
       "  /* unfitted */\n",
       "  background-color: var(--sklearn-color-unfitted-level-3);\n",
       "  color: var(--sklearn-color-background);\n",
       "  text-decoration: none;\n",
       "}\n",
       "\n",
       "#sk-container-id-1 a.estimator_doc_link.fitted:hover {\n",
       "  /* fitted */\n",
       "  background-color: var(--sklearn-color-fitted-level-3);\n",
       "}\n",
       "</style><div id=\"sk-container-id-1\" class=\"sk-top-container\"><div class=\"sk-text-repr-fallback\"><pre>MultinomialNB()</pre><b>In a Jupyter environment, please rerun this cell to show the HTML representation or trust the notebook. <br />On GitHub, the HTML representation is unable to render, please try loading this page with nbviewer.org.</b></div><div class=\"sk-container\" hidden><div class=\"sk-item\"><div class=\"sk-estimator fitted sk-toggleable\"><input class=\"sk-toggleable__control sk-hidden--visually\" id=\"sk-estimator-id-1\" type=\"checkbox\" checked><label for=\"sk-estimator-id-1\" class=\"sk-toggleable__label fitted sk-toggleable__label-arrow\"><div><div>MultinomialNB</div></div><div><a class=\"sk-estimator-doc-link fitted\" rel=\"noreferrer\" target=\"_blank\" href=\"https://scikit-learn.org/1.6/modules/generated/sklearn.naive_bayes.MultinomialNB.html\">?<span>Documentation for MultinomialNB</span></a><span class=\"sk-estimator-doc-link fitted\">i<span>Fitted</span></span></div></label><div class=\"sk-toggleable__content fitted\"><pre>MultinomialNB()</pre></div> </div></div></div></div>"
      ],
      "text/plain": [
       "MultinomialNB()"
      ]
     },
     "execution_count": 20,
     "metadata": {},
     "output_type": "execute_result"
    }
   ],
   "source": [
    "clf = MultinomialNB()\n",
    "## MultinomialNB won't work with negative values\n",
    "# clf.fit(X_train_2d, y_train)\n",
    "\n",
    "## Apply scaling \n",
    "scaler = MinMaxScaler()\n",
    "scaler_train_embed = scaler.fit_transform(X_train_2d)\n",
    "scaler_test_embed = scaler.transform(X_test_2d)\n",
    "\n",
    "clf.fit(scaler_train_embed, y_train)"
   ]
  },
  {
   "cell_type": "code",
   "execution_count": 24,
   "id": "2630787e",
   "metadata": {},
   "outputs": [
    {
     "name": "stdout",
     "output_type": "stream",
     "text": [
      "              precision    recall  f1-score   support\n",
      "\n",
      "           0       0.94      0.96      0.95       973\n",
      "           1       0.96      0.94      0.95      1007\n",
      "\n",
      "    accuracy                           0.95      1980\n",
      "   macro avg       0.95      0.95      0.95      1980\n",
      "weighted avg       0.95      0.95      0.95      1980\n",
      "\n"
     ]
    }
   ],
   "source": [
    "y_pred = clf.predict(scaler_test_embed)\n",
    "print(classification_report(y_test, y_pred))"
   ]
  },
  {
   "cell_type": "code",
   "execution_count": 27,
   "id": "1ca50d11",
   "metadata": {},
   "outputs": [
    {
     "name": "stdout",
     "output_type": "stream",
     "text": [
      "              precision    recall  f1-score   support\n",
      "\n",
      "           0       0.99      0.97      0.98       973\n",
      "           1       0.97      0.99      0.98      1007\n",
      "\n",
      "    accuracy                           0.98      1980\n",
      "   macro avg       0.98      0.98      0.98      1980\n",
      "weighted avg       0.98      0.98      0.98      1980\n",
      "\n"
     ]
    }
   ],
   "source": [
    "clf = KNeighborsClassifier(n_neighbors = 5, metric = \"euclidean\")\n",
    "clf.fit(X_train_2d, y_train)\n",
    "y_pred = clf.predict(X_test_2d)\n",
    "print(classification_report(y_test, y_pred))"
   ]
  }
 ],
 "metadata": {
  "kernelspec": {
   "display_name": "nlp_env",
   "language": "python",
   "name": "python3"
  },
  "language_info": {
   "codemirror_mode": {
    "name": "ipython",
    "version": 3
   },
   "file_extension": ".py",
   "mimetype": "text/x-python",
   "name": "python",
   "nbconvert_exporter": "python",
   "pygments_lexer": "ipython3",
   "version": "3.12.5"
  }
 },
 "nbformat": 4,
 "nbformat_minor": 5
}
